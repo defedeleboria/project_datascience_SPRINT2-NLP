{
  "cells": [
    {
      "cell_type": "markdown",
      "metadata": {
        "id": "pljdz--nPEEX"
      },
      "source": [
        "# Segunda entrega\n",
        "\n",
        "En esta segunda entrega vamos a hacer un análisis de reviews en Yelp.\n",
        "\n",
        "Dado el dataset reviews.csv subido al Trello del curso, deberán hacer un análisis de las reviews.\n",
        "\n",
        "El análisis no tiene limites y pueden agregar todas las ideas que les surjan, pero como mínimo debe incluir: keywords y tópicos por negocio (business id), sentimiento de cada review, entidades por review, negocio con más comentarios positivos y negocio con más comentarios negativos.\n",
        "\n",
        "Además, pueden agregar por ejemplo (Opcional): Tópicos asociados sentimientos, keywords asociadas a sentimientos, sentimientos a lo largo del tiempo (utilizando la columna date)...\n",
        "\n",
        "### Entrega\n",
        "\n",
        "**Fecha limite**: 10 de Diciembre 2023.\n",
        "\n",
        "Deben compartir el notebook con todo el análisis realizado por mail a hugofolonier@gmail.com.\n",
        "\n",
        "\n",
        "### Presentación\n",
        "\n",
        "**Fecha**: 9 de Enero 2024 (o la fecha correspondiente a la Clase 39).\n",
        "\n",
        "La presentación **NO debe ser una presentación del notebook**. La presentación debe constar de filminas que muestren los **resultados** que obtuvieron, mencionar herramientas que utiliaron, que decisiones tomaron y conclusiones. No deben mostrar nada de código en la presentación.\n",
        "\n",
        "Una vez que ya hayan presentado (por ejemplo un powerpoint), podemos resolver las dudas que surjan sobre código, etc."
      ]
    },
    {
      "cell_type": "markdown",
      "metadata": {
        "id": "HRdG0BSD0ZBl"
      },
      "source": [
        "\n",
        "\n",
        "---\n",
        "\n"
      ]
    },
    {
      "cell_type": "markdown",
      "metadata": {
        "id": "iN87OV7C0aTV"
      },
      "source": [
        "**ÍCARO - DATA SCIENCE 0423** | **ENTREGABLE 2 - NPL**\n",
        "\n",
        "**Integrantes Grupo 7:** Brown, Ignacio - Fedele, Delicia - Santos, Martín"
      ]
    },
    {
      "cell_type": "markdown",
      "metadata": {
        "id": "fcPadImS0r5y"
      },
      "source": [
        "\n",
        "\n",
        "---\n",
        "\n"
      ]
    },
    {
      "cell_type": "markdown",
      "metadata": {
        "id": "BoYX0W2pXQYv"
      },
      "source": [
        "**SECCIÓN 1:** BIBLIOTECAS Y LIBRERÍAS\n",
        "\n"
      ]
    },
    {
      "cell_type": "code",
      "execution_count": null,
      "metadata": {
        "id": "rNqmM_C7M9Md"
      },
      "outputs": [],
      "source": [
        "!pip install nltk"
      ]
    },
    {
      "cell_type": "code",
      "execution_count": null,
      "metadata": {
        "id": "E4JObrzTljFs"
      },
      "outputs": [],
      "source": [
        "!pip install textblob"
      ]
    },
    {
      "cell_type": "code",
      "execution_count": null,
      "metadata": {
        "colab": {
          "base_uri": "https://localhost:8080/"
        },
        "id": "7-4yxObimOhf",
        "outputId": "28fd0881-8e78-4b66-e528-dd8953c56394"
      },
      "outputs": [
        {
          "output_type": "stream",
          "name": "stdout",
          "text": [
            "Requirement already satisfied: seaborn in /usr/local/lib/python3.10/dist-packages (0.12.2)\n",
            "Requirement already satisfied: numpy!=1.24.0,>=1.17 in /usr/local/lib/python3.10/dist-packages (from seaborn) (1.23.5)\n",
            "Requirement already satisfied: pandas>=0.25 in /usr/local/lib/python3.10/dist-packages (from seaborn) (1.5.3)\n",
            "Requirement already satisfied: matplotlib!=3.6.1,>=3.1 in /usr/local/lib/python3.10/dist-packages (from seaborn) (3.7.1)\n",
            "Requirement already satisfied: contourpy>=1.0.1 in /usr/local/lib/python3.10/dist-packages (from matplotlib!=3.6.1,>=3.1->seaborn) (1.2.0)\n",
            "Requirement already satisfied: cycler>=0.10 in /usr/local/lib/python3.10/dist-packages (from matplotlib!=3.6.1,>=3.1->seaborn) (0.12.1)\n",
            "Requirement already satisfied: fonttools>=4.22.0 in /usr/local/lib/python3.10/dist-packages (from matplotlib!=3.6.1,>=3.1->seaborn) (4.46.0)\n",
            "Requirement already satisfied: kiwisolver>=1.0.1 in /usr/local/lib/python3.10/dist-packages (from matplotlib!=3.6.1,>=3.1->seaborn) (1.4.5)\n",
            "Requirement already satisfied: packaging>=20.0 in /usr/local/lib/python3.10/dist-packages (from matplotlib!=3.6.1,>=3.1->seaborn) (23.2)\n",
            "Requirement already satisfied: pillow>=6.2.0 in /usr/local/lib/python3.10/dist-packages (from matplotlib!=3.6.1,>=3.1->seaborn) (9.4.0)\n",
            "Requirement already satisfied: pyparsing>=2.3.1 in /usr/local/lib/python3.10/dist-packages (from matplotlib!=3.6.1,>=3.1->seaborn) (3.1.1)\n",
            "Requirement already satisfied: python-dateutil>=2.7 in /usr/local/lib/python3.10/dist-packages (from matplotlib!=3.6.1,>=3.1->seaborn) (2.8.2)\n",
            "Requirement already satisfied: pytz>=2020.1 in /usr/local/lib/python3.10/dist-packages (from pandas>=0.25->seaborn) (2023.3.post1)\n",
            "Requirement already satisfied: six>=1.5 in /usr/local/lib/python3.10/dist-packages (from python-dateutil>=2.7->matplotlib!=3.6.1,>=3.1->seaborn) (1.16.0)\n"
          ]
        }
      ],
      "source": [
        "!pip install seaborn"
      ]
    },
    {
      "cell_type": "code",
      "execution_count": null,
      "metadata": {
        "colab": {
          "base_uri": "https://localhost:8080/"
        },
        "id": "XBwTB6QbqwN7",
        "outputId": "dc2d5ac5-0c9a-4ef4-c618-039cdd6cb206"
      },
      "outputs": [
        {
          "output_type": "stream",
          "name": "stdout",
          "text": [
            "Requirement already satisfied: spacy in /usr/local/lib/python3.10/dist-packages (3.6.1)\n",
            "Requirement already satisfied: spacy-legacy<3.1.0,>=3.0.11 in /usr/local/lib/python3.10/dist-packages (from spacy) (3.0.12)\n",
            "Requirement already satisfied: spacy-loggers<2.0.0,>=1.0.0 in /usr/local/lib/python3.10/dist-packages (from spacy) (1.0.5)\n",
            "Requirement already satisfied: murmurhash<1.1.0,>=0.28.0 in /usr/local/lib/python3.10/dist-packages (from spacy) (1.0.10)\n",
            "Requirement already satisfied: cymem<2.1.0,>=2.0.2 in /usr/local/lib/python3.10/dist-packages (from spacy) (2.0.8)\n",
            "Requirement already satisfied: preshed<3.1.0,>=3.0.2 in /usr/local/lib/python3.10/dist-packages (from spacy) (3.0.9)\n",
            "Requirement already satisfied: thinc<8.2.0,>=8.1.8 in /usr/local/lib/python3.10/dist-packages (from spacy) (8.1.12)\n",
            "Requirement already satisfied: wasabi<1.2.0,>=0.9.1 in /usr/local/lib/python3.10/dist-packages (from spacy) (1.1.2)\n",
            "Requirement already satisfied: srsly<3.0.0,>=2.4.3 in /usr/local/lib/python3.10/dist-packages (from spacy) (2.4.8)\n",
            "Requirement already satisfied: catalogue<2.1.0,>=2.0.6 in /usr/local/lib/python3.10/dist-packages (from spacy) (2.0.10)\n",
            "Requirement already satisfied: typer<0.10.0,>=0.3.0 in /usr/local/lib/python3.10/dist-packages (from spacy) (0.9.0)\n",
            "Requirement already satisfied: pathy>=0.10.0 in /usr/local/lib/python3.10/dist-packages (from spacy) (0.10.3)\n",
            "Requirement already satisfied: smart-open<7.0.0,>=5.2.1 in /usr/local/lib/python3.10/dist-packages (from spacy) (6.4.0)\n",
            "Requirement already satisfied: tqdm<5.0.0,>=4.38.0 in /usr/local/lib/python3.10/dist-packages (from spacy) (4.66.1)\n",
            "Requirement already satisfied: numpy>=1.15.0 in /usr/local/lib/python3.10/dist-packages (from spacy) (1.23.5)\n",
            "Requirement already satisfied: requests<3.0.0,>=2.13.0 in /usr/local/lib/python3.10/dist-packages (from spacy) (2.31.0)\n",
            "Requirement already satisfied: pydantic!=1.8,!=1.8.1,<3.0.0,>=1.7.4 in /usr/local/lib/python3.10/dist-packages (from spacy) (1.10.13)\n",
            "Requirement already satisfied: jinja2 in /usr/local/lib/python3.10/dist-packages (from spacy) (3.1.2)\n",
            "Requirement already satisfied: setuptools in /usr/local/lib/python3.10/dist-packages (from spacy) (67.7.2)\n",
            "Requirement already satisfied: packaging>=20.0 in /usr/local/lib/python3.10/dist-packages (from spacy) (23.2)\n",
            "Requirement already satisfied: langcodes<4.0.0,>=3.2.0 in /usr/local/lib/python3.10/dist-packages (from spacy) (3.3.0)\n",
            "Requirement already satisfied: typing-extensions>=4.2.0 in /usr/local/lib/python3.10/dist-packages (from pydantic!=1.8,!=1.8.1,<3.0.0,>=1.7.4->spacy) (4.5.0)\n",
            "Requirement already satisfied: charset-normalizer<4,>=2 in /usr/local/lib/python3.10/dist-packages (from requests<3.0.0,>=2.13.0->spacy) (3.3.2)\n",
            "Requirement already satisfied: idna<4,>=2.5 in /usr/local/lib/python3.10/dist-packages (from requests<3.0.0,>=2.13.0->spacy) (3.6)\n",
            "Requirement already satisfied: urllib3<3,>=1.21.1 in /usr/local/lib/python3.10/dist-packages (from requests<3.0.0,>=2.13.0->spacy) (2.0.7)\n",
            "Requirement already satisfied: certifi>=2017.4.17 in /usr/local/lib/python3.10/dist-packages (from requests<3.0.0,>=2.13.0->spacy) (2023.11.17)\n",
            "Requirement already satisfied: blis<0.8.0,>=0.7.8 in /usr/local/lib/python3.10/dist-packages (from thinc<8.2.0,>=8.1.8->spacy) (0.7.11)\n",
            "Requirement already satisfied: confection<1.0.0,>=0.0.1 in /usr/local/lib/python3.10/dist-packages (from thinc<8.2.0,>=8.1.8->spacy) (0.1.4)\n",
            "Requirement already satisfied: click<9.0.0,>=7.1.1 in /usr/local/lib/python3.10/dist-packages (from typer<0.10.0,>=0.3.0->spacy) (8.1.7)\n",
            "Requirement already satisfied: MarkupSafe>=2.0 in /usr/local/lib/python3.10/dist-packages (from jinja2->spacy) (2.1.3)\n",
            "Collecting afinn\n",
            "  Downloading afinn-0.1.tar.gz (52 kB)\n",
            "\u001b[2K     \u001b[90m━━━━━━━━━━━━━━━━━━━━━━━━━━━━━━━━━━━━━━━━\u001b[0m \u001b[32m52.6/52.6 kB\u001b[0m \u001b[31m461.3 kB/s\u001b[0m eta \u001b[36m0:00:00\u001b[0m\n",
            "\u001b[?25h  Preparing metadata (setup.py) ... \u001b[?25l\u001b[?25hdone\n",
            "Building wheels for collected packages: afinn\n",
            "  Building wheel for afinn (setup.py) ... \u001b[?25l\u001b[?25hdone\n",
            "  Created wheel for afinn: filename=afinn-0.1-py3-none-any.whl size=53429 sha256=7a9619d7cf95441fefdc05118620701a72f7ac497acdb000f30ec16141a3ef4d\n",
            "  Stored in directory: /root/.cache/pip/wheels/b0/05/90/43f79196199a138fb486902fceca30a2d1b5228e6d2db8eb90\n",
            "Successfully built afinn\n",
            "Installing collected packages: afinn\n",
            "Successfully installed afinn-0.1\n"
          ]
        }
      ],
      "source": [
        "!pip install spacy\n",
        "!pip install afinn"
      ]
    },
    {
      "cell_type": "code",
      "execution_count": null,
      "metadata": {
        "id": "JSYyJ_dYki_8"
      },
      "outputs": [],
      "source": [
        "import pandas as pd\n",
        "import matplotlib.pyplot as plt\n",
        "import seaborn as sns\n",
        "import nltk\n",
        "import spacy\n",
        "import re\n",
        "import numpy as np\n",
        "\n",
        "from nltk.tokenize import word_tokenize, sent_tokenize\n",
        "from nltk.corpus import stopwords\n",
        "from nltk.stem import WordNetLemmatizer\n",
        "from nltk.stem import PorterStemmer\n",
        "from textblob import TextBlob\n",
        "from afinn import Afinn\n",
        "from collections import Counter\n",
        "from nltk import ngrams\n",
        "from nltk import bigrams\n",
        "from nltk.probability import FreqDist\n",
        "from sklearn.linear_model import LinearRegression\n",
        "from sklearn.preprocessing import PolynomialFeatures\n",
        "from sklearn.pipeline import make_pipeline\n",
        "from transformers import pipeline"
      ]
    },
    {
      "cell_type": "markdown",
      "metadata": {
        "id": "xouFQPYUXZ2R"
      },
      "source": [
        "**SECCIÓN 2:** EXTRACCIÓN Y EXPLORACIÓN DE DATOS"
      ]
    },
    {
      "cell_type": "code",
      "execution_count": null,
      "metadata": {
        "id": "TGZtmtL4PTEn"
      },
      "outputs": [],
      "source": [
        "#Se carga el dataset, se explora la información de las columnas y el tipo de datos que contiene y se visualiza."
      ]
    },
    {
      "cell_type": "code",
      "execution_count": null,
      "metadata": {
        "id": "j6NQ-6Ijkjo9"
      },
      "outputs": [],
      "source": [
        "rev = pd.read_csv('reviews.csv')"
      ]
    },
    {
      "cell_type": "code",
      "execution_count": null,
      "metadata": {
        "colab": {
          "base_uri": "https://localhost:8080/"
        },
        "id": "-Zv14Z_Bl8Hh",
        "outputId": "0b91181c-c630-409f-8644-63af6e168cca"
      },
      "outputs": [
        {
          "output_type": "stream",
          "name": "stdout",
          "text": [
            "<class 'pandas.core.frame.DataFrame'>\n",
            "RangeIndex: 27290 entries, 0 to 27289\n",
            "Data columns (total 10 columns):\n",
            " #   Column        Non-Null Count  Dtype \n",
            "---  ------        --------------  ----- \n",
            " 0   user_id       27290 non-null  object\n",
            " 1   review_id     27290 non-null  object\n",
            " 2   text          27290 non-null  object\n",
            " 3   votes.cool    27290 non-null  int64 \n",
            " 4   business_id   27290 non-null  object\n",
            " 5   votes.funny   27290 non-null  int64 \n",
            " 6   stars         27290 non-null  int64 \n",
            " 7   date          27290 non-null  object\n",
            " 8   type          27290 non-null  object\n",
            " 9   votes.useful  27290 non-null  int64 \n",
            "dtypes: int64(4), object(6)\n",
            "memory usage: 2.1+ MB\n"
          ]
        }
      ],
      "source": [
        "rev.info()"
      ]
    },
    {
      "cell_type": "code",
      "execution_count": null,
      "metadata": {
        "colab": {
          "base_uri": "https://localhost:8080/",
          "height": 501
        },
        "id": "kFEKvBH4mBWw",
        "outputId": "6254850e-0333-4838-efa1-84cfbec64602"
      },
      "outputs": [
        {
          "output_type": "execute_result",
          "data": {
            "text/plain": [
              "                  user_id               review_id  \\\n",
              "0  PUFPaY9KxDAcGqfsorJp3Q  Ya85v4eqdd6k9Od8HbQjyA   \n",
              "1  Iu6AxdBYGR4A0wspR9BYHA  KPvLNJ21_4wbYNctrOwWdQ   \n",
              "2  auESFwWvW42h6alXgFxAXQ  fFSoGV46Yxuwbr3fHNuZig   \n",
              "3  uK8tzraOp4M5u3uYrqIBXg  Di3exaUCFNw1V4kSNW5pgA   \n",
              "4  I_47G-R2_egp7ME5u_ltew  0Lua2-PbqEQMjD9r89-asw   \n",
              "\n",
              "                                                text  votes.cool  \\\n",
              "0  Mr Hoagie is an institution. Walking in, it do...           0   \n",
              "1  Excellent food. Superb customer service. I mis...           0   \n",
              "2  Yes this place is a little out dated and not o...           0   \n",
              "3  All the food is great here. But the best thing...           0   \n",
              "4  We checked this place out this past Monday for...           0   \n",
              "\n",
              "              business_id  votes.funny  stars        date    type  \\\n",
              "0  5UmKMjUEUNdYWqANhGckJw            0      4  2012-08-01  review   \n",
              "1  5UmKMjUEUNdYWqANhGckJw            0      5  2014-02-13  review   \n",
              "2  5UmKMjUEUNdYWqANhGckJw            0      5  2015-10-31  review   \n",
              "3  UsFtqoBl7naz8AVUBZMjQQ            0      5  2013-11-08  review   \n",
              "4  UsFtqoBl7naz8AVUBZMjQQ            0      3  2014-03-29  review   \n",
              "\n",
              "   votes.useful  \n",
              "0             0  \n",
              "1             0  \n",
              "2             0  \n",
              "3             0  \n",
              "4             0  "
            ],
            "text/html": [
              "\n",
              "  <div id=\"df-b6ca0ffc-1990-4033-8ced-61e69a82549c\" class=\"colab-df-container\">\n",
              "    <div>\n",
              "<style scoped>\n",
              "    .dataframe tbody tr th:only-of-type {\n",
              "        vertical-align: middle;\n",
              "    }\n",
              "\n",
              "    .dataframe tbody tr th {\n",
              "        vertical-align: top;\n",
              "    }\n",
              "\n",
              "    .dataframe thead th {\n",
              "        text-align: right;\n",
              "    }\n",
              "</style>\n",
              "<table border=\"1\" class=\"dataframe\">\n",
              "  <thead>\n",
              "    <tr style=\"text-align: right;\">\n",
              "      <th></th>\n",
              "      <th>user_id</th>\n",
              "      <th>review_id</th>\n",
              "      <th>text</th>\n",
              "      <th>votes.cool</th>\n",
              "      <th>business_id</th>\n",
              "      <th>votes.funny</th>\n",
              "      <th>stars</th>\n",
              "      <th>date</th>\n",
              "      <th>type</th>\n",
              "      <th>votes.useful</th>\n",
              "    </tr>\n",
              "  </thead>\n",
              "  <tbody>\n",
              "    <tr>\n",
              "      <th>0</th>\n",
              "      <td>PUFPaY9KxDAcGqfsorJp3Q</td>\n",
              "      <td>Ya85v4eqdd6k9Od8HbQjyA</td>\n",
              "      <td>Mr Hoagie is an institution. Walking in, it do...</td>\n",
              "      <td>0</td>\n",
              "      <td>5UmKMjUEUNdYWqANhGckJw</td>\n",
              "      <td>0</td>\n",
              "      <td>4</td>\n",
              "      <td>2012-08-01</td>\n",
              "      <td>review</td>\n",
              "      <td>0</td>\n",
              "    </tr>\n",
              "    <tr>\n",
              "      <th>1</th>\n",
              "      <td>Iu6AxdBYGR4A0wspR9BYHA</td>\n",
              "      <td>KPvLNJ21_4wbYNctrOwWdQ</td>\n",
              "      <td>Excellent food. Superb customer service. I mis...</td>\n",
              "      <td>0</td>\n",
              "      <td>5UmKMjUEUNdYWqANhGckJw</td>\n",
              "      <td>0</td>\n",
              "      <td>5</td>\n",
              "      <td>2014-02-13</td>\n",
              "      <td>review</td>\n",
              "      <td>0</td>\n",
              "    </tr>\n",
              "    <tr>\n",
              "      <th>2</th>\n",
              "      <td>auESFwWvW42h6alXgFxAXQ</td>\n",
              "      <td>fFSoGV46Yxuwbr3fHNuZig</td>\n",
              "      <td>Yes this place is a little out dated and not o...</td>\n",
              "      <td>0</td>\n",
              "      <td>5UmKMjUEUNdYWqANhGckJw</td>\n",
              "      <td>0</td>\n",
              "      <td>5</td>\n",
              "      <td>2015-10-31</td>\n",
              "      <td>review</td>\n",
              "      <td>0</td>\n",
              "    </tr>\n",
              "    <tr>\n",
              "      <th>3</th>\n",
              "      <td>uK8tzraOp4M5u3uYrqIBXg</td>\n",
              "      <td>Di3exaUCFNw1V4kSNW5pgA</td>\n",
              "      <td>All the food is great here. But the best thing...</td>\n",
              "      <td>0</td>\n",
              "      <td>UsFtqoBl7naz8AVUBZMjQQ</td>\n",
              "      <td>0</td>\n",
              "      <td>5</td>\n",
              "      <td>2013-11-08</td>\n",
              "      <td>review</td>\n",
              "      <td>0</td>\n",
              "    </tr>\n",
              "    <tr>\n",
              "      <th>4</th>\n",
              "      <td>I_47G-R2_egp7ME5u_ltew</td>\n",
              "      <td>0Lua2-PbqEQMjD9r89-asw</td>\n",
              "      <td>We checked this place out this past Monday for...</td>\n",
              "      <td>0</td>\n",
              "      <td>UsFtqoBl7naz8AVUBZMjQQ</td>\n",
              "      <td>0</td>\n",
              "      <td>3</td>\n",
              "      <td>2014-03-29</td>\n",
              "      <td>review</td>\n",
              "      <td>0</td>\n",
              "    </tr>\n",
              "  </tbody>\n",
              "</table>\n",
              "</div>\n",
              "    <div class=\"colab-df-buttons\">\n",
              "\n",
              "  <div class=\"colab-df-container\">\n",
              "    <button class=\"colab-df-convert\" onclick=\"convertToInteractive('df-b6ca0ffc-1990-4033-8ced-61e69a82549c')\"\n",
              "            title=\"Convert this dataframe to an interactive table.\"\n",
              "            style=\"display:none;\">\n",
              "\n",
              "  <svg xmlns=\"http://www.w3.org/2000/svg\" height=\"24px\" viewBox=\"0 -960 960 960\">\n",
              "    <path d=\"M120-120v-720h720v720H120Zm60-500h600v-160H180v160Zm220 220h160v-160H400v160Zm0 220h160v-160H400v160ZM180-400h160v-160H180v160Zm440 0h160v-160H620v160ZM180-180h160v-160H180v160Zm440 0h160v-160H620v160Z\"/>\n",
              "  </svg>\n",
              "    </button>\n",
              "\n",
              "  <style>\n",
              "    .colab-df-container {\n",
              "      display:flex;\n",
              "      gap: 12px;\n",
              "    }\n",
              "\n",
              "    .colab-df-convert {\n",
              "      background-color: #E8F0FE;\n",
              "      border: none;\n",
              "      border-radius: 50%;\n",
              "      cursor: pointer;\n",
              "      display: none;\n",
              "      fill: #1967D2;\n",
              "      height: 32px;\n",
              "      padding: 0 0 0 0;\n",
              "      width: 32px;\n",
              "    }\n",
              "\n",
              "    .colab-df-convert:hover {\n",
              "      background-color: #E2EBFA;\n",
              "      box-shadow: 0px 1px 2px rgba(60, 64, 67, 0.3), 0px 1px 3px 1px rgba(60, 64, 67, 0.15);\n",
              "      fill: #174EA6;\n",
              "    }\n",
              "\n",
              "    .colab-df-buttons div {\n",
              "      margin-bottom: 4px;\n",
              "    }\n",
              "\n",
              "    [theme=dark] .colab-df-convert {\n",
              "      background-color: #3B4455;\n",
              "      fill: #D2E3FC;\n",
              "    }\n",
              "\n",
              "    [theme=dark] .colab-df-convert:hover {\n",
              "      background-color: #434B5C;\n",
              "      box-shadow: 0px 1px 3px 1px rgba(0, 0, 0, 0.15);\n",
              "      filter: drop-shadow(0px 1px 2px rgba(0, 0, 0, 0.3));\n",
              "      fill: #FFFFFF;\n",
              "    }\n",
              "  </style>\n",
              "\n",
              "    <script>\n",
              "      const buttonEl =\n",
              "        document.querySelector('#df-b6ca0ffc-1990-4033-8ced-61e69a82549c button.colab-df-convert');\n",
              "      buttonEl.style.display =\n",
              "        google.colab.kernel.accessAllowed ? 'block' : 'none';\n",
              "\n",
              "      async function convertToInteractive(key) {\n",
              "        const element = document.querySelector('#df-b6ca0ffc-1990-4033-8ced-61e69a82549c');\n",
              "        const dataTable =\n",
              "          await google.colab.kernel.invokeFunction('convertToInteractive',\n",
              "                                                    [key], {});\n",
              "        if (!dataTable) return;\n",
              "\n",
              "        const docLinkHtml = 'Like what you see? Visit the ' +\n",
              "          '<a target=\"_blank\" href=https://colab.research.google.com/notebooks/data_table.ipynb>data table notebook</a>'\n",
              "          + ' to learn more about interactive tables.';\n",
              "        element.innerHTML = '';\n",
              "        dataTable['output_type'] = 'display_data';\n",
              "        await google.colab.output.renderOutput(dataTable, element);\n",
              "        const docLink = document.createElement('div');\n",
              "        docLink.innerHTML = docLinkHtml;\n",
              "        element.appendChild(docLink);\n",
              "      }\n",
              "    </script>\n",
              "  </div>\n",
              "\n",
              "\n",
              "<div id=\"df-45ef09c3-777d-4610-99c9-3a421aca7579\">\n",
              "  <button class=\"colab-df-quickchart\" onclick=\"quickchart('df-45ef09c3-777d-4610-99c9-3a421aca7579')\"\n",
              "            title=\"Suggest charts\"\n",
              "            style=\"display:none;\">\n",
              "\n",
              "<svg xmlns=\"http://www.w3.org/2000/svg\" height=\"24px\"viewBox=\"0 0 24 24\"\n",
              "     width=\"24px\">\n",
              "    <g>\n",
              "        <path d=\"M19 3H5c-1.1 0-2 .9-2 2v14c0 1.1.9 2 2 2h14c1.1 0 2-.9 2-2V5c0-1.1-.9-2-2-2zM9 17H7v-7h2v7zm4 0h-2V7h2v10zm4 0h-2v-4h2v4z\"/>\n",
              "    </g>\n",
              "</svg>\n",
              "  </button>\n",
              "\n",
              "<style>\n",
              "  .colab-df-quickchart {\n",
              "      --bg-color: #E8F0FE;\n",
              "      --fill-color: #1967D2;\n",
              "      --hover-bg-color: #E2EBFA;\n",
              "      --hover-fill-color: #174EA6;\n",
              "      --disabled-fill-color: #AAA;\n",
              "      --disabled-bg-color: #DDD;\n",
              "  }\n",
              "\n",
              "  [theme=dark] .colab-df-quickchart {\n",
              "      --bg-color: #3B4455;\n",
              "      --fill-color: #D2E3FC;\n",
              "      --hover-bg-color: #434B5C;\n",
              "      --hover-fill-color: #FFFFFF;\n",
              "      --disabled-bg-color: #3B4455;\n",
              "      --disabled-fill-color: #666;\n",
              "  }\n",
              "\n",
              "  .colab-df-quickchart {\n",
              "    background-color: var(--bg-color);\n",
              "    border: none;\n",
              "    border-radius: 50%;\n",
              "    cursor: pointer;\n",
              "    display: none;\n",
              "    fill: var(--fill-color);\n",
              "    height: 32px;\n",
              "    padding: 0;\n",
              "    width: 32px;\n",
              "  }\n",
              "\n",
              "  .colab-df-quickchart:hover {\n",
              "    background-color: var(--hover-bg-color);\n",
              "    box-shadow: 0 1px 2px rgba(60, 64, 67, 0.3), 0 1px 3px 1px rgba(60, 64, 67, 0.15);\n",
              "    fill: var(--button-hover-fill-color);\n",
              "  }\n",
              "\n",
              "  .colab-df-quickchart-complete:disabled,\n",
              "  .colab-df-quickchart-complete:disabled:hover {\n",
              "    background-color: var(--disabled-bg-color);\n",
              "    fill: var(--disabled-fill-color);\n",
              "    box-shadow: none;\n",
              "  }\n",
              "\n",
              "  .colab-df-spinner {\n",
              "    border: 2px solid var(--fill-color);\n",
              "    border-color: transparent;\n",
              "    border-bottom-color: var(--fill-color);\n",
              "    animation:\n",
              "      spin 1s steps(1) infinite;\n",
              "  }\n",
              "\n",
              "  @keyframes spin {\n",
              "    0% {\n",
              "      border-color: transparent;\n",
              "      border-bottom-color: var(--fill-color);\n",
              "      border-left-color: var(--fill-color);\n",
              "    }\n",
              "    20% {\n",
              "      border-color: transparent;\n",
              "      border-left-color: var(--fill-color);\n",
              "      border-top-color: var(--fill-color);\n",
              "    }\n",
              "    30% {\n",
              "      border-color: transparent;\n",
              "      border-left-color: var(--fill-color);\n",
              "      border-top-color: var(--fill-color);\n",
              "      border-right-color: var(--fill-color);\n",
              "    }\n",
              "    40% {\n",
              "      border-color: transparent;\n",
              "      border-right-color: var(--fill-color);\n",
              "      border-top-color: var(--fill-color);\n",
              "    }\n",
              "    60% {\n",
              "      border-color: transparent;\n",
              "      border-right-color: var(--fill-color);\n",
              "    }\n",
              "    80% {\n",
              "      border-color: transparent;\n",
              "      border-right-color: var(--fill-color);\n",
              "      border-bottom-color: var(--fill-color);\n",
              "    }\n",
              "    90% {\n",
              "      border-color: transparent;\n",
              "      border-bottom-color: var(--fill-color);\n",
              "    }\n",
              "  }\n",
              "</style>\n",
              "\n",
              "  <script>\n",
              "    async function quickchart(key) {\n",
              "      const quickchartButtonEl =\n",
              "        document.querySelector('#' + key + ' button');\n",
              "      quickchartButtonEl.disabled = true;  // To prevent multiple clicks.\n",
              "      quickchartButtonEl.classList.add('colab-df-spinner');\n",
              "      try {\n",
              "        const charts = await google.colab.kernel.invokeFunction(\n",
              "            'suggestCharts', [key], {});\n",
              "      } catch (error) {\n",
              "        console.error('Error during call to suggestCharts:', error);\n",
              "      }\n",
              "      quickchartButtonEl.classList.remove('colab-df-spinner');\n",
              "      quickchartButtonEl.classList.add('colab-df-quickchart-complete');\n",
              "    }\n",
              "    (() => {\n",
              "      let quickchartButtonEl =\n",
              "        document.querySelector('#df-45ef09c3-777d-4610-99c9-3a421aca7579 button');\n",
              "      quickchartButtonEl.style.display =\n",
              "        google.colab.kernel.accessAllowed ? 'block' : 'none';\n",
              "    })();\n",
              "  </script>\n",
              "</div>\n",
              "\n",
              "    </div>\n",
              "  </div>\n"
            ]
          },
          "metadata": {},
          "execution_count": 10
        }
      ],
      "source": [
        "rev.head()"
      ]
    },
    {
      "cell_type": "code",
      "execution_count": null,
      "metadata": {
        "colab": {
          "base_uri": "https://localhost:8080/",
          "height": 300
        },
        "id": "YoL2W3-UmDnW",
        "outputId": "39ab8657-2a6e-424a-cf6b-cd19cd58402f"
      },
      "outputs": [
        {
          "output_type": "execute_result",
          "data": {
            "text/plain": [
              "         votes.cool   votes.funny         stars  votes.useful\n",
              "count  27290.000000  27290.000000  27290.000000  27290.000000\n",
              "mean       0.392158      0.319531      3.623232      0.830158\n",
              "std        1.259318      1.122261      1.320829      1.611410\n",
              "min        0.000000      0.000000      1.000000      0.000000\n",
              "25%        0.000000      0.000000      3.000000      0.000000\n",
              "50%        0.000000      0.000000      4.000000      0.000000\n",
              "75%        0.000000      0.000000      5.000000      1.000000\n",
              "max       61.000000     52.000000      5.000000     52.000000"
            ],
            "text/html": [
              "\n",
              "  <div id=\"df-b0d489fe-47a8-42c1-9c48-cf731120b578\" class=\"colab-df-container\">\n",
              "    <div>\n",
              "<style scoped>\n",
              "    .dataframe tbody tr th:only-of-type {\n",
              "        vertical-align: middle;\n",
              "    }\n",
              "\n",
              "    .dataframe tbody tr th {\n",
              "        vertical-align: top;\n",
              "    }\n",
              "\n",
              "    .dataframe thead th {\n",
              "        text-align: right;\n",
              "    }\n",
              "</style>\n",
              "<table border=\"1\" class=\"dataframe\">\n",
              "  <thead>\n",
              "    <tr style=\"text-align: right;\">\n",
              "      <th></th>\n",
              "      <th>votes.cool</th>\n",
              "      <th>votes.funny</th>\n",
              "      <th>stars</th>\n",
              "      <th>votes.useful</th>\n",
              "    </tr>\n",
              "  </thead>\n",
              "  <tbody>\n",
              "    <tr>\n",
              "      <th>count</th>\n",
              "      <td>27290.000000</td>\n",
              "      <td>27290.000000</td>\n",
              "      <td>27290.000000</td>\n",
              "      <td>27290.000000</td>\n",
              "    </tr>\n",
              "    <tr>\n",
              "      <th>mean</th>\n",
              "      <td>0.392158</td>\n",
              "      <td>0.319531</td>\n",
              "      <td>3.623232</td>\n",
              "      <td>0.830158</td>\n",
              "    </tr>\n",
              "    <tr>\n",
              "      <th>std</th>\n",
              "      <td>1.259318</td>\n",
              "      <td>1.122261</td>\n",
              "      <td>1.320829</td>\n",
              "      <td>1.611410</td>\n",
              "    </tr>\n",
              "    <tr>\n",
              "      <th>min</th>\n",
              "      <td>0.000000</td>\n",
              "      <td>0.000000</td>\n",
              "      <td>1.000000</td>\n",
              "      <td>0.000000</td>\n",
              "    </tr>\n",
              "    <tr>\n",
              "      <th>25%</th>\n",
              "      <td>0.000000</td>\n",
              "      <td>0.000000</td>\n",
              "      <td>3.000000</td>\n",
              "      <td>0.000000</td>\n",
              "    </tr>\n",
              "    <tr>\n",
              "      <th>50%</th>\n",
              "      <td>0.000000</td>\n",
              "      <td>0.000000</td>\n",
              "      <td>4.000000</td>\n",
              "      <td>0.000000</td>\n",
              "    </tr>\n",
              "    <tr>\n",
              "      <th>75%</th>\n",
              "      <td>0.000000</td>\n",
              "      <td>0.000000</td>\n",
              "      <td>5.000000</td>\n",
              "      <td>1.000000</td>\n",
              "    </tr>\n",
              "    <tr>\n",
              "      <th>max</th>\n",
              "      <td>61.000000</td>\n",
              "      <td>52.000000</td>\n",
              "      <td>5.000000</td>\n",
              "      <td>52.000000</td>\n",
              "    </tr>\n",
              "  </tbody>\n",
              "</table>\n",
              "</div>\n",
              "    <div class=\"colab-df-buttons\">\n",
              "\n",
              "  <div class=\"colab-df-container\">\n",
              "    <button class=\"colab-df-convert\" onclick=\"convertToInteractive('df-b0d489fe-47a8-42c1-9c48-cf731120b578')\"\n",
              "            title=\"Convert this dataframe to an interactive table.\"\n",
              "            style=\"display:none;\">\n",
              "\n",
              "  <svg xmlns=\"http://www.w3.org/2000/svg\" height=\"24px\" viewBox=\"0 -960 960 960\">\n",
              "    <path d=\"M120-120v-720h720v720H120Zm60-500h600v-160H180v160Zm220 220h160v-160H400v160Zm0 220h160v-160H400v160ZM180-400h160v-160H180v160Zm440 0h160v-160H620v160ZM180-180h160v-160H180v160Zm440 0h160v-160H620v160Z\"/>\n",
              "  </svg>\n",
              "    </button>\n",
              "\n",
              "  <style>\n",
              "    .colab-df-container {\n",
              "      display:flex;\n",
              "      gap: 12px;\n",
              "    }\n",
              "\n",
              "    .colab-df-convert {\n",
              "      background-color: #E8F0FE;\n",
              "      border: none;\n",
              "      border-radius: 50%;\n",
              "      cursor: pointer;\n",
              "      display: none;\n",
              "      fill: #1967D2;\n",
              "      height: 32px;\n",
              "      padding: 0 0 0 0;\n",
              "      width: 32px;\n",
              "    }\n",
              "\n",
              "    .colab-df-convert:hover {\n",
              "      background-color: #E2EBFA;\n",
              "      box-shadow: 0px 1px 2px rgba(60, 64, 67, 0.3), 0px 1px 3px 1px rgba(60, 64, 67, 0.15);\n",
              "      fill: #174EA6;\n",
              "    }\n",
              "\n",
              "    .colab-df-buttons div {\n",
              "      margin-bottom: 4px;\n",
              "    }\n",
              "\n",
              "    [theme=dark] .colab-df-convert {\n",
              "      background-color: #3B4455;\n",
              "      fill: #D2E3FC;\n",
              "    }\n",
              "\n",
              "    [theme=dark] .colab-df-convert:hover {\n",
              "      background-color: #434B5C;\n",
              "      box-shadow: 0px 1px 3px 1px rgba(0, 0, 0, 0.15);\n",
              "      filter: drop-shadow(0px 1px 2px rgba(0, 0, 0, 0.3));\n",
              "      fill: #FFFFFF;\n",
              "    }\n",
              "  </style>\n",
              "\n",
              "    <script>\n",
              "      const buttonEl =\n",
              "        document.querySelector('#df-b0d489fe-47a8-42c1-9c48-cf731120b578 button.colab-df-convert');\n",
              "      buttonEl.style.display =\n",
              "        google.colab.kernel.accessAllowed ? 'block' : 'none';\n",
              "\n",
              "      async function convertToInteractive(key) {\n",
              "        const element = document.querySelector('#df-b0d489fe-47a8-42c1-9c48-cf731120b578');\n",
              "        const dataTable =\n",
              "          await google.colab.kernel.invokeFunction('convertToInteractive',\n",
              "                                                    [key], {});\n",
              "        if (!dataTable) return;\n",
              "\n",
              "        const docLinkHtml = 'Like what you see? Visit the ' +\n",
              "          '<a target=\"_blank\" href=https://colab.research.google.com/notebooks/data_table.ipynb>data table notebook</a>'\n",
              "          + ' to learn more about interactive tables.';\n",
              "        element.innerHTML = '';\n",
              "        dataTable['output_type'] = 'display_data';\n",
              "        await google.colab.output.renderOutput(dataTable, element);\n",
              "        const docLink = document.createElement('div');\n",
              "        docLink.innerHTML = docLinkHtml;\n",
              "        element.appendChild(docLink);\n",
              "      }\n",
              "    </script>\n",
              "  </div>\n",
              "\n",
              "\n",
              "<div id=\"df-e2bf6931-dd97-4c79-a215-a089cdea73a4\">\n",
              "  <button class=\"colab-df-quickchart\" onclick=\"quickchart('df-e2bf6931-dd97-4c79-a215-a089cdea73a4')\"\n",
              "            title=\"Suggest charts\"\n",
              "            style=\"display:none;\">\n",
              "\n",
              "<svg xmlns=\"http://www.w3.org/2000/svg\" height=\"24px\"viewBox=\"0 0 24 24\"\n",
              "     width=\"24px\">\n",
              "    <g>\n",
              "        <path d=\"M19 3H5c-1.1 0-2 .9-2 2v14c0 1.1.9 2 2 2h14c1.1 0 2-.9 2-2V5c0-1.1-.9-2-2-2zM9 17H7v-7h2v7zm4 0h-2V7h2v10zm4 0h-2v-4h2v4z\"/>\n",
              "    </g>\n",
              "</svg>\n",
              "  </button>\n",
              "\n",
              "<style>\n",
              "  .colab-df-quickchart {\n",
              "      --bg-color: #E8F0FE;\n",
              "      --fill-color: #1967D2;\n",
              "      --hover-bg-color: #E2EBFA;\n",
              "      --hover-fill-color: #174EA6;\n",
              "      --disabled-fill-color: #AAA;\n",
              "      --disabled-bg-color: #DDD;\n",
              "  }\n",
              "\n",
              "  [theme=dark] .colab-df-quickchart {\n",
              "      --bg-color: #3B4455;\n",
              "      --fill-color: #D2E3FC;\n",
              "      --hover-bg-color: #434B5C;\n",
              "      --hover-fill-color: #FFFFFF;\n",
              "      --disabled-bg-color: #3B4455;\n",
              "      --disabled-fill-color: #666;\n",
              "  }\n",
              "\n",
              "  .colab-df-quickchart {\n",
              "    background-color: var(--bg-color);\n",
              "    border: none;\n",
              "    border-radius: 50%;\n",
              "    cursor: pointer;\n",
              "    display: none;\n",
              "    fill: var(--fill-color);\n",
              "    height: 32px;\n",
              "    padding: 0;\n",
              "    width: 32px;\n",
              "  }\n",
              "\n",
              "  .colab-df-quickchart:hover {\n",
              "    background-color: var(--hover-bg-color);\n",
              "    box-shadow: 0 1px 2px rgba(60, 64, 67, 0.3), 0 1px 3px 1px rgba(60, 64, 67, 0.15);\n",
              "    fill: var(--button-hover-fill-color);\n",
              "  }\n",
              "\n",
              "  .colab-df-quickchart-complete:disabled,\n",
              "  .colab-df-quickchart-complete:disabled:hover {\n",
              "    background-color: var(--disabled-bg-color);\n",
              "    fill: var(--disabled-fill-color);\n",
              "    box-shadow: none;\n",
              "  }\n",
              "\n",
              "  .colab-df-spinner {\n",
              "    border: 2px solid var(--fill-color);\n",
              "    border-color: transparent;\n",
              "    border-bottom-color: var(--fill-color);\n",
              "    animation:\n",
              "      spin 1s steps(1) infinite;\n",
              "  }\n",
              "\n",
              "  @keyframes spin {\n",
              "    0% {\n",
              "      border-color: transparent;\n",
              "      border-bottom-color: var(--fill-color);\n",
              "      border-left-color: var(--fill-color);\n",
              "    }\n",
              "    20% {\n",
              "      border-color: transparent;\n",
              "      border-left-color: var(--fill-color);\n",
              "      border-top-color: var(--fill-color);\n",
              "    }\n",
              "    30% {\n",
              "      border-color: transparent;\n",
              "      border-left-color: var(--fill-color);\n",
              "      border-top-color: var(--fill-color);\n",
              "      border-right-color: var(--fill-color);\n",
              "    }\n",
              "    40% {\n",
              "      border-color: transparent;\n",
              "      border-right-color: var(--fill-color);\n",
              "      border-top-color: var(--fill-color);\n",
              "    }\n",
              "    60% {\n",
              "      border-color: transparent;\n",
              "      border-right-color: var(--fill-color);\n",
              "    }\n",
              "    80% {\n",
              "      border-color: transparent;\n",
              "      border-right-color: var(--fill-color);\n",
              "      border-bottom-color: var(--fill-color);\n",
              "    }\n",
              "    90% {\n",
              "      border-color: transparent;\n",
              "      border-bottom-color: var(--fill-color);\n",
              "    }\n",
              "  }\n",
              "</style>\n",
              "\n",
              "  <script>\n",
              "    async function quickchart(key) {\n",
              "      const quickchartButtonEl =\n",
              "        document.querySelector('#' + key + ' button');\n",
              "      quickchartButtonEl.disabled = true;  // To prevent multiple clicks.\n",
              "      quickchartButtonEl.classList.add('colab-df-spinner');\n",
              "      try {\n",
              "        const charts = await google.colab.kernel.invokeFunction(\n",
              "            'suggestCharts', [key], {});\n",
              "      } catch (error) {\n",
              "        console.error('Error during call to suggestCharts:', error);\n",
              "      }\n",
              "      quickchartButtonEl.classList.remove('colab-df-spinner');\n",
              "      quickchartButtonEl.classList.add('colab-df-quickchart-complete');\n",
              "    }\n",
              "    (() => {\n",
              "      let quickchartButtonEl =\n",
              "        document.querySelector('#df-e2bf6931-dd97-4c79-a215-a089cdea73a4 button');\n",
              "      quickchartButtonEl.style.display =\n",
              "        google.colab.kernel.accessAllowed ? 'block' : 'none';\n",
              "    })();\n",
              "  </script>\n",
              "</div>\n",
              "\n",
              "    </div>\n",
              "  </div>\n"
            ]
          },
          "metadata": {},
          "execution_count": 11
        }
      ],
      "source": [
        "rev.describe()"
      ]
    },
    {
      "cell_type": "code",
      "execution_count": null,
      "metadata": {
        "id": "SgRadqXnPRGm"
      },
      "outputs": [],
      "source": [
        "#Como parte de la exploración, se intenta visualizar de manera gráfica si hay alguna tendencia o patrón entre la cantidad de reviews y el promedio de\n",
        "#ratings a lo largo de los años, es decir el número de gente que opina, si tiene que ver con el tipo de opinión que emite, si es negativa o positiva."
      ]
    },
    {
      "cell_type": "code",
      "execution_count": null,
      "metadata": {
        "colab": {
          "base_uri": "https://localhost:8080/",
          "height": 472
        },
        "id": "ZaKsI2zmPJGR",
        "outputId": "df8b906d-3c87-42de-960c-b9c6f499c970"
      },
      "outputs": [
        {
          "output_type": "display_data",
          "data": {
            "text/plain": [
              "<Figure size 640x480 with 2 Axes>"
            ],
            "image/png": "[encoded data removed]"
          },
          "metadata": {}
        }
      ],
      "source": [
        "rev['date'] = pd.to_datetime(rev['date'])\n",
        "\n",
        "rev['year'] = rev['date'].dt.year\n",
        "\n",
        "avg_rating_by_year = rev.groupby('year')['stars'].mean()\n",
        "\n",
        "reviews_count_by_year = rev.groupby('year').size()\n",
        "\n",
        "fig, ax1 = plt.subplots()\n",
        "color = 'tab:blue'\n",
        "ax1.set_xlabel('Año')\n",
        "ax1.set_ylabel('Cantidad de Reviews', color=color)\n",
        "ax1.bar(reviews_count_by_year.index, reviews_count_by_year, color=color)\n",
        "ax1.tick_params(axis='y', labelcolor=color)\n",
        "ax2 = ax1.twinx()\n",
        "color = 'tab:red'\n",
        "ax2.set_ylabel('Promedio de Rating', color=color)\n",
        "ax2.plot(avg_rating_by_year.index, avg_rating_by_year, color=color, marker='o')\n",
        "ax2.tick_params(axis='y', labelcolor=color)\n",
        "plt.title('Relación entre Cantidad de Reviews y Promedio de Rating por Año')\n",
        "plt.show()"
      ]
    },
    {
      "cell_type": "code",
      "execution_count": null,
      "metadata": {
        "id": "ldF-p8AjSsE2"
      },
      "outputs": [],
      "source": [
        "#Para destacar un análisis breve a simple vista es que el promedio de puntuación tiene una relación inversamente proporcional con la cantidad, si se\n",
        "#quisiera pensar que esta cantidad depende de que \"la gente opina menos si las opiniones son positivas\" y que \"la gente opina más si las opiniones\n",
        "#son negativas\". Concretamente las mejores puntuaciones de 4 a 5, se dieron mayormente antes del año 2007, mientras que de 1 a 4 del 2008 en adelante."
      ]
    },
    {
      "cell_type": "markdown",
      "metadata": {
        "id": "25ZitVZ7XutL"
      },
      "source": [
        "**SECCIÓN 3:** PROCESAMIENTO DE DATOS"
      ]
    },
    {
      "cell_type": "markdown",
      "metadata": {
        "id": "9IADNHGgm9-f"
      },
      "source": [
        "**1) Tokenización, Stopwords y Stemming**"
      ]
    },
    {
      "cell_type": "code",
      "execution_count": null,
      "metadata": {
        "id": "376Vzy-sNs7N"
      },
      "outputs": [],
      "source": [
        "#Se descarga los recursos de nltk y definimos funciones para tokenizar en palabras y frases, luego la aplico en la columna 'text' y visualizo."
      ]
    },
    {
      "cell_type": "code",
      "execution_count": null,
      "metadata": {
        "colab": {
          "base_uri": "https://localhost:8080/"
        },
        "id": "2zfOYPQCNiIx",
        "outputId": "6b90179d-cedc-4f6c-f7c4-109e72c50bc1"
      },
      "outputs": [
        {
          "output_type": "stream",
          "name": "stderr",
          "text": [
            "[nltk_data] Downloading package punkt to /root/nltk_data...\n",
            "[nltk_data]   Unzipping tokenizers/punkt.zip.\n"
          ]
        },
        {
          "output_type": "execute_result",
          "data": {
            "text/plain": [
              "True"
            ]
          },
          "metadata": {},
          "execution_count": 16
        }
      ],
      "source": [
        "nltk.download('punkt')"
      ]
    },
    {
      "cell_type": "code",
      "execution_count": null,
      "metadata": {
        "id": "-AqQCLCoNm13"
      },
      "outputs": [],
      "source": [
        "def tokenize_words(text):\n",
        "    return word_tokenize(text)\n",
        "\n",
        "def tokenize_sentences(text):\n",
        "    return sent_tokenize(text)"
      ]
    },
    {
      "cell_type": "code",
      "execution_count": null,
      "metadata": {
        "id": "oVmb6bfCN7zK"
      },
      "outputs": [],
      "source": [
        "rev['tokenized_words'] = rev['text'].apply(tokenize_words)\n",
        "rev['tokenized_sentences'] = rev['text'].apply(tokenize_sentences)"
      ]
    },
    {
      "cell_type": "code",
      "execution_count": null,
      "metadata": {
        "colab": {
          "base_uri": "https://localhost:8080/"
        },
        "id": "M-hgUKh7OHCZ",
        "outputId": "191a4c3b-e791-4db5-83bd-17581c21333a"
      },
      "outputs": [
        {
          "output_type": "stream",
          "name": "stdout",
          "text": [
            "Ejemplo de tokenización de palabras:\n"
          ]
        },
        {
          "output_type": "execute_result",
          "data": {
            "text/plain": [
              "0    [Mr, Hoagie, is, an, institution, ., Walking, ...\n",
              "1    [Excellent, food, ., Superb, customer, service...\n",
              "2    [Yes, this, place, is, a, little, out, dated, ...\n",
              "3    [All, the, food, is, great, here, ., But, the,...\n",
              "4    [We, checked, this, place, out, this, past, Mo...\n",
              "Name: tokenized_words, dtype: object"
            ]
          },
          "metadata": {},
          "execution_count": 19
        }
      ],
      "source": [
        "print(\"Ejemplo de tokenización de palabras:\")\n",
        "rev['tokenized_words'].head()"
      ]
    },
    {
      "cell_type": "code",
      "execution_count": null,
      "metadata": {
        "colab": {
          "base_uri": "https://localhost:8080/"
        },
        "id": "CpCCNR8zWFkC",
        "outputId": "67964000-4a0c-4eb4-9161-49c3b9d7fa64"
      },
      "outputs": [
        {
          "output_type": "stream",
          "name": "stdout",
          "text": [
            "\n",
            "Ejemplo de tokenización de frases:\n"
          ]
        },
        {
          "output_type": "execute_result",
          "data": {
            "text/plain": [
              "0    [Mr Hoagie is an institution., Walking in, it ...\n",
              "1    [Excellent food., Superb customer service., I ...\n",
              "2    [Yes this place is a little out dated and not ...\n",
              "3    [All the food is great here., But the best thi...\n",
              "4    [We checked this place out this past Monday fo...\n",
              "Name: tokenized_sentences, dtype: object"
            ]
          },
          "metadata": {},
          "execution_count": 20
        }
      ],
      "source": [
        "print(\"\\nEjemplo de tokenización de frases:\")\n",
        "rev['tokenized_sentences'].head()"
      ]
    },
    {
      "cell_type": "code",
      "execution_count": null,
      "metadata": {
        "id": "Ay0t4uUYONdr"
      },
      "outputs": [],
      "source": [
        "#Se elimina palabras comunes que no aportan información, haciendo el stopwords. Se descarga los recursos de nltk."
      ]
    },
    {
      "cell_type": "code",
      "execution_count": null,
      "metadata": {
        "id": "8iA7MdHFYyy6"
      },
      "outputs": [],
      "source": [
        "#Este proceso nos ayuda a reducir el ruido en los datos al eliminar palabras comunes que generalmente no contribuyen a la interpretación del contenido."
      ]
    },
    {
      "cell_type": "code",
      "execution_count": null,
      "metadata": {
        "colab": {
          "base_uri": "https://localhost:8080/"
        },
        "id": "fPZgDLHDOc88",
        "outputId": "ae63ca12-2658-40ef-cbab-b4657337637f"
      },
      "outputs": [
        {
          "output_type": "stream",
          "name": "stderr",
          "text": [
            "[nltk_data] Downloading package stopwords to /root/nltk_data...\n",
            "[nltk_data]   Unzipping corpora/stopwords.zip.\n"
          ]
        },
        {
          "output_type": "execute_result",
          "data": {
            "text/plain": [
              "True"
            ]
          },
          "metadata": {},
          "execution_count": 23
        }
      ],
      "source": [
        "nltk.download('stopwords')"
      ]
    },
    {
      "cell_type": "code",
      "execution_count": null,
      "metadata": {
        "id": "sFsKwa6WWlO5"
      },
      "outputs": [],
      "source": [
        "stop_words = set(stopwords.words('english'))"
      ]
    },
    {
      "cell_type": "code",
      "execution_count": null,
      "metadata": {
        "id": "Zt7e_Sl5WoUX"
      },
      "outputs": [],
      "source": [
        "def remove_stopwords(text):\n",
        "    words = word_tokenize(text)\n",
        "    filtered_words = [word.lower() for word in words if word.lower() not in stop_words and word.isalpha()]\n",
        "    return ' '.join(filtered_words)"
      ]
    },
    {
      "cell_type": "code",
      "execution_count": null,
      "metadata": {
        "id": "ZQysKKWMW-VR"
      },
      "outputs": [],
      "source": [
        "rev['text_without_stopwords'] = rev['text'].apply(remove_stopwords)"
      ]
    },
    {
      "cell_type": "code",
      "execution_count": null,
      "metadata": {
        "colab": {
          "base_uri": "https://localhost:8080/",
          "height": 87
        },
        "id": "HcPh-DOeXARe",
        "outputId": "d3be4ea7-07ca-41ef-9d4d-947f29b997dc"
      },
      "outputs": [
        {
          "output_type": "stream",
          "name": "stdout",
          "text": [
            "Ejemplo de texto original:\n"
          ]
        },
        {
          "output_type": "execute_result",
          "data": {
            "text/plain": [
              "'Mr Hoagie is an institution. Walking in, it does seem like a throwback to 30 years ago, old fashioned menu board, booths out of the 70s, and a large selection of food. Their speciality is the Italian Hoagie, and it is voted the best in the area year after year. I usually order the burger, while the patties are obviously cooked from frozen, all of the other ingredients are very fresh. Overall, its a good alternative to Subway, which is down the road.'"
            ],
            "application/vnd.google.colaboratory.intrinsic+json": {
              "type": "string"
            }
          },
          "metadata": {},
          "execution_count": 27
        }
      ],
      "source": [
        "print(\"Ejemplo de texto original:\")\n",
        "rev['text'].iloc[0]"
      ]
    },
    {
      "cell_type": "code",
      "execution_count": null,
      "metadata": {
        "colab": {
          "base_uri": "https://localhost:8080/",
          "height": 87
        },
        "id": "DeebA3cRXD_c",
        "outputId": "da1b47ea-bf42-48b5-9bd6-c721f93bfbfd"
      },
      "outputs": [
        {
          "output_type": "stream",
          "name": "stdout",
          "text": [
            "\n",
            "Ejemplo de texto sin stopwords:\n"
          ]
        },
        {
          "output_type": "execute_result",
          "data": {
            "text/plain": [
              "'mr hoagie institution walking seem like throwback years ago old fashioned menu board booths large selection food speciality italian hoagie voted best area year year usually order burger patties obviously cooked frozen ingredients fresh overall good alternative subway road'"
            ],
            "application/vnd.google.colaboratory.intrinsic+json": {
              "type": "string"
            }
          },
          "metadata": {},
          "execution_count": 28
        }
      ],
      "source": [
        "print(\"\\nEjemplo de texto sin stopwords:\")\n",
        "rev['text_without_stopwords'].iloc[0]"
      ]
    },
    {
      "cell_type": "code",
      "execution_count": null,
      "metadata": {
        "id": "DoORNFpjXHxW"
      },
      "outputs": [],
      "source": [
        "#Se opta también por hacer el stemming para reducir las palabras a su forma raíz, lo que nos ayuda a simplificar el análisis de texto y agrupar\n",
        "#palabras similares."
      ]
    },
    {
      "cell_type": "code",
      "execution_count": null,
      "metadata": {
        "id": "Tr4VyCX1dmVr"
      },
      "outputs": [],
      "source": [
        "stemmer = PorterStemmer()"
      ]
    },
    {
      "cell_type": "code",
      "execution_count": null,
      "metadata": {
        "id": "KmFc5GIYfTYr"
      },
      "outputs": [],
      "source": [
        "def stem_text(text):\n",
        "    words = word_tokenize(text)\n",
        "    stemmed_words = [stemmer.stem(word.lower()) for word in words if word.isalpha()]\n",
        "    return ' '.join(stemmed_words)"
      ]
    },
    {
      "cell_type": "code",
      "execution_count": null,
      "metadata": {
        "id": "v5QHMhBCfVvU"
      },
      "outputs": [],
      "source": [
        "rev['stemmed_text'] = rev['text'].apply(stem_text)"
      ]
    },
    {
      "cell_type": "code",
      "execution_count": null,
      "metadata": {
        "id": "UrvVcbcvfYzT",
        "colab": {
          "base_uri": "https://localhost:8080/",
          "height": 87
        },
        "outputId": "bf3e1295-1ad9-4b12-dfe0-cebd914cf3d2"
      },
      "outputs": [
        {
          "output_type": "stream",
          "name": "stdout",
          "text": [
            "Ejemplo de texto original:\n"
          ]
        },
        {
          "output_type": "execute_result",
          "data": {
            "text/plain": [
              "'Mr Hoagie is an institution. Walking in, it does seem like a throwback to 30 years ago, old fashioned menu board, booths out of the 70s, and a large selection of food. Their speciality is the Italian Hoagie, and it is voted the best in the area year after year. I usually order the burger, while the patties are obviously cooked from frozen, all of the other ingredients are very fresh. Overall, its a good alternative to Subway, which is down the road.'"
            ],
            "application/vnd.google.colaboratory.intrinsic+json": {
              "type": "string"
            }
          },
          "metadata": {},
          "execution_count": 33
        }
      ],
      "source": [
        "print(\"Ejemplo de texto original:\")\n",
        "rev['text'].iloc[0]"
      ]
    },
    {
      "cell_type": "code",
      "execution_count": null,
      "metadata": {
        "id": "nAKF0b3sfaT-",
        "colab": {
          "base_uri": "https://localhost:8080/",
          "height": 105
        },
        "outputId": "d6c3547d-aaff-4ec2-e42b-58462741661a"
      },
      "outputs": [
        {
          "output_type": "stream",
          "name": "stdout",
          "text": [
            "\n",
            "Ejemplo de texto con stemming:\n"
          ]
        },
        {
          "output_type": "execute_result",
          "data": {
            "text/plain": [
              "'mr hoagi is an institut walk in it doe seem like a throwback to year ago old fashion menu board booth out of the and a larg select of food their special is the italian hoagi and it is vote the best in the area year after year i usual order the burger while the patti are obvious cook from frozen all of the other ingredi are veri fresh overal it a good altern to subway which is down the road'"
            ],
            "application/vnd.google.colaboratory.intrinsic+json": {
              "type": "string"
            }
          },
          "metadata": {},
          "execution_count": 34
        }
      ],
      "source": [
        "print(\"\\nEjemplo de texto con stemming:\")\n",
        "rev['stemmed_text'].iloc[0]"
      ]
    },
    {
      "cell_type": "code",
      "execution_count": null,
      "metadata": {
        "id": "RSkqY40qfdGw"
      },
      "outputs": [],
      "source": [
        "#Hay otra forma, que es la lematización que ayuda a reducir las palabras a su forma base, lo que puede ser beneficioso para el análisis de texto al agrupar\n",
        "#palabras relacionadas."
      ]
    },
    {
      "cell_type": "code",
      "execution_count": null,
      "metadata": {
        "id": "K1l7L-Xwfx8A"
      },
      "outputs": [],
      "source": [
        "#En caso que no se opte por el stemming, se deja el código para hacerlo por lematización."
      ]
    },
    {
      "cell_type": "code",
      "execution_count": null,
      "metadata": {
        "id": "O211mmfBfmKZ"
      },
      "outputs": [],
      "source": [
        "#lemmatizer = WordNetLemmatizer()"
      ]
    },
    {
      "cell_type": "code",
      "execution_count": null,
      "metadata": {
        "id": "JjY1irSQf801"
      },
      "outputs": [],
      "source": [
        "#def lemmatize_text(text):\n",
        "    #words = word_tokenize(text)\n",
        "    #lemmatized_words = [lemmatizer.lemmatize(word.lower()) for word in words if word.isalpha()]\n",
        "    #return ' '.join(lemmatized_words)"
      ]
    },
    {
      "cell_type": "code",
      "execution_count": null,
      "metadata": {
        "id": "8-5aThwTgBUI"
      },
      "outputs": [],
      "source": [
        "#rev['lemmatized_text'] = rev['text'].apply(lemmatize_text)"
      ]
    },
    {
      "cell_type": "code",
      "execution_count": null,
      "metadata": {
        "id": "GP8TuNhugFVu"
      },
      "outputs": [],
      "source": [
        "#print(\"Ejemplo de texto original:\")\n",
        "#rev['text'].iloc[0]"
      ]
    },
    {
      "cell_type": "code",
      "execution_count": null,
      "metadata": {
        "id": "AQlK7_A_gKY4"
      },
      "outputs": [],
      "source": [
        "#print(\"\\nEjemplo de texto lematizado:\")\n",
        "#rev['lemmatized_text'].iloc[0]"
      ]
    },
    {
      "cell_type": "markdown",
      "metadata": {
        "id": "3vSs-sKnof5G"
      },
      "source": [
        "**2) Correlación entre Sentimiento y Rating**"
      ]
    },
    {
      "cell_type": "code",
      "execution_count": null,
      "metadata": {
        "id": "bPbR5BXagRn9"
      },
      "outputs": [],
      "source": [
        "#Se determina el sentimiento de cada review en base a la correlación que surge con el rating seleccionado."
      ]
    },
    {
      "cell_type": "code",
      "execution_count": null,
      "metadata": {
        "id": "s9wRYN9Xgyd9"
      },
      "outputs": [],
      "source": [
        "def get_sentiment(text):\n",
        "    analysis = TextBlob(text)\n",
        "    return analysis.sentiment.polarity"
      ]
    },
    {
      "cell_type": "code",
      "execution_count": null,
      "metadata": {
        "id": "v6TcIRTrmftR"
      },
      "outputs": [],
      "source": [
        "rev['sentiment'] = rev['text'].apply(get_sentiment)"
      ]
    },
    {
      "cell_type": "code",
      "execution_count": null,
      "metadata": {
        "colab": {
          "base_uri": "https://localhost:8080/",
          "height": 224
        },
        "id": "AgPdVSI9miBh",
        "outputId": "da204d2d-87b2-42b2-8a10-d97f981b63d6"
      },
      "outputs": [
        {
          "output_type": "stream",
          "name": "stdout",
          "text": [
            "Ejemplo de sentimiento calculado:\n"
          ]
        },
        {
          "output_type": "execute_result",
          "data": {
            "text/plain": [
              "                                                text  sentiment  stars\n",
              "0  Mr Hoagie is an institution. Walking in, it do...   0.170339      4\n",
              "1  Excellent food. Superb customer service. I mis...   0.933333      5\n",
              "2  Yes this place is a little out dated and not o...   0.255093      5\n",
              "3  All the food is great here. But the best thing...   0.569643      5\n",
              "4  We checked this place out this past Monday for...   0.082843      3"
            ],
            "text/html": [
              "\n",
              "  <div id=\"df-d9f89a55-bf01-4fbc-85f9-3f639d2b82b9\" class=\"colab-df-container\">\n",
              "    <div>\n",
              "<style scoped>\n",
              "    .dataframe tbody tr th:only-of-type {\n",
              "        vertical-align: middle;\n",
              "    }\n",
              "\n",
              "    .dataframe tbody tr th {\n",
              "        vertical-align: top;\n",
              "    }\n",
              "\n",
              "    .dataframe thead th {\n",
              "        text-align: right;\n",
              "    }\n",
              "</style>\n",
              "<table border=\"1\" class=\"dataframe\">\n",
              "  <thead>\n",
              "    <tr style=\"text-align: right;\">\n",
              "      <th></th>\n",
              "      <th>text</th>\n",
              "      <th>sentiment</th>\n",
              "      <th>stars</th>\n",
              "    </tr>\n",
              "  </thead>\n",
              "  <tbody>\n",
              "    <tr>\n",
              "      <th>0</th>\n",
              "      <td>Mr Hoagie is an institution. Walking in, it do...</td>\n",
              "      <td>0.170339</td>\n",
              "      <td>4</td>\n",
              "    </tr>\n",
              "    <tr>\n",
              "      <th>1</th>\n",
              "      <td>Excellent food. Superb customer service. I mis...</td>\n",
              "      <td>0.933333</td>\n",
              "      <td>5</td>\n",
              "    </tr>\n",
              "    <tr>\n",
              "      <th>2</th>\n",
              "      <td>Yes this place is a little out dated and not o...</td>\n",
              "      <td>0.255093</td>\n",
              "      <td>5</td>\n",
              "    </tr>\n",
              "    <tr>\n",
              "      <th>3</th>\n",
              "      <td>All the food is great here. But the best thing...</td>\n",
              "      <td>0.569643</td>\n",
              "      <td>5</td>\n",
              "    </tr>\n",
              "    <tr>\n",
              "      <th>4</th>\n",
              "      <td>We checked this place out this past Monday for...</td>\n",
              "      <td>0.082843</td>\n",
              "      <td>3</td>\n",
              "    </tr>\n",
              "  </tbody>\n",
              "</table>\n",
              "</div>\n",
              "    <div class=\"colab-df-buttons\">\n",
              "\n",
              "  <div class=\"colab-df-container\">\n",
              "    <button class=\"colab-df-convert\" onclick=\"convertToInteractive('df-d9f89a55-bf01-4fbc-85f9-3f639d2b82b9')\"\n",
              "            title=\"Convert this dataframe to an interactive table.\"\n",
              "            style=\"display:none;\">\n",
              "\n",
              "  <svg xmlns=\"http://www.w3.org/2000/svg\" height=\"24px\" viewBox=\"0 -960 960 960\">\n",
              "    <path d=\"M120-120v-720h720v720H120Zm60-500h600v-160H180v160Zm220 220h160v-160H400v160Zm0 220h160v-160H400v160ZM180-400h160v-160H180v160Zm440 0h160v-160H620v160ZM180-180h160v-160H180v160Zm440 0h160v-160H620v160Z\"/>\n",
              "  </svg>\n",
              "    </button>\n",
              "\n",
              "  <style>\n",
              "    .colab-df-container {\n",
              "      display:flex;\n",
              "      gap: 12px;\n",
              "    }\n",
              "\n",
              "    .colab-df-convert {\n",
              "      background-color: #E8F0FE;\n",
              "      border: none;\n",
              "      border-radius: 50%;\n",
              "      cursor: pointer;\n",
              "      display: none;\n",
              "      fill: #1967D2;\n",
              "      height: 32px;\n",
              "      padding: 0 0 0 0;\n",
              "      width: 32px;\n",
              "    }\n",
              "\n",
              "    .colab-df-convert:hover {\n",
              "      background-color: #E2EBFA;\n",
              "      box-shadow: 0px 1px 2px rgba(60, 64, 67, 0.3), 0px 1px 3px 1px rgba(60, 64, 67, 0.15);\n",
              "      fill: #174EA6;\n",
              "    }\n",
              "\n",
              "    .colab-df-buttons div {\n",
              "      margin-bottom: 4px;\n",
              "    }\n",
              "\n",
              "    [theme=dark] .colab-df-convert {\n",
              "      background-color: #3B4455;\n",
              "      fill: #D2E3FC;\n",
              "    }\n",
              "\n",
              "    [theme=dark] .colab-df-convert:hover {\n",
              "      background-color: #434B5C;\n",
              "      box-shadow: 0px 1px 3px 1px rgba(0, 0, 0, 0.15);\n",
              "      filter: drop-shadow(0px 1px 2px rgba(0, 0, 0, 0.3));\n",
              "      fill: #FFFFFF;\n",
              "    }\n",
              "  </style>\n",
              "\n",
              "    <script>\n",
              "      const buttonEl =\n",
              "        document.querySelector('#df-d9f89a55-bf01-4fbc-85f9-3f639d2b82b9 button.colab-df-convert');\n",
              "      buttonEl.style.display =\n",
              "        google.colab.kernel.accessAllowed ? 'block' : 'none';\n",
              "\n",
              "      async function convertToInteractive(key) {\n",
              "        const element = document.querySelector('#df-d9f89a55-bf01-4fbc-85f9-3f639d2b82b9');\n",
              "        const dataTable =\n",
              "          await google.colab.kernel.invokeFunction('convertToInteractive',\n",
              "                                                    [key], {});\n",
              "        if (!dataTable) return;\n",
              "\n",
              "        const docLinkHtml = 'Like what you see? Visit the ' +\n",
              "          '<a target=\"_blank\" href=https://colab.research.google.com/notebooks/data_table.ipynb>data table notebook</a>'\n",
              "          + ' to learn more about interactive tables.';\n",
              "        element.innerHTML = '';\n",
              "        dataTable['output_type'] = 'display_data';\n",
              "        await google.colab.output.renderOutput(dataTable, element);\n",
              "        const docLink = document.createElement('div');\n",
              "        docLink.innerHTML = docLinkHtml;\n",
              "        element.appendChild(docLink);\n",
              "      }\n",
              "    </script>\n",
              "  </div>\n",
              "\n",
              "\n",
              "<div id=\"df-6e0ec795-959c-44fb-8f8b-396b9127cc76\">\n",
              "  <button class=\"colab-df-quickchart\" onclick=\"quickchart('df-6e0ec795-959c-44fb-8f8b-396b9127cc76')\"\n",
              "            title=\"Suggest charts\"\n",
              "            style=\"display:none;\">\n",
              "\n",
              "<svg xmlns=\"http://www.w3.org/2000/svg\" height=\"24px\"viewBox=\"0 0 24 24\"\n",
              "     width=\"24px\">\n",
              "    <g>\n",
              "        <path d=\"M19 3H5c-1.1 0-2 .9-2 2v14c0 1.1.9 2 2 2h14c1.1 0 2-.9 2-2V5c0-1.1-.9-2-2-2zM9 17H7v-7h2v7zm4 0h-2V7h2v10zm4 0h-2v-4h2v4z\"/>\n",
              "    </g>\n",
              "</svg>\n",
              "  </button>\n",
              "\n",
              "<style>\n",
              "  .colab-df-quickchart {\n",
              "      --bg-color: #E8F0FE;\n",
              "      --fill-color: #1967D2;\n",
              "      --hover-bg-color: #E2EBFA;\n",
              "      --hover-fill-color: #174EA6;\n",
              "      --disabled-fill-color: #AAA;\n",
              "      --disabled-bg-color: #DDD;\n",
              "  }\n",
              "\n",
              "  [theme=dark] .colab-df-quickchart {\n",
              "      --bg-color: #3B4455;\n",
              "      --fill-color: #D2E3FC;\n",
              "      --hover-bg-color: #434B5C;\n",
              "      --hover-fill-color: #FFFFFF;\n",
              "      --disabled-bg-color: #3B4455;\n",
              "      --disabled-fill-color: #666;\n",
              "  }\n",
              "\n",
              "  .colab-df-quickchart {\n",
              "    background-color: var(--bg-color);\n",
              "    border: none;\n",
              "    border-radius: 50%;\n",
              "    cursor: pointer;\n",
              "    display: none;\n",
              "    fill: var(--fill-color);\n",
              "    height: 32px;\n",
              "    padding: 0;\n",
              "    width: 32px;\n",
              "  }\n",
              "\n",
              "  .colab-df-quickchart:hover {\n",
              "    background-color: var(--hover-bg-color);\n",
              "    box-shadow: 0 1px 2px rgba(60, 64, 67, 0.3), 0 1px 3px 1px rgba(60, 64, 67, 0.15);\n",
              "    fill: var(--button-hover-fill-color);\n",
              "  }\n",
              "\n",
              "  .colab-df-quickchart-complete:disabled,\n",
              "  .colab-df-quickchart-complete:disabled:hover {\n",
              "    background-color: var(--disabled-bg-color);\n",
              "    fill: var(--disabled-fill-color);\n",
              "    box-shadow: none;\n",
              "  }\n",
              "\n",
              "  .colab-df-spinner {\n",
              "    border: 2px solid var(--fill-color);\n",
              "    border-color: transparent;\n",
              "    border-bottom-color: var(--fill-color);\n",
              "    animation:\n",
              "      spin 1s steps(1) infinite;\n",
              "  }\n",
              "\n",
              "  @keyframes spin {\n",
              "    0% {\n",
              "      border-color: transparent;\n",
              "      border-bottom-color: var(--fill-color);\n",
              "      border-left-color: var(--fill-color);\n",
              "    }\n",
              "    20% {\n",
              "      border-color: transparent;\n",
              "      border-left-color: var(--fill-color);\n",
              "      border-top-color: var(--fill-color);\n",
              "    }\n",
              "    30% {\n",
              "      border-color: transparent;\n",
              "      border-left-color: var(--fill-color);\n",
              "      border-top-color: var(--fill-color);\n",
              "      border-right-color: var(--fill-color);\n",
              "    }\n",
              "    40% {\n",
              "      border-color: transparent;\n",
              "      border-right-color: var(--fill-color);\n",
              "      border-top-color: var(--fill-color);\n",
              "    }\n",
              "    60% {\n",
              "      border-color: transparent;\n",
              "      border-right-color: var(--fill-color);\n",
              "    }\n",
              "    80% {\n",
              "      border-color: transparent;\n",
              "      border-right-color: var(--fill-color);\n",
              "      border-bottom-color: var(--fill-color);\n",
              "    }\n",
              "    90% {\n",
              "      border-color: transparent;\n",
              "      border-bottom-color: var(--fill-color);\n",
              "    }\n",
              "  }\n",
              "</style>\n",
              "\n",
              "  <script>\n",
              "    async function quickchart(key) {\n",
              "      const quickchartButtonEl =\n",
              "        document.querySelector('#' + key + ' button');\n",
              "      quickchartButtonEl.disabled = true;  // To prevent multiple clicks.\n",
              "      quickchartButtonEl.classList.add('colab-df-spinner');\n",
              "      try {\n",
              "        const charts = await google.colab.kernel.invokeFunction(\n",
              "            'suggestCharts', [key], {});\n",
              "      } catch (error) {\n",
              "        console.error('Error during call to suggestCharts:', error);\n",
              "      }\n",
              "      quickchartButtonEl.classList.remove('colab-df-spinner');\n",
              "      quickchartButtonEl.classList.add('colab-df-quickchart-complete');\n",
              "    }\n",
              "    (() => {\n",
              "      let quickchartButtonEl =\n",
              "        document.querySelector('#df-6e0ec795-959c-44fb-8f8b-396b9127cc76 button');\n",
              "      quickchartButtonEl.style.display =\n",
              "        google.colab.kernel.accessAllowed ? 'block' : 'none';\n",
              "    })();\n",
              "  </script>\n",
              "</div>\n",
              "\n",
              "    </div>\n",
              "  </div>\n"
            ]
          },
          "metadata": {},
          "execution_count": 45
        }
      ],
      "source": [
        "print(\"Ejemplo de sentimiento calculado:\")\n",
        "rev[['text', 'sentiment', 'stars']].head()"
      ]
    },
    {
      "cell_type": "code",
      "execution_count": null,
      "metadata": {
        "colab": {
          "base_uri": "https://localhost:8080/"
        },
        "id": "m0_nWGZVmmC4",
        "outputId": "7dea2a0f-fd3a-428d-83cb-72e6d4719b4e"
      },
      "outputs": [
        {
          "output_type": "stream",
          "name": "stdout",
          "text": [
            "\n",
            "Correlación entre Sentimiento y Rating: 0.5650707581759007\n"
          ]
        }
      ],
      "source": [
        "correlation = rev['sentiment'].corr(rev['stars'])\n",
        "print(\"\\nCorrelación entre Sentimiento y Rating:\", correlation)"
      ]
    },
    {
      "cell_type": "code",
      "execution_count": null,
      "metadata": {
        "id": "jmOQ5bTEnC3P"
      },
      "outputs": [],
      "source": [
        "#Una correlación de 0.565 entre el sentimiento y el rating sugiere una relación positiva moderada entre estas dos variables en tu conjunto de datos.\n",
        "#Es decir, cuando las reviews son más positivas, es más probable que el cliente otorgue un rating más alto. Ahora, ese valor indica que la fuerza de\n",
        "#la relación no es extremadamente fuerte, pero tampoco es insignificante. Hay una tendencia, pero no todos los ratings están completamente determinados\n",
        "#por el sentimiento, y puede haber otras variables en juego."
      ]
    },
    {
      "cell_type": "code",
      "execution_count": null,
      "metadata": {
        "id": "HwvMYas-nxii"
      },
      "outputs": [],
      "source": [
        "#Se elije un diagrama de cajas y bigotes para visualizar la correlación entre el sentimiento de la review y el puntaje otorgado por la misma."
      ]
    },
    {
      "cell_type": "code",
      "execution_count": null,
      "metadata": {
        "colab": {
          "base_uri": "https://localhost:8080/",
          "height": 565
        },
        "id": "KB4Acg7MmqIu",
        "outputId": "cc8de7a2-4451-4856-99cc-94c3937ffe49"
      },
      "outputs": [
        {
          "output_type": "display_data",
          "data": {
            "text/plain": [
              "<Figure size 1000x600 with 1 Axes>"
            ],
            "image/png": "[encoded data removed]"
          },
          "metadata": {}
        }
      ],
      "source": [
        "plt.figure(figsize=(10, 6))\n",
        "sns.boxplot(x='stars', y='sentiment', data=rev, orient='v')\n",
        "plt.title('Relación entre Sentimiento y Rating')\n",
        "plt.xlabel('Rating')\n",
        "plt.ylabel('Sentimiento')\n",
        "plt.show()"
      ]
    },
    {
      "cell_type": "code",
      "execution_count": null,
      "metadata": {
        "id": "FapRG3_EnmOD"
      },
      "outputs": [],
      "source": [
        "#La correlación no implica causalidad, por lo que no se puede afirmar que el sentimiento causa el rating ni viceversa. Puede haber otros factores que\n",
        "#afectan tanto al sentimiento como al rating, y la relación podría ser bidireccional. Eso puede explicarse en parte por la gran cantidad de puntos atípicos\n",
        "#que vemos. La correlación proporciona una visión general, pero no revela la naturaleza exacta de la relación."
      ]
    },
    {
      "cell_type": "code",
      "execution_count": null,
      "metadata": {
        "id": "5kyKw3M4oan0"
      },
      "outputs": [],
      "source": [
        "#Hasta aquí, el procesamiento fue a nivel general. Ahora se profundizará aún más cada uno de estos, pero ramificándolo para otros enfoques."
      ]
    },
    {
      "cell_type": "markdown",
      "metadata": {
        "id": "XpjTanKIpI6N"
      },
      "source": [
        "**3) Ranking de Palabras Positivas y Negativas**"
      ]
    },
    {
      "cell_type": "code",
      "execution_count": null,
      "metadata": {
        "id": "AuWeQSLarTWE"
      },
      "outputs": [],
      "source": [
        "#El propósito es realizar un ranking de palabras que se consideran como positivas y aquellas que se consideran como negativas, pero a la vez viendo cuáles\n",
        "#aparece con mayor ocurrencia, para eso se usa el Diccionario Afinn."
      ]
    },
    {
      "cell_type": "code",
      "execution_count": null,
      "metadata": {
        "id": "nvCAondKsA3Y"
      },
      "outputs": [],
      "source": [
        "#Visualizamos esto en un gráfico de barras horizontales donde las palabras negativas van de 0 hacia menos infinito y las palabras positivas vayan de 0 a más\n",
        "#infinito, figurativamente."
      ]
    },
    {
      "cell_type": "code",
      "execution_count": null,
      "metadata": {
        "id": "Re5rnOAcsIEo"
      },
      "outputs": [],
      "source": [
        "nlp = spacy.load('en_core_web_sm')"
      ]
    },
    {
      "cell_type": "code",
      "execution_count": null,
      "metadata": {
        "id": "5BcHxJ8PsKsD"
      },
      "outputs": [],
      "source": [
        "def extract_words(text):\n",
        "    doc = nlp(text)\n",
        "    words = [token.text.lower() for token in doc if token.is_alpha]\n",
        "    return words"
      ]
    },
    {
      "cell_type": "code",
      "execution_count": null,
      "metadata": {
        "id": "YX4m1M6o4Glg"
      },
      "outputs": [],
      "source": [
        "def clean_entity(entity):\n",
        "    entity = re.sub('[^a-zA-Z\\s]+', '', entity)\n",
        "    return entity.strip()"
      ]
    },
    {
      "cell_type": "code",
      "execution_count": null,
      "metadata": {
        "id": "QE9-xNjGsMmh"
      },
      "outputs": [],
      "source": [
        "rev['review_words'] = rev['text'].apply(extract_words)"
      ]
    },
    {
      "cell_type": "code",
      "execution_count": null,
      "metadata": {
        "id": "bQFYStKx2TNa"
      },
      "outputs": [],
      "source": [
        "all_review_words = [word for words in rev['review_words'] for word in words]\n",
        "review_words_df = pd.DataFrame(all_review_words, columns=['Word'])"
      ]
    },
    {
      "cell_type": "code",
      "execution_count": null,
      "metadata": {
        "id": "VHGftaP1sY-8"
      },
      "outputs": [],
      "source": [
        "afinn = Afinn()"
      ]
    },
    {
      "cell_type": "code",
      "execution_count": null,
      "metadata": {
        "id": "_AjJkD4T2ay2"
      },
      "outputs": [],
      "source": [
        "word_sentiments = review_words_df['Word'].apply(afinn.score)"
      ]
    },
    {
      "cell_type": "code",
      "execution_count": null,
      "metadata": {
        "id": "f8R1bzty5V4o"
      },
      "outputs": [],
      "source": [
        "word_sentiments_df = pd.DataFrame({'Word': review_words_df['Word'], 'Sentiment': word_sentiments})"
      ]
    },
    {
      "cell_type": "code",
      "execution_count": null,
      "metadata": {
        "id": "1Owl8ornfm-Y"
      },
      "outputs": [],
      "source": [
        "top_negative_words = word_sentiments_df[word_sentiments_df['Sentiment'] < 0].head(15)\n",
        "top_positive_words = word_sentiments_df[word_sentiments_df['Sentiment'] > 0].head(15)"
      ]
    },
    {
      "cell_type": "code",
      "execution_count": null,
      "metadata": {
        "colab": {
          "base_uri": "https://localhost:8080/",
          "height": 472
        },
        "id": "VF-haHjKsb0F",
        "outputId": "0fb004b0-3085-4dbb-bf08-b45ad5bf1769"
      },
      "outputs": [
        {
          "output_type": "display_data",
          "data": {
            "text/plain": [
              "<Figure size 640x480 with 1 Axes>"
            ],
            "image/png": "[encoded data removed]"
          },
          "metadata": {}
        }
      ],
      "source": [
        "plt.barh(top_positive_words['Word'], top_positive_words['Sentiment'], color='green', label='Positivas')\n",
        "\n",
        "plt.barh(top_negative_words['Word'], top_negative_words['Sentiment'], color='red', label='Negativas')\n",
        "\n",
        "plt.xlabel('Sentimiento (Negativo hacia la izquierda, Positivo hacia la derecha)')\n",
        "plt.ylabel('Palabra')\n",
        "plt.title('Ranking de Palabras Positivas y Negativas')\n",
        "plt.legend()\n",
        "plt.show()"
      ]
    },
    {
      "cell_type": "code",
      "execution_count": null,
      "metadata": {
        "id": "GShVvyIWb1i8"
      },
      "outputs": [],
      "source": [
        "#Este análisis si bien puede llegar a ser útil en algunos aspectos, lo cierto es que no nos da informacion significativa, dado que por cada palabra\n",
        "#no se puede determinar su asociación a un adjetivo determinado."
      ]
    },
    {
      "cell_type": "markdown",
      "metadata": {
        "id": "3CssTLDppqt8"
      },
      "source": [
        "**4) Secuencias y Ocurrencias de Conjuntos de Palabras**"
      ]
    },
    {
      "cell_type": "code",
      "execution_count": null,
      "metadata": {
        "id": "mixG02Hnc4Rc"
      },
      "outputs": [],
      "source": [
        "#Para acercarnos a la idea de que es lo que los que reseñan valoran, se puede tomar un conjunto de 2 o 3 palabras, de esa forma pudiendo conseguir una\n",
        "#mejor visualización de las opiniones mas frecuentes éstos. Para el caso se elije 3 palabras."
      ]
    },
    {
      "cell_type": "code",
      "execution_count": null,
      "metadata": {
        "id": "5yuoQ0bN32hD"
      },
      "outputs": [],
      "source": [
        "#Se utiliza para esta secuencia, N-Grams, en vez de Tri-Grams, por el simple hecho de tener la posibilidad de manejar cualquier otro tamaño de secuencias\n",
        "#y mantener la flexibilidad del código para ajustar el valor de n según sea necesario."
      ]
    },
    {
      "cell_type": "code",
      "execution_count": null,
      "metadata": {
        "id": "unxV1GuYREXi"
      },
      "outputs": [],
      "source": [
        "reviews_text = rev['text']"
      ]
    },
    {
      "cell_type": "code",
      "execution_count": null,
      "metadata": {
        "id": "74eqOP_03JKQ"
      },
      "outputs": [],
      "source": [
        "n_value = 3"
      ]
    },
    {
      "cell_type": "code",
      "execution_count": null,
      "metadata": {
        "id": "vv4EXTpxSe1Z"
      },
      "outputs": [],
      "source": [
        "def get_positive_sentiment_ngrams(text, n):\n",
        "    blob = TextBlob(text)\n",
        "    tokens = word_tokenize(text.lower())\n",
        "    ngrams_list = list(ngrams(tokens, n))\n",
        "    filtered_ngrams = [\n",
        "        ngram for ngram in ngrams_list\n",
        "        if TextBlob(' '.join(ngram)).sentiment.polarity > 0\n",
        "        and all(word not in {',', '.'} for word in ngram)  # Filtrar comas y puntos\n",
        "    ]\n",
        "    return filtered_ngrams"
      ]
    },
    {
      "cell_type": "code",
      "execution_count": null,
      "metadata": {
        "id": "mxu386-1eltg"
      },
      "outputs": [],
      "source": [
        "def get_negative_sentiment_ngrams(text, n):\n",
        "    blob = TextBlob(text)\n",
        "    tokens = word_tokenize(text.lower())\n",
        "    ngrams_list = list(ngrams(tokens, n))\n",
        "    filtered_ngrams = [\n",
        "        ngram for ngram in ngrams_list\n",
        "        if TextBlob(' '.join(ngram)).sentiment.polarity < 0\n",
        "        and all(word not in {',', '.'} for word in ngram)  # Filtrar comas y puntos\n",
        "    ]\n",
        "    return filtered_ngrams"
      ]
    },
    {
      "cell_type": "code",
      "execution_count": null,
      "metadata": {
        "id": "7jEfFsvtercp"
      },
      "outputs": [],
      "source": [
        "positive_sentiment_ngrams = [ngram for review in reviews_text for ngram in get_positive_sentiment_ngrams(review, n_value)]\n",
        "negative_sentiment_ngrams = [ngram for review in reviews_text for ngram in get_negative_sentiment_ngrams(review, n_value)]"
      ]
    },
    {
      "cell_type": "code",
      "execution_count": null,
      "metadata": {
        "id": "oTCdAi-GfxDT"
      },
      "outputs": [],
      "source": [
        "positive_ngram_freq = FreqDist(positive_sentiment_ngrams)\n",
        "negative_ngram_freq = FreqDist(negative_sentiment_ngrams)"
      ]
    },
    {
      "cell_type": "code",
      "execution_count": null,
      "metadata": {
        "id": "si6ll9bZe6tV"
      },
      "outputs": [],
      "source": [
        "top_positive_ngrams = positive_ngram_freq.most_common(10)\n",
        "top_negative_ngrams = negative_ngram_freq.most_common(10)"
      ]
    },
    {
      "cell_type": "code",
      "execution_count": null,
      "metadata": {
        "id": "bXW_r7aRf0Uq"
      },
      "outputs": [],
      "source": [
        "df_top_positive_ngrams = pd.DataFrame(top_positive_ngrams, columns=['N-gram', 'Ocurrencias'])\n",
        "df_top_negative_ngrams = pd.DataFrame(top_negative_ngrams, columns=['N-gram', 'Ocurrencias'])"
      ]
    },
    {
      "cell_type": "code",
      "execution_count": null,
      "metadata": {
        "colab": {
          "base_uri": "https://localhost:8080/"
        },
        "id": "Dg9dXlbRfCno",
        "outputId": "ad5cd3be-c917-4b5b-8b89-5e355bee9fd5"
      },
      "outputs": [
        {
          "output_type": "stream",
          "name": "stdout",
          "text": [
            "Top 10 3-grams de Sentimientos Positivos:\n",
            "                N-gram  Ocurrencias\n",
            "0      (of, the, best)          749\n",
            "1   (the, first, time)          511\n",
            "2       (is, a, great)          480\n",
            "3       (i, love, the)          480\n",
            "4    (a, great, place)          470\n",
            "5      (is, the, best)          466\n",
            "6   (great, place, to)          460\n",
            "7  (love, this, place)          397\n",
            "8      (most, of, the)          374\n",
            "9    (was, very, good)          365\n",
            "\n",
            "Top 10 3-grams de Sentimientos Negativos:\n",
            "             N-gram  Ocurrencias\n",
            "0  (was, a, little)          498\n",
            "1   (is, a, little)          298\n",
            "2   (a, few, times)          262\n",
            "3  (a, little, bit)          260\n",
            "4   ('m, not, sure)          252\n",
            "5   (a, long, time)          248\n",
            "6   (in, the, past)          222\n",
            "7    (due, to, the)          216\n",
            "8  (of, the, other)          213\n",
            "9     (for, a, few)          206\n"
          ]
        }
      ],
      "source": [
        "print(f\"Top 10 {n_value}-grams de Sentimientos Positivos:\")\n",
        "print(df_top_positive_ngrams)\n",
        "print(f\"\\nTop 10 {n_value}-grams de Sentimientos Negativos:\")\n",
        "print(df_top_negative_ngrams)"
      ]
    },
    {
      "cell_type": "code",
      "execution_count": null,
      "metadata": {
        "colab": {
          "base_uri": "https://localhost:8080/",
          "height": 489
        },
        "id": "Qm6CbgnSfF7h",
        "outputId": "e2650062-4953-4e14-94aa-67cf8d72828a"
      },
      "outputs": [
        {
          "output_type": "display_data",
          "data": {
            "text/plain": [
              "<Figure size 1000x600 with 0 Axes>"
            ]
          },
          "metadata": {}
        },
        {
          "output_type": "display_data",
          "data": {
            "text/plain": [
              "<Figure size 640x480 with 1 Axes>"
            ],
            "image/png": "[encoded data removed]"
          },
          "metadata": {}
        }
      ],
      "source": [
        "plt.figure(figsize=(10, 6))\n",
        "df_top_positive_ngrams.plot(kind='barh', x='N-gram', y='Ocurrencias', color='green')\n",
        "plt.xlabel('Ocurrencias')\n",
        "plt.ylabel('N-gram')\n",
        "plt.title(f'Top 10 {n_value}-grams de Sentimientos Positivos en Reviews')\n",
        "plt.show()"
      ]
    },
    {
      "cell_type": "code",
      "execution_count": null,
      "metadata": {
        "colab": {
          "base_uri": "https://localhost:8080/",
          "height": 489
        },
        "id": "uBYm1sEfcVB2",
        "outputId": "e96720d6-e3e2-4a84-8f02-ea77b8d3b945"
      },
      "outputs": [
        {
          "output_type": "display_data",
          "data": {
            "text/plain": [
              "<Figure size 1000x600 with 0 Axes>"
            ]
          },
          "metadata": {}
        },
        {
          "output_type": "display_data",
          "data": {
            "text/plain": [
              "<Figure size 640x480 with 1 Axes>"
            ],
            "image/png": "[encoded data removed]"
          },
          "metadata": {}
        }
      ],
      "source": [
        "plt.figure(figsize=(10, 6))\n",
        "df_top_negative_ngrams.plot(kind='barh', x='N-gram', y='Ocurrencias', color='red')\n",
        "plt.xlabel('Ocurrencias')\n",
        "plt.ylabel('N-gram')\n",
        "plt.title(f'Top 10 {n_value}-grams de Sentimientos Negativos en Reviews')\n",
        "plt.show()"
      ]
    },
    {
      "cell_type": "code",
      "execution_count": null,
      "metadata": {
        "id": "wpbal-VjSxvK"
      },
      "outputs": [],
      "source": [
        "#Con esto de alguna manera podemos analizar qué se quiere expresar en una review, basándose en la cantidad de repeticiones u ocurrencias con la cual\n",
        "#se intenta conceptualizar un sentimiento. El patrón es una caracteristica que nos da una idea de algo."
      ]
    },
    {
      "cell_type": "markdown",
      "metadata": {
        "id": "6YYMyLqgqcV8"
      },
      "source": [
        "**5) Keywords y Topics por Negocio**"
      ]
    },
    {
      "cell_type": "code",
      "execution_count": null,
      "metadata": {
        "id": "BkAv7gMAEFvj"
      },
      "outputs": [],
      "source": [
        "#Se puede analizar los sentimientos en base a la extracción de temas claves, es decir, 'keywords' y 'topics' a partir de los comentarios hechos en las\n",
        "#reviews. Para hacer esta extracción se utiliza spaCy, donde las keywords se obtienen como lemas de las palabras en el texto que son alfabéticas y no son\n",
        "#palabras de parada o stopwords, y los topics se obtienen a través de los fragmentos nominales en el texto. Se hace un conteo de ambas por negocio y se\n",
        "#analiza la frecuencia de éstas."
      ]
    },
    {
      "cell_type": "code",
      "execution_count": null,
      "metadata": {
        "id": "Z7rDzblItvbq"
      },
      "outputs": [],
      "source": [
        "nlp = spacy.load('en_core_web_sm')"
      ]
    },
    {
      "cell_type": "code",
      "execution_count": null,
      "metadata": {
        "id": "T2-hY9BcdnKC"
      },
      "outputs": [],
      "source": [
        "def extract_keywords_and_topics(text):\n",
        "    doc = nlp(text)\n",
        "    keywords = [token.lemma_ for token in doc if token.is_alpha and not token.is_stop]\n",
        "    topics = [chunk.text for chunk in doc.noun_chunks]\n",
        "    return keywords, topics"
      ]
    },
    {
      "cell_type": "code",
      "execution_count": null,
      "metadata": {
        "id": "IUqGmSgwdoHi"
      },
      "outputs": [],
      "source": [
        "rev['keywords'], rev['topics'] = zip(*rev['text'].apply(extract_keywords_and_topics))"
      ]
    },
    {
      "cell_type": "code",
      "execution_count": null,
      "metadata": {
        "id": "YPiHJP5RdqQj"
      },
      "outputs": [],
      "source": [
        "def count_keywords_topics(series):\n",
        "    flattened_list = [item for sublist in series for item in sublist]\n",
        "    return Counter(flattened_list)"
      ]
    },
    {
      "cell_type": "code",
      "execution_count": null,
      "metadata": {
        "colab": {
          "base_uri": "https://localhost:8080/"
        },
        "id": "XaWX-g-66tkV",
        "outputId": "91451b7e-5995-4dfe-cdb2-d95af103da2f"
      },
      "outputs": [
        {
          "output_type": "stream",
          "name": "stderr",
          "text": [
            "<ipython-input-84-42cc3ec348e7>:1: FutureWarning: Indexing with multiple keys (implicitly converted to a tuple of keys) will be deprecated, use a list instead.\n",
            "  business_keywords_topics = rev.groupby('business_id')['keywords', 'topics'].agg(count_keywords_topics)\n"
          ]
        }
      ],
      "source": [
        "business_keywords_topics = rev.groupby('business_id')['keywords', 'topics'].agg(count_keywords_topics)"
      ]
    },
    {
      "cell_type": "code",
      "execution_count": null,
      "metadata": {
        "colab": {
          "base_uri": "https://localhost:8080/"
        },
        "id": "2oT1Hs1Jduhd",
        "outputId": "359c6c04-2d28-4e0a-9a37-e18f104fd255"
      },
      "outputs": [
        {
          "output_type": "execute_result",
          "data": {
            "text/plain": [
              "                                                                 keywords  \\\n",
              "business_id                                                                 \n",
              "--UE_y6auTgq3FXlvUMkbw  {'come': 49, 'drama': 1, 'waitress': 39, 'nurs...   \n",
              "-1t3U6osBvqFLHseoCxiIA  {'great': 1, 'place': 1, 'work': 2, 'company':...   \n",
              "-6JY1T0w4XETux5kGOj84g  {'niec': 1, 'place': 39, 'pint': 1, 'watch': 2...   \n",
              "-Am2JVkb7nwvBAUwSugG0A  {'pop': 2, 'lunch': 4, 'Saturday': 2, 'morning...   \n",
              "-FQL3Q-Prwxp577SFr5MfA  {'possibly': 1, 'bad': 1, 'experience': 2, 'de...   \n",
              "\n",
              "                                                                   topics  \n",
              "business_id                                                                \n",
              "--UE_y6auTgq3FXlvUMkbw  {'the drama': 1, 'the waitresses': 6, 'nurse s...  \n",
              "-1t3U6osBvqFLHseoCxiIA  {'Great place': 1, 'a company': 1, 'that': 2, ...  \n",
              "-6JY1T0w4XETux5kGOj84g  {'Niec place': 1, 'a pint': 1, 'a game': 5, 'f...  \n",
              "-Am2JVkb7nwvBAUwSugG0A  {'We': 3, 'lunch': 4, 'a Saturday morning': 1,...  \n",
              "-FQL3Q-Prwxp577SFr5MfA  {'the worst experience': 1, 'I': 13, 'a clothi...  "
            ],
            "text/html": [
              "\n",
              "  <div id=\"df-06fe3ff5-7500-4ee2-bc6f-faff7274be0c\" class=\"colab-df-container\">\n",
              "    <div>\n",
              "<style scoped>\n",
              "    .dataframe tbody tr th:only-of-type {\n",
              "        vertical-align: middle;\n",
              "    }\n",
              "\n",
              "    .dataframe tbody tr th {\n",
              "        vertical-align: top;\n",
              "    }\n",
              "\n",
              "    .dataframe thead th {\n",
              "        text-align: right;\n",
              "    }\n",
              "</style>\n",
              "<table border=\"1\" class=\"dataframe\">\n",
              "  <thead>\n",
              "    <tr style=\"text-align: right;\">\n",
              "      <th></th>\n",
              "      <th>keywords</th>\n",
              "      <th>topics</th>\n",
              "    </tr>\n",
              "    <tr>\n",
              "      <th>business_id</th>\n",
              "      <th></th>\n",
              "      <th></th>\n",
              "    </tr>\n",
              "  </thead>\n",
              "  <tbody>\n",
              "    <tr>\n",
              "      <th>--UE_y6auTgq3FXlvUMkbw</th>\n",
              "      <td>{'come': 49, 'drama': 1, 'waitress': 39, 'nurs...</td>\n",
              "      <td>{'the drama': 1, 'the waitresses': 6, 'nurse s...</td>\n",
              "    </tr>\n",
              "    <tr>\n",
              "      <th>-1t3U6osBvqFLHseoCxiIA</th>\n",
              "      <td>{'great': 1, 'place': 1, 'work': 2, 'company':...</td>\n",
              "      <td>{'Great place': 1, 'a company': 1, 'that': 2, ...</td>\n",
              "    </tr>\n",
              "    <tr>\n",
              "      <th>-6JY1T0w4XETux5kGOj84g</th>\n",
              "      <td>{'niec': 1, 'place': 39, 'pint': 1, 'watch': 2...</td>\n",
              "      <td>{'Niec place': 1, 'a pint': 1, 'a game': 5, 'f...</td>\n",
              "    </tr>\n",
              "    <tr>\n",
              "      <th>-Am2JVkb7nwvBAUwSugG0A</th>\n",
              "      <td>{'pop': 2, 'lunch': 4, 'Saturday': 2, 'morning...</td>\n",
              "      <td>{'We': 3, 'lunch': 4, 'a Saturday morning': 1,...</td>\n",
              "    </tr>\n",
              "    <tr>\n",
              "      <th>-FQL3Q-Prwxp577SFr5MfA</th>\n",
              "      <td>{'possibly': 1, 'bad': 1, 'experience': 2, 'de...</td>\n",
              "      <td>{'the worst experience': 1, 'I': 13, 'a clothi...</td>\n",
              "    </tr>\n",
              "  </tbody>\n",
              "</table>\n",
              "</div>\n",
              "    <div class=\"colab-df-buttons\">\n",
              "\n",
              "  <div class=\"colab-df-container\">\n",
              "    <button class=\"colab-df-convert\" onclick=\"convertToInteractive('df-06fe3ff5-7500-4ee2-bc6f-faff7274be0c')\"\n",
              "            title=\"Convert this dataframe to an interactive table.\"\n",
              "            style=\"display:none;\">\n",
              "\n",
              "  <svg xmlns=\"http://www.w3.org/2000/svg\" height=\"24px\" viewBox=\"0 -960 960 960\">\n",
              "    <path d=\"M120-120v-720h720v720H120Zm60-500h600v-160H180v160Zm220 220h160v-160H400v160Zm0 220h160v-160H400v160ZM180-400h160v-160H180v160Zm440 0h160v-160H620v160ZM180-180h160v-160H180v160Zm440 0h160v-160H620v160Z\"/>\n",
              "  </svg>\n",
              "    </button>\n",
              "\n",
              "  <style>\n",
              "    .colab-df-container {\n",
              "      display:flex;\n",
              "      gap: 12px;\n",
              "    }\n",
              "\n",
              "    .colab-df-convert {\n",
              "      background-color: #E8F0FE;\n",
              "      border: none;\n",
              "      border-radius: 50%;\n",
              "      cursor: pointer;\n",
              "      display: none;\n",
              "      fill: #1967D2;\n",
              "      height: 32px;\n",
              "      padding: 0 0 0 0;\n",
              "      width: 32px;\n",
              "    }\n",
              "\n",
              "    .colab-df-convert:hover {\n",
              "      background-color: #E2EBFA;\n",
              "      box-shadow: 0px 1px 2px rgba(60, 64, 67, 0.3), 0px 1px 3px 1px rgba(60, 64, 67, 0.15);\n",
              "      fill: #174EA6;\n",
              "    }\n",
              "\n",
              "    .colab-df-buttons div {\n",
              "      margin-bottom: 4px;\n",
              "    }\n",
              "\n",
              "    [theme=dark] .colab-df-convert {\n",
              "      background-color: #3B4455;\n",
              "      fill: #D2E3FC;\n",
              "    }\n",
              "\n",
              "    [theme=dark] .colab-df-convert:hover {\n",
              "      background-color: #434B5C;\n",
              "      box-shadow: 0px 1px 3px 1px rgba(0, 0, 0, 0.15);\n",
              "      filter: drop-shadow(0px 1px 2px rgba(0, 0, 0, 0.3));\n",
              "      fill: #FFFFFF;\n",
              "    }\n",
              "  </style>\n",
              "\n",
              "    <script>\n",
              "      const buttonEl =\n",
              "        document.querySelector('#df-06fe3ff5-7500-4ee2-bc6f-faff7274be0c button.colab-df-convert');\n",
              "      buttonEl.style.display =\n",
              "        google.colab.kernel.accessAllowed ? 'block' : 'none';\n",
              "\n",
              "      async function convertToInteractive(key) {\n",
              "        const element = document.querySelector('#df-06fe3ff5-7500-4ee2-bc6f-faff7274be0c');\n",
              "        const dataTable =\n",
              "          await google.colab.kernel.invokeFunction('convertToInteractive',\n",
              "                                                    [key], {});\n",
              "        if (!dataTable) return;\n",
              "\n",
              "        const docLinkHtml = 'Like what you see? Visit the ' +\n",
              "          '<a target=\"_blank\" href=https://colab.research.google.com/notebooks/data_table.ipynb>data table notebook</a>'\n",
              "          + ' to learn more about interactive tables.';\n",
              "        element.innerHTML = '';\n",
              "        dataTable['output_type'] = 'display_data';\n",
              "        await google.colab.output.renderOutput(dataTable, element);\n",
              "        const docLink = document.createElement('div');\n",
              "        docLink.innerHTML = docLinkHtml;\n",
              "        element.appendChild(docLink);\n",
              "      }\n",
              "    </script>\n",
              "  </div>\n",
              "\n",
              "\n",
              "<div id=\"df-49b3e96b-297c-4086-b15b-c87a46d8fe1f\">\n",
              "  <button class=\"colab-df-quickchart\" onclick=\"quickchart('df-49b3e96b-297c-4086-b15b-c87a46d8fe1f')\"\n",
              "            title=\"Suggest charts\"\n",
              "            style=\"display:none;\">\n",
              "\n",
              "<svg xmlns=\"http://www.w3.org/2000/svg\" height=\"24px\"viewBox=\"0 0 24 24\"\n",
              "     width=\"24px\">\n",
              "    <g>\n",
              "        <path d=\"M19 3H5c-1.1 0-2 .9-2 2v14c0 1.1.9 2 2 2h14c1.1 0 2-.9 2-2V5c0-1.1-.9-2-2-2zM9 17H7v-7h2v7zm4 0h-2V7h2v10zm4 0h-2v-4h2v4z\"/>\n",
              "    </g>\n",
              "</svg>\n",
              "  </button>\n",
              "\n",
              "<style>\n",
              "  .colab-df-quickchart {\n",
              "      --bg-color: #E8F0FE;\n",
              "      --fill-color: #1967D2;\n",
              "      --hover-bg-color: #E2EBFA;\n",
              "      --hover-fill-color: #174EA6;\n",
              "      --disabled-fill-color: #AAA;\n",
              "      --disabled-bg-color: #DDD;\n",
              "  }\n",
              "\n",
              "  [theme=dark] .colab-df-quickchart {\n",
              "      --bg-color: #3B4455;\n",
              "      --fill-color: #D2E3FC;\n",
              "      --hover-bg-color: #434B5C;\n",
              "      --hover-fill-color: #FFFFFF;\n",
              "      --disabled-bg-color: #3B4455;\n",
              "      --disabled-fill-color: #666;\n",
              "  }\n",
              "\n",
              "  .colab-df-quickchart {\n",
              "    background-color: var(--bg-color);\n",
              "    border: none;\n",
              "    border-radius: 50%;\n",
              "    cursor: pointer;\n",
              "    display: none;\n",
              "    fill: var(--fill-color);\n",
              "    height: 32px;\n",
              "    padding: 0;\n",
              "    width: 32px;\n",
              "  }\n",
              "\n",
              "  .colab-df-quickchart:hover {\n",
              "    background-color: var(--hover-bg-color);\n",
              "    box-shadow: 0 1px 2px rgba(60, 64, 67, 0.3), 0 1px 3px 1px rgba(60, 64, 67, 0.15);\n",
              "    fill: var(--button-hover-fill-color);\n",
              "  }\n",
              "\n",
              "  .colab-df-quickchart-complete:disabled,\n",
              "  .colab-df-quickchart-complete:disabled:hover {\n",
              "    background-color: var(--disabled-bg-color);\n",
              "    fill: var(--disabled-fill-color);\n",
              "    box-shadow: none;\n",
              "  }\n",
              "\n",
              "  .colab-df-spinner {\n",
              "    border: 2px solid var(--fill-color);\n",
              "    border-color: transparent;\n",
              "    border-bottom-color: var(--fill-color);\n",
              "    animation:\n",
              "      spin 1s steps(1) infinite;\n",
              "  }\n",
              "\n",
              "  @keyframes spin {\n",
              "    0% {\n",
              "      border-color: transparent;\n",
              "      border-bottom-color: var(--fill-color);\n",
              "      border-left-color: var(--fill-color);\n",
              "    }\n",
              "    20% {\n",
              "      border-color: transparent;\n",
              "      border-left-color: var(--fill-color);\n",
              "      border-top-color: var(--fill-color);\n",
              "    }\n",
              "    30% {\n",
              "      border-color: transparent;\n",
              "      border-left-color: var(--fill-color);\n",
              "      border-top-color: var(--fill-color);\n",
              "      border-right-color: var(--fill-color);\n",
              "    }\n",
              "    40% {\n",
              "      border-color: transparent;\n",
              "      border-right-color: var(--fill-color);\n",
              "      border-top-color: var(--fill-color);\n",
              "    }\n",
              "    60% {\n",
              "      border-color: transparent;\n",
              "      border-right-color: var(--fill-color);\n",
              "    }\n",
              "    80% {\n",
              "      border-color: transparent;\n",
              "      border-right-color: var(--fill-color);\n",
              "      border-bottom-color: var(--fill-color);\n",
              "    }\n",
              "    90% {\n",
              "      border-color: transparent;\n",
              "      border-bottom-color: var(--fill-color);\n",
              "    }\n",
              "  }\n",
              "</style>\n",
              "\n",
              "  <script>\n",
              "    async function quickchart(key) {\n",
              "      const quickchartButtonEl =\n",
              "        document.querySelector('#' + key + ' button');\n",
              "      quickchartButtonEl.disabled = true;  // To prevent multiple clicks.\n",
              "      quickchartButtonEl.classList.add('colab-df-spinner');\n",
              "      try {\n",
              "        const charts = await google.colab.kernel.invokeFunction(\n",
              "            'suggestCharts', [key], {});\n",
              "      } catch (error) {\n",
              "        console.error('Error during call to suggestCharts:', error);\n",
              "      }\n",
              "      quickchartButtonEl.classList.remove('colab-df-spinner');\n",
              "      quickchartButtonEl.classList.add('colab-df-quickchart-complete');\n",
              "    }\n",
              "    (() => {\n",
              "      let quickchartButtonEl =\n",
              "        document.querySelector('#df-49b3e96b-297c-4086-b15b-c87a46d8fe1f button');\n",
              "      quickchartButtonEl.style.display =\n",
              "        google.colab.kernel.accessAllowed ? 'block' : 'none';\n",
              "    })();\n",
              "  </script>\n",
              "</div>\n",
              "\n",
              "    </div>\n",
              "  </div>\n"
            ]
          },
          "metadata": {},
          "execution_count": 85
        }
      ],
      "source": [
        "business_keywords_topics.head()"
      ]
    },
    {
      "cell_type": "markdown",
      "metadata": {
        "id": "fmB5vDJsqqOk"
      },
      "source": [
        "**6) Negocios con más Reviews Positivas y Negativas**"
      ]
    },
    {
      "cell_type": "code",
      "execution_count": null,
      "metadata": {
        "id": "vuv8J23IDtX6"
      },
      "outputs": [],
      "source": [
        "#Se analiza ahora concretamente el Top 5  de negocios con más comentarios positivos y el Top 5 de los negocios con más comentarios negativos."
      ]
    },
    {
      "cell_type": "code",
      "execution_count": null,
      "metadata": {
        "id": "jzKUfAvoSqDE"
      },
      "outputs": [],
      "source": [
        "rev['sentimiento'] = rev['text'].apply(lambda x: afinn.score(x))"
      ]
    },
    {
      "cell_type": "code",
      "execution_count": null,
      "metadata": {
        "id": "2pz8WiKpSrCn"
      },
      "outputs": [],
      "source": [
        "comentarios_positivos = rev[rev['sentimiento'] > 0]\n",
        "comentarios_negativos = rev[rev['sentimiento'] < 0]"
      ]
    },
    {
      "cell_type": "code",
      "execution_count": null,
      "metadata": {
        "id": "4iBhJnYGTG4Y"
      },
      "outputs": [],
      "source": [
        "top_negativos = comentarios_negativos['business_id'].value_counts().head(5)\n",
        "top_positivos = comentarios_positivos['business_id'].value_counts().head(5)"
      ]
    },
    {
      "cell_type": "code",
      "execution_count": null,
      "metadata": {
        "colab": {
          "base_uri": "https://localhost:8080/"
        },
        "id": "ATXUjaodTI2w",
        "outputId": "a52d2924-5ec3-45b8-d7b3-007ecf81eb3a"
      },
      "outputs": [
        {
          "output_type": "stream",
          "name": "stdout",
          "text": [
            "Top 5 negocios con más comentarios positivos:\n"
          ]
        },
        {
          "output_type": "execute_result",
          "data": {
            "text/plain": [
              "3Q0QQPnHcJuX1DLCL9G9Cg    817\n",
              "mpDxBBGywUE6GRRKja3sBA    490\n",
              "NeUf9FyCCIN4MEseNyqkXQ    328\n",
              "jTGQUWGIVvL-aY03C5BEmw    276\n",
              "NTfUFk8GyOLL1uPbEO-pVg    241\n",
              "Name: business_id, dtype: int64"
            ]
          },
          "metadata": {},
          "execution_count": 90
        }
      ],
      "source": [
        "print(\"Top 5 negocios con más comentarios positivos:\")\n",
        "top_positivos"
      ]
    },
    {
      "cell_type": "code",
      "execution_count": null,
      "metadata": {
        "colab": {
          "base_uri": "https://localhost:8080/"
        },
        "id": "tQQeT-StTaDa",
        "outputId": "c85e89af-24e5-4302-9985-0a65caae015f"
      },
      "outputs": [
        {
          "output_type": "stream",
          "name": "stdout",
          "text": [
            "\n",
            "Top 5 negocios con más comentarios negativos:\n"
          ]
        },
        {
          "output_type": "execute_result",
          "data": {
            "text/plain": [
              "3Q0QQPnHcJuX1DLCL9G9Cg    198\n",
              "vKtMsWeAaThimXGo9Ic_Og     52\n",
              "eThu9hCL8NOjOxswQ-cFSg     48\n",
              "NeUf9FyCCIN4MEseNyqkXQ     42\n",
              "wHi8ODv7TGmeUB02XoX-mA     35\n",
              "Name: business_id, dtype: int64"
            ]
          },
          "metadata": {},
          "execution_count": 91
        }
      ],
      "source": [
        "print(\"\\nTop 5 negocios con más comentarios negativos:\")\n",
        "top_negativos"
      ]
    },
    {
      "cell_type": "code",
      "execution_count": null,
      "metadata": {
        "colab": {
          "base_uri": "https://localhost:8080/"
        },
        "id": "9-f7mCcjTbOW",
        "outputId": "a3391740-df77-401b-b37b-9085bccab077"
      },
      "outputs": [
        {
          "output_type": "execute_result",
          "data": {
            "text/plain": [
              "<matplotlib.legend.Legend at 0x7e84d7d8fc10>"
            ]
          },
          "metadata": {},
          "execution_count": 92
        },
        {
          "output_type": "display_data",
          "data": {
            "text/plain": [
              "<Figure size 1000x600 with 1 Axes>"
            ],
            "image/png": "[encoded data removed]"
          },
          "metadata": {}
        }
      ],
      "source": [
        "fig, ax = plt.subplots(figsize=(10, 6))\n",
        "top_positivos.plot(kind='bar', color='green', ax=ax, label='Positivos')\n",
        "top_negativos.plot(kind='bar', color='red', ax=ax, label='Negativos')\n",
        "\n",
        "ax.set_title('Top 5 Negocios con Comentarios Positivos y Negativos')\n",
        "ax.set_xlabel('Business ID')\n",
        "ax.set_ylabel('Número de Comentarios')\n",
        "ax.legend()"
      ]
    },
    {
      "cell_type": "markdown",
      "metadata": {
        "id": "6O65P0Ywq1xQ"
      },
      "source": [
        "**7) Votación de Reviews**"
      ]
    },
    {
      "cell_type": "code",
      "execution_count": null,
      "metadata": {
        "id": "-UcJ1dBzUATP"
      },
      "outputs": [],
      "source": [
        "#Se nota que hay 3 columnas, 'votes.cool', 'votes.funny' y 'votes.useful'. Se quiere analizar el comportamiento de las personas, al leer una reseña.\n",
        "#Cuántas personas reaccionaron votando por una review cualquiera, y cuántas no reaccionaron en absoluto por ninguna. A la vez, qué reacción predominó\n",
        "#más de las 3, si para 'votes.cool', 'votes.funny' y 'votes.useful'. Y por último, qué negocio recibió más votos por sus reviews, y cuál voto predominó."
      ]
    },
    {
      "cell_type": "code",
      "execution_count": null,
      "metadata": {
        "id": "nCt3LuaOV-Fp"
      },
      "outputs": [],
      "source": [
        "rev['total_votes'] = rev['votes.cool'] + rev['votes.funny'] + rev['votes.useful']\n",
        "reacciones = rev['total_votes'].apply(lambda x: 'Reaccionaron' if x > 0 else 'No reaccionaron')\n",
        "conteo_reacciones = reacciones.value_counts()"
      ]
    },
    {
      "cell_type": "code",
      "execution_count": null,
      "metadata": {
        "id": "xCbU-WKmWQkL"
      },
      "outputs": [],
      "source": [
        "votos_tipo = ['votes.cool', 'votes.funny', 'votes.useful']\n",
        "predominante = rev[votos_tipo].idxmax(axis=1)\n",
        "conteo_predominante = predominante.value_counts()"
      ]
    },
    {
      "cell_type": "code",
      "execution_count": null,
      "metadata": {
        "id": "5r4k88dSWUx2"
      },
      "outputs": [],
      "source": [
        "negocio_mas_votos = rev.groupby('business_id')['total_votes'].sum().idxmax()\n",
        "voto_predominante_negocio = rev[rev['business_id'] == negocio_mas_votos][votos_tipo].idxmax(axis=1).value_counts().idxmax()"
      ]
    },
    {
      "cell_type": "code",
      "execution_count": null,
      "metadata": {
        "colab": {
          "base_uri": "https://localhost:8080/"
        },
        "id": "GsXkr8wlWdUM",
        "outputId": "a1b6062b-bcae-4c64-b65c-f23106f85922"
      },
      "outputs": [
        {
          "output_type": "stream",
          "name": "stdout",
          "text": [
            "Cantidad de personas que reaccionaron y no reaccionaron:\n"
          ]
        },
        {
          "output_type": "execute_result",
          "data": {
            "text/plain": [
              "No reaccionaron    14517\n",
              "Reaccionaron       12773\n",
              "Name: total_votes, dtype: int64"
            ]
          },
          "metadata": {},
          "execution_count": 97
        }
      ],
      "source": [
        "print(\"Cantidad de personas que reaccionaron y no reaccionaron:\")\n",
        "conteo_reacciones"
      ]
    },
    {
      "cell_type": "code",
      "execution_count": null,
      "metadata": {
        "colab": {
          "base_uri": "https://localhost:8080/"
        },
        "id": "Bg7BPrmeWeeM",
        "outputId": "4f1d68d6-6961-4677-9c89-f4b15341cf84"
      },
      "outputs": [
        {
          "output_type": "stream",
          "name": "stdout",
          "text": [
            "\n",
            "Reacción predominante entre 'votes.cool', 'votes.funny' y 'votes.useful':\n"
          ]
        },
        {
          "output_type": "execute_result",
          "data": {
            "text/plain": [
              "votes.cool      17956\n",
              "votes.useful     7681\n",
              "votes.funny      1653\n",
              "dtype: int64"
            ]
          },
          "metadata": {},
          "execution_count": 98
        }
      ],
      "source": [
        "print(\"\\nReacción predominante entre 'votes.cool', 'votes.funny' y 'votes.useful':\")\n",
        "conteo_predominante"
      ]
    },
    {
      "cell_type": "code",
      "execution_count": null,
      "metadata": {
        "colab": {
          "base_uri": "https://localhost:8080/"
        },
        "id": "C3agsUfpWZZM",
        "outputId": "ed69577a-7de6-4e5d-ebc8-5495be0a5d52"
      },
      "outputs": [
        {
          "output_type": "stream",
          "name": "stdout",
          "text": [
            "Negocio con más votos: 3Q0QQPnHcJuX1DLCL9G9Cg\n",
            "Voto predominante en ese negocio: votes.cool\n"
          ]
        }
      ],
      "source": [
        "print(\"Negocio con más votos:\", negocio_mas_votos)\n",
        "print(\"Voto predominante en ese negocio:\", voto_predominante_negocio)"
      ]
    },
    {
      "cell_type": "code",
      "execution_count": null,
      "metadata": {
        "colab": {
          "base_uri": "https://localhost:8080/"
        },
        "id": "DXbPbY4sWiTZ",
        "outputId": "a87fb03b-16c5-4108-d55f-7b0d2ad170f3"
      },
      "outputs": [
        {
          "output_type": "display_data",
          "data": {
            "text/plain": [
              "<Figure size 1500x500 with 3 Axes>"
            ],
            "image/png": "[encoded data removed]"
          },
          "metadata": {}
        }
      ],
      "source": [
        "fig, axes = plt.subplots(1, 3, figsize=(15, 5))\n",
        "\n",
        "conteo_reacciones.plot(kind='bar', ax=axes[0], color=['gray', 'pink'])\n",
        "axes[0].set_title('Reacciones y No Reacciones a las Reviews ')\n",
        "axes[0].set_ylabel('Número de Reviews')\n",
        "\n",
        "conteo_predominante.plot(kind='bar', ax=axes[1], color='purple')\n",
        "axes[1].set_title('Reacción Predominante')\n",
        "axes[1].set_ylabel('Número de Reviews')\n",
        "\n",
        "rev[rev['business_id'] == negocio_mas_votos][votos_tipo].idxmax(axis=1).value_counts().plot(kind='bar', ax=axes[2], color='orange')\n",
        "axes[2].set_title('Voto Predominante en Negocio Más Votado')\n",
        "axes[2].set_ylabel('Número de Reviews')\n",
        "\n",
        "plt.tight_layout()\n",
        "plt.show()"
      ]
    },
    {
      "cell_type": "code",
      "execution_count": null,
      "metadata": {
        "id": "lWZUuad8h7n6"
      },
      "outputs": [],
      "source": [
        "#Se quiere saber cuál fue el negocio más votado y cuántos recibió en total."
      ]
    },
    {
      "cell_type": "code",
      "execution_count": null,
      "metadata": {
        "id": "bEeakQbjdL-b"
      },
      "outputs": [],
      "source": [
        "rev['total_votes'] = rev['votes.cool'] + rev['votes.funny'] + rev['votes.useful']"
      ]
    },
    {
      "cell_type": "code",
      "execution_count": null,
      "metadata": {
        "id": "CAyktP1ihtYZ"
      },
      "outputs": [],
      "source": [
        "votos_por_negocio = rev.groupby('business_id')['total_votes'].sum()"
      ]
    },
    {
      "cell_type": "code",
      "execution_count": null,
      "metadata": {
        "id": "UtiHIgFBhwUZ"
      },
      "outputs": [],
      "source": [
        "negocio_mas_votado = votos_por_negocio.idxmax()\n",
        "votos_negocio_mas_votado = votos_por_negocio.max()"
      ]
    },
    {
      "cell_type": "code",
      "execution_count": null,
      "metadata": {
        "colab": {
          "base_uri": "https://localhost:8080/"
        },
        "id": "lmIbqmPZhzNV",
        "outputId": "82b075ed-b4ac-4649-f5cc-aafd79eb4a89"
      },
      "outputs": [
        {
          "output_type": "stream",
          "name": "stdout",
          "text": [
            "Negocio más votado:\n",
            "ID del Negocio: 3Q0QQPnHcJuX1DLCL9G9Cg\n",
            "Total de Votos: 2041\n"
          ]
        }
      ],
      "source": [
        "print(\"Negocio más votado:\")\n",
        "print(\"ID del Negocio:\", negocio_mas_votado)\n",
        "print(\"Total de Votos:\", votos_negocio_mas_votado)"
      ]
    },
    {
      "cell_type": "markdown",
      "metadata": {
        "id": "R3Ctxi73rDyb"
      },
      "source": [
        "**8) Coherencia entre Rating y Sentimiento Expresado**"
      ]
    },
    {
      "cell_type": "code",
      "execution_count": null,
      "metadata": {
        "id": "U35CCnNrW-pa"
      },
      "outputs": [],
      "source": [
        "#Se quiere analizar si el nivel de rating 'stars' puestas por el que reseñó, tiene coherencia con el sentimiento que expresa en el texto 'text' de la\n",
        "#reseña. Como esta aproximación es subjetiva, se opta por usar TextBlob como opción para realizar análisis de subjetividad en texto."
      ]
    },
    {
      "cell_type": "code",
      "execution_count": null,
      "metadata": {
        "id": "qilUwMywY8GE"
      },
      "outputs": [],
      "source": [
        "rev['subjectivity'] = rev['text'].apply(lambda x: TextBlob(str(x)).sentiment.subjectivity)"
      ]
    },
    {
      "cell_type": "code",
      "execution_count": null,
      "metadata": {
        "colab": {
          "base_uri": "https://localhost:8080/"
        },
        "id": "09qnJzCkZAw2",
        "outputId": "e9b7c7d2-1d8a-43d3-f71b-7989f0cb8b44"
      },
      "outputs": [
        {
          "output_type": "display_data",
          "data": {
            "text/plain": [
              "<Figure size 1000x600 with 1 Axes>"
            ],
            "image/png": "[encoded data removed]"
          },
          "metadata": {}
        }
      ],
      "source": [
        "plt.figure(figsize=(10, 6))\n",
        "plt.scatter(rev['stars'], rev['subjectivity'], alpha=0.5)\n",
        "plt.title('Relación entre Estrellas y Subjetividad en Reviews')\n",
        "plt.xlabel('Número de Estrellas')\n",
        "plt.ylabel('Subjetividad del Texto')\n",
        "plt.show()"
      ]
    },
    {
      "cell_type": "code",
      "execution_count": null,
      "metadata": {
        "id": "kB5uXJOMZI2h"
      },
      "outputs": [],
      "source": [
        "#Se crea un gráfico de dispersión que muestra la relación entre el número de rating asignado y la subjetividad del texto. Un patrón coherente podría\n",
        "#indicar que los usuarios tienden a dar estrellas más altas a reviews más subjetivas, o viceversa. Las posibles aproximaciones y las interpretaciones de\n",
        "#la subjetividad es subjetiva en sí misma."
      ]
    },
    {
      "cell_type": "code",
      "execution_count": null,
      "metadata": {
        "id": "K0rOMF8Ik2JL"
      },
      "outputs": [],
      "source": [
        "#Hay algunas consideraciones para analizar un gráfico de dispersión en este contexto, por ejemplo, tendencias generales donde se examine la distribución\n",
        "#general de los puntos en el gráfico. Otro caso es analizar la correlación, calculando el coeficiente de correlación para medir la fuerza y la dirección\n",
        "#de la relación lineal entre las dos variables. Un coeficiente de correlación cercano a 1 indica una fuerte correlación positiva, mientras que un valor\n",
        "#cercano a -1 indica una fuerte correlación inversa. Un valor cercano a 0 sugiere una correlación débil o inexistente. Y por último se puede analizar la\n",
        "#densidad de puntos, las áreas más oscuras indicarán una mayor densidad de puntos, mientras que las áreas más claras indicarán una menor densidad."
      ]
    },
    {
      "cell_type": "code",
      "execution_count": null,
      "metadata": {
        "id": "jP1qyaLHif97"
      },
      "outputs": [],
      "source": [
        "correlation_coefficient = rev['stars'].corr(rev['subjectivity'])"
      ]
    },
    {
      "cell_type": "code",
      "execution_count": null,
      "metadata": {
        "colab": {
          "base_uri": "https://localhost:8080/"
        },
        "id": "9gwKREtbjIgc",
        "outputId": "3918dc35-d7b9-4396-e7d5-f22152aa414a"
      },
      "outputs": [
        {
          "output_type": "stream",
          "name": "stdout",
          "text": [
            "Coeficiente de correlación entre 'stars' y 'subjectivity': 0.14730291546164304\n"
          ]
        }
      ],
      "source": [
        "print(\"Coeficiente de correlación entre 'stars' y 'subjectivity':\", correlation_coefficient)"
      ]
    },
    {
      "cell_type": "code",
      "execution_count": null,
      "metadata": {
        "id": "k3K1RUIil9sE"
      },
      "outputs": [],
      "source": [
        "#Se puede ver que la relación es prácticamente débil entre el sentimiento que expresa el texto de la review y la cantidad de puntuación en estrellas."
      ]
    },
    {
      "cell_type": "code",
      "execution_count": null,
      "metadata": {
        "colab": {
          "base_uri": "https://localhost:8080/"
        },
        "id": "lpoVV-uMjLLm",
        "outputId": "38149491-708b-4bbf-fe84-4f325198fffe"
      },
      "outputs": [
        {
          "output_type": "display_data",
          "data": {
            "text/plain": [
              "<Figure size 640x480 with 2 Axes>"
            ],
            "image/png": "[encoded data removed]"
          },
          "metadata": {}
        }
      ],
      "source": [
        "plt.hexbin(rev['stars'], rev['subjectivity'], gridsize=30, cmap='Reds')\n",
        "plt.title('Densidad de Puntos entre Estrellas y Subjetividad en Reviews')\n",
        "plt.xlabel('Número de Estrellas')\n",
        "plt.ylabel('Subjetividad del Texto')\n",
        "plt.colorbar(label='Densidad de Puntos')\n",
        "plt.show()"
      ]
    },
    {
      "cell_type": "code",
      "execution_count": null,
      "metadata": {
        "id": "H273vZO1mQ8D"
      },
      "outputs": [],
      "source": [
        "#Por otro lado, en el contexto de análisis de sentimientos, la subjetividad del texto es una medida que indica en qué medida el texto es subjetivo u\n",
        "#objetivo. Esta medida generalmente se encuentra en un rango de 0 a 1 como se aprecia en el gráfico."
      ]
    },
    {
      "cell_type": "code",
      "execution_count": null,
      "metadata": {
        "id": "QsnaoOW2nsRB"
      },
      "outputs": [],
      "source": [
        "#0: Indica que el texto es completamente objetivo. En otras palabras, el texto es puramente informativo y no contiene opiniones personales, emociones\n",
        "#u evaluaciones subjetivas. El 1: Indica que el texto es completamente subjetivo. En este extremo del espectro, el texto está altamente influenciado\n",
        "#por opiniones personales, emociones y evaluaciones subjetivas. Mientras que un valor de subjetividad entre 0 y 1 significa que el texto tiene un grado\n",
        "#variable de subjetividad. Por ejemplo: Un valor cercano a 0.2 podría indicar un texto que tiende a ser más objetivo que subjetivo. Un valor cercano a\n",
        "#0.8 podría indicar un texto que tiende a ser más subjetivo que objetivo."
      ]
    },
    {
      "cell_type": "code",
      "execution_count": null,
      "metadata": {
        "id": "A5FDBOp6n7Io"
      },
      "outputs": [],
      "source": [
        "#Si la subjetividad está concentrada en un rango específico (lo que se ve está entre 0.4 y 0.6), podría sugerir que las reviews en ese rango tienden a ser\n",
        "#moderadamente subjetivas y contienen una mezcla de información objetiva y opiniones personales."
      ]
    },
    {
      "cell_type": "code",
      "execution_count": null,
      "metadata": {
        "id": "59D0vHBFkTVO"
      },
      "outputs": [],
      "source": [
        "X = rev['stars'].values.reshape(-1, 1)\n",
        "y = rev['subjectivity'].values\n",
        "model = LinearRegression().fit(X, y)\n",
        "regression_line = model.predict(X)"
      ]
    },
    {
      "cell_type": "code",
      "execution_count": null,
      "metadata": {
        "colab": {
          "base_uri": "https://localhost:8080/"
        },
        "id": "yULYbua3kaza",
        "outputId": "c41af7c3-cd55-48d7-f030-a1281a5b8e8b"
      },
      "outputs": [
        {
          "output_type": "display_data",
          "data": {
            "text/plain": [
              "<Figure size 640x480 with 1 Axes>"
            ],
            "image/png": "[encoded data removed]"
          },
          "metadata": {}
        }
      ],
      "source": [
        "plt.scatter(rev['stars'], rev['subjectivity'], alpha=0.5, label='Datos')\n",
        "plt.plot(rev['stars'], regression_line, color='red', label='Línea de Regresión')\n",
        "plt.title('Tendencia General entre Estrellas y Subjetividad en Reviews')\n",
        "plt.xlabel('Número de Estrellas')\n",
        "plt.ylabel('Subjetividad del Texto')\n",
        "plt.legend()\n",
        "plt.show()"
      ]
    },
    {
      "cell_type": "code",
      "execution_count": null,
      "metadata": {
        "id": "ttrWNDDgoGy5"
      },
      "outputs": [],
      "source": [
        "#Las tendencias generales en un gráfico de dispersión, se ajusta con una línea de regresión lineal para visualizar la dirección y la fuerza de la\n",
        "#relación entre las variables. Una pendiente positiva indica una relación positiva, como se ve en este caso."
      ]
    },
    {
      "cell_type": "code",
      "execution_count": null,
      "metadata": {
        "id": "8zDhFjOMo9hw"
      },
      "outputs": [],
      "source": [
        "#Esto significa que, en promedio, a medida que el número de estrellas aumenta, también tiende a aumentar la subjetividad del texto."
      ]
    },
    {
      "cell_type": "code",
      "execution_count": null,
      "metadata": {
        "id": "47ilbJivpA_y"
      },
      "outputs": [],
      "source": [
        "#Sin embargo, el coeficiente de correlación es relativamente bajo (0.147), lo que sugiere que la relación no es fuerte."
      ]
    },
    {
      "cell_type": "code",
      "execution_count": null,
      "metadata": {
        "id": "-HowenR6pI3M"
      },
      "outputs": [],
      "source": [
        "#La aparente discrepancia entre la pendiente positiva y el coeficiente de correlación bajo puede deberse a la presencia de puntos atípicos o a la\n",
        "#naturaleza no lineal de la relación. La regresión lineal asume una relación lineal, pero si la relación es más compleja, un coeficiente de correlación\n",
        "#bajo puede indicar que la relación no es bien capturada por una línea recta."
      ]
    },
    {
      "cell_type": "code",
      "execution_count": null,
      "metadata": {
        "id": "zXORksdpqDAb"
      },
      "outputs": [],
      "source": [
        "degree = 2\n",
        "model = make_pipeline(PolynomialFeatures(degree), LinearRegression())\n",
        "model.fit(rev[['stars']], rev['subjectivity'])\n",
        "regression_line = model.predict(rev[['stars']])"
      ]
    },
    {
      "cell_type": "code",
      "execution_count": null,
      "metadata": {
        "colab": {
          "base_uri": "https://localhost:8080/"
        },
        "id": "Y72kzMwNqJUZ",
        "outputId": "3b79af82-96f3-481a-d3d2-57b205302403"
      },
      "outputs": [
        {
          "output_type": "display_data",
          "data": {
            "text/plain": [
              "<Figure size 640x480 with 1 Axes>"
            ],
            "image/png": "[encoded data removed]"
          },
          "metadata": {}
        }
      ],
      "source": [
        "plt.plot(rev['stars'], regression_line, color='red', label=f'Regresión Polinómica (grado {degree})')\n",
        "plt.title('Tendencia General entre Estrellas y Subjetividad en Reviews')\n",
        "plt.xlabel('Número de Estrellas')\n",
        "plt.ylabel('Subjetividad del Texto')\n",
        "plt.legend()\n",
        "plt.show()"
      ]
    },
    {
      "cell_type": "code",
      "execution_count": null,
      "metadata": {
        "id": "Q9xKIU6sqaBz"
      },
      "outputs": [],
      "source": [
        "#Se aprecia entonces ahora si, que aquellos que:\n",
        "\n",
        "#Reviews de 1 Estrella:\n",
        "#Subjetividad: Baja a moderada (0 a 0.52).\n",
        "#Interpretación: Tienden a ser más objetivas y determinantes en su expresión negativa, con una baja a moderada subjetividad.\n",
        "\n",
        "#Reviews de 2 a 4 Estrellas:\n",
        "#Subjetividad: Moderada (0.50 a 0.57).\n",
        "#Interpretación: Tienden a ser moderadamente subjetivas tanto en la expresión como en la puntuación. Los que reseñan en este rango pueden tener opiniones\n",
        "#más equilibradas y expresar subjetividad moderada.\n",
        "\n",
        "#Reviews de 5 Estrellas:\n",
        "#Subjetividad: Alta (0.57 a 1).\n",
        "#Interpretación: Se muestra una alta subjetividad en tanto en la expresión como en la puntuación. Aquí expresan sus opiniones fuertemente subjetivas y\n",
        "#cargadas de sentimiento positivo."
      ]
    },
    {
      "cell_type": "code",
      "execution_count": null,
      "metadata": {
        "id": "KJ0LolBRE_og"
      },
      "outputs": [],
      "source": [
        "#Cuando más subjetiva es la review, más incoherente puede ser lo que se siente y se expresa, con el rating de estrellas que se opta por calificar."
      ]
    },
    {
      "cell_type": "code",
      "execution_count": null,
      "metadata": {
        "id": "XQdk9s8FFT8-"
      },
      "outputs": [],
      "source": [
        "#Eso explica, porque la correlación por 'business_id' da en un ejemplo, 0,17 otorgando 4 estrellas, o 0,25 otorgando 5 estrellas, mientras que en otro caso\n",
        "#para 0,95 otorga la misma cantidad de estrellas."
      ]
    },
    {
      "cell_type": "markdown",
      "metadata": {
        "id": "HSkVXFTmrdun"
      },
      "source": [
        "**9) Fecha con mayor Registro de Reviews**"
      ]
    },
    {
      "cell_type": "code",
      "execution_count": null,
      "metadata": {
        "id": "o9ZXjqyetJ2N"
      },
      "outputs": [],
      "source": [
        "#En qué fecha se registraron más reviews? Esta pregunta que se hace es con el propósito de determinar en qué momento del año y en qué año hubo más\n",
        "#concurrencia, por la cual luego de la experiencia, fue alta la voluntad de dejar una review al respecto."
      ]
    },
    {
      "cell_type": "code",
      "execution_count": null,
      "metadata": {
        "id": "W1XOdlobvEeI"
      },
      "outputs": [],
      "source": [
        "rev['date'] = pd.to_datetime(rev['date'])"
      ]
    },
    {
      "cell_type": "code",
      "execution_count": null,
      "metadata": {
        "id": "IRoTJuPhvKMk"
      },
      "outputs": [],
      "source": [
        "reseñas_por_fecha = rev.groupby('date').size().reset_index(name='count')"
      ]
    },
    {
      "cell_type": "code",
      "execution_count": null,
      "metadata": {
        "id": "2nqkMiBTvL8l"
      },
      "outputs": [],
      "source": [
        "fecha_max_reseñas = reseñas_por_fecha.loc[reseñas_por_fecha['count'].idxmax()]"
      ]
    },
    {
      "cell_type": "code",
      "execution_count": null,
      "metadata": {
        "colab": {
          "base_uri": "https://localhost:8080/"
        },
        "id": "qzFdaWPVvOTU",
        "outputId": "698f3c74-3f9b-4ee2-eef3-e1b428b9cf6b"
      },
      "outputs": [
        {
          "output_type": "stream",
          "name": "stdout",
          "text": [
            "Fecha con el máximo número de reviews:\n"
          ]
        },
        {
          "output_type": "execute_result",
          "data": {
            "text/plain": [
              "date     2015-08-10 00:00:00\n",
              "count                     35\n",
              "Name: 2890, dtype: object"
            ]
          },
          "metadata": {},
          "execution_count": 133
        }
      ],
      "source": [
        "print(\"Fecha con el máximo número de reviews:\")\n",
        "fecha_max_reseñas"
      ]
    },
    {
      "cell_type": "code",
      "execution_count": null,
      "metadata": {
        "id": "8j0b8GsMwLVP"
      },
      "outputs": [],
      "source": [
        "#Para analizar si hubo más sentimientos positivos o negativos en la fecha con el máximo número de reviews, así como la cantidad de votos al respecto,\n",
        "#se puede ver la distribución de estrellas o rating, y sumar los votos (votes.cool, votes.funny, votes.useful) para obtener el total de votos recibidos."
      ]
    },
    {
      "cell_type": "code",
      "execution_count": null,
      "metadata": {
        "id": "zu1XHsYqwI50"
      },
      "outputs": [],
      "source": [
        "fecha_max_reseñas = rev['date'].value_counts().idxmax()"
      ]
    },
    {
      "cell_type": "code",
      "execution_count": null,
      "metadata": {
        "id": "ENBoImSxvUQC"
      },
      "outputs": [],
      "source": [
        "reseñas_en_fecha_max = rev[rev['date'] == fecha_max_reseñas]"
      ]
    },
    {
      "cell_type": "code",
      "execution_count": null,
      "metadata": {
        "id": "d13bmnZSwLyL"
      },
      "outputs": [],
      "source": [
        "distribucion_estrellas = reseñas_en_fecha_max['stars'].value_counts()"
      ]
    },
    {
      "cell_type": "code",
      "execution_count": null,
      "metadata": {
        "id": "S53SqBqmwNLu"
      },
      "outputs": [],
      "source": [
        "total_votos = reseñas_en_fecha_max[['votes.cool', 'votes.funny', 'votes.useful']].sum().sum()"
      ]
    },
    {
      "cell_type": "code",
      "execution_count": null,
      "metadata": {
        "id": "nPha7qhRxyLd"
      },
      "outputs": [],
      "source": [
        "tipo_de_voto_mas_frecuente = reseñas_en_fecha_max[['votes.cool', 'votes.funny', 'votes.useful']].sum().idxmax()"
      ]
    },
    {
      "cell_type": "code",
      "execution_count": null,
      "metadata": {
        "colab": {
          "base_uri": "https://localhost:8080/"
        },
        "id": "uEpg2YUzwPh4",
        "outputId": "c03b9b68-c93f-481c-d706-6844ceb7edef"
      },
      "outputs": [
        {
          "output_type": "stream",
          "name": "stdout",
          "text": [
            "Distribución de Estrellas en la Fecha con Más Reviews:\n",
            "5    13\n",
            "2     7\n",
            "4     7\n",
            "1     5\n",
            "3     3\n",
            "Name: stars, dtype: int64\n",
            "\n",
            "Total de Votos en la Fecha con Más Reviews: 33\n",
            "Tipo de Voto Más Frecuente en la Fecha con Más Reviews: votes.useful\n"
          ]
        }
      ],
      "source": [
        "print(\"Distribución de Estrellas en la Fecha con Más Reviews:\")\n",
        "print(distribucion_estrellas)\n",
        "print(\"\\nTotal de Votos en la Fecha con Más Reviews:\", total_votos)\n",
        "print(\"Tipo de Voto Más Frecuente en la Fecha con Más Reviews:\", tipo_de_voto_mas_frecuente)"
      ]
    },
    {
      "cell_type": "code",
      "execution_count": null,
      "metadata": {
        "colab": {
          "base_uri": "https://localhost:8080/",
          "height": 472
        },
        "id": "_NJI7BjBywQb",
        "outputId": "2fe1478a-55f9-486f-e701-ff541efdfb3e"
      },
      "outputs": [
        {
          "output_type": "display_data",
          "data": {
            "text/plain": [
              "<Figure size 640x480 with 1 Axes>"
            ],
            "image/png": "[encoded data removed]"
          },
          "metadata": {}
        }
      ],
      "source": [
        "plt.bar(distribucion_estrellas.index, distribucion_estrellas.values, color=['green', 'orange', 'blue', 'red', 'yellow'])\n",
        "plt.title('Rating en la Fecha con Más Reviews')\n",
        "plt.xlabel('Número de Estrellas')\n",
        "plt.ylabel('Cantidad de Reviews')\n",
        "plt.show()"
      ]
    },
    {
      "cell_type": "code",
      "execution_count": null,
      "metadata": {
        "id": "JDrHBzxrwvsI"
      },
      "outputs": [],
      "source": [
        "#Si se quisiera analizar los sentimientos positivos o negativos, pero en vez de analizar la distribución de estrellas, fuera por las palabras que resaltan\n",
        "#positividad o negatividad predominantemente, se puede utilizar TextBlob para asignar un valor de polaridad de sentimiento a cada reseña."
      ]
    },
    {
      "cell_type": "code",
      "execution_count": null,
      "metadata": {
        "id": "SBVxoi-BxO4d"
      },
      "outputs": [],
      "source": [
        "fecha_max_reseñas = rev['date'].value_counts().idxmax()"
      ]
    },
    {
      "cell_type": "code",
      "execution_count": null,
      "metadata": {
        "id": "stcbZFAkxPxA"
      },
      "outputs": [],
      "source": [
        "reseñas_en_fecha_max = rev[rev['date'] == fecha_max_reseñas]"
      ]
    },
    {
      "cell_type": "code",
      "execution_count": null,
      "metadata": {
        "id": "7yuKJ5dhxRfi"
      },
      "outputs": [],
      "source": [
        "pd.set_option('mode.chained_assignment', None)\n",
        "reseñas_en_fecha_max['sentimiento'] = reseñas_en_fecha_max['text'].apply(lambda x: TextBlob(str(x)).sentiment.polarity)"
      ]
    },
    {
      "cell_type": "code",
      "execution_count": null,
      "metadata": {
        "id": "8ytuWt5pxWnH"
      },
      "outputs": [],
      "source": [
        "distribucion_sentimientos = pd.cut(reseñas_en_fecha_max['sentimiento'], bins=[-1, 0, 1], labels=['Negativo', 'Positivo']).value_counts()"
      ]
    },
    {
      "cell_type": "code",
      "execution_count": null,
      "metadata": {
        "colab": {
          "base_uri": "https://localhost:8080/"
        },
        "id": "W7a88ybixX5r",
        "outputId": "4ac1f2d9-15cd-436b-a79a-d118520d3c88"
      },
      "outputs": [
        {
          "output_type": "stream",
          "name": "stdout",
          "text": [
            "Distribución de Sentimientos en la Fecha con Más Reviews:\n"
          ]
        },
        {
          "output_type": "execute_result",
          "data": {
            "text/plain": [
              "Positivo    31\n",
              "Negativo     4\n",
              "Name: sentimiento, dtype: int64"
            ]
          },
          "metadata": {},
          "execution_count": 147
        }
      ],
      "source": [
        "print(\"Distribución de Sentimientos en la Fecha con Más Reviews:\")\n",
        "distribucion_sentimientos"
      ]
    },
    {
      "cell_type": "code",
      "execution_count": null,
      "metadata": {
        "colab": {
          "base_uri": "https://localhost:8080/",
          "height": 428
        },
        "id": "Do2YHpGayW2J",
        "outputId": "8a9d8751-96d8-42e7-e760-cc72d8022d16"
      },
      "outputs": [
        {
          "output_type": "display_data",
          "data": {
            "text/plain": [
              "<Figure size 640x480 with 1 Axes>"
            ],
            "image/png": "[encoded data removed]"
          },
          "metadata": {}
        }
      ],
      "source": [
        "plt.pie(distribucion_sentimientos, labels=distribucion_sentimientos.index, autopct='%1.1f%%', colors=['green', 'red'])\n",
        "plt.title('Distribución de Sentimientos en la Fecha con Más Reviews')\n",
        "plt.show()"
      ]
    },
    {
      "cell_type": "markdown",
      "metadata": {
        "id": "5AmOPvmbsPND"
      },
      "source": [
        "**10) Sentimientos a lo Largo del Tiempo**"
      ]
    },
    {
      "cell_type": "code",
      "execution_count": null,
      "metadata": {
        "id": "-7HMjevW0RSn"
      },
      "outputs": [],
      "source": [
        "#Ahora analizando toda la columna 'date', no de una fecha concreta, sino de todas las reviews que hay, se quiere analizar los sentimientos a lo largo\n",
        "#del tiempo."
      ]
    },
    {
      "cell_type": "code",
      "execution_count": null,
      "metadata": {
        "id": "CJmSd1dz1QgB"
      },
      "outputs": [],
      "source": [
        "sentimiento_promedio_por_fecha = rev.groupby('date')['sentimiento'].mean()"
      ]
    },
    {
      "cell_type": "code",
      "execution_count": null,
      "metadata": {
        "colab": {
          "base_uri": "https://localhost:8080/"
        },
        "id": "5EFrUERD1aNh",
        "outputId": "e22ba5fc-c490-4e5a-acf5-34348eac0a11"
      },
      "outputs": [
        {
          "output_type": "display_data",
          "data": {
            "text/plain": [
              "<Figure size 1000x600 with 1 Axes>"
            ],
            "image/png": "[encoded data removed]"
          },
          "metadata": {}
        }
      ],
      "source": [
        "plt.figure(figsize=(10, 6))\n",
        "plt.plot(sentimiento_promedio_por_fecha.index, sentimiento_promedio_por_fecha.values, marker='o', linestyle='-', color='grey')\n",
        "plt.title('Tendencia de Sentimientos a lo largo del Tiempo')\n",
        "plt.xlabel('Fecha')\n",
        "plt.ylabel('Sentimiento Promedio')\n",
        "plt.xticks(rotation=45)\n",
        "plt.tight_layout()\n",
        "plt.show()"
      ]
    },
    {
      "cell_type": "code",
      "execution_count": null,
      "metadata": {
        "id": "8ThAeSEm4JIf"
      },
      "outputs": [],
      "source": [
        "#Cuando se observa una tendencia donde la mayoría de los puntos están concentrados en un rango más estrecho, como entre 0 y 20, mientras que hay algunos\n",
        "#puntos dispersos en un rango más amplio (por ejemplo, de -10 a 70), puede indicar varias cosas sobre las reviews y sus sentimientos a lo largo del tiempo.\n",
        "#Entre esas, está el 'Análisis de Temas y Opiniones', esto puede ayudar a identificar temas recurrentes y áreas específicas de preocupación o satisfacción."
      ]
    },
    {
      "cell_type": "code",
      "execution_count": null,
      "metadata": {
        "id": "VbLa2noQ4ELi"
      },
      "outputs": [],
      "source": [
        "#Se utiliza un modelo de análisis de sentimiento de Hugging Face para asignar un sentimiento (positivo o negativo) a cada review."
      ]
    },
    {
      "cell_type": "code",
      "execution_count": null,
      "metadata": {
        "colab": {
          "base_uri": "https://localhost:8080/",
          "height": 200,
          "referenced_widgets": [
            "f1d938d1add243a18e4816dbb899de36",
            "116d8bb161684737b359aea1b2f2c898",
            "c9ce4e1155ab46bcb8975fe3b7befea1",
            "c70f5a9571db4a00bff4bb8781c464a6",
            "6ae3374dbed24b60a9de6cde9b969543",
            "76fb8d3b67ed4aa5a7731c8b4084ba21",
            "85b7d00cb5224bc9a0870ec26bba9440",
            "951758b629c14f4d9d42e8bd981dcb1e",
            "7b8b8b2821d449f4abddbb764ab705c8",
            "f9e7b41373904632baecfc6163efa144",
            "2b9752ca7be84054b0c265523af3403d",
            "a6668be1dd114196bccde60961558103",
            "5d687db55e624822a9614068253f89f4",
            "37c6cb9b4422455bb42991d299d08167",
            "473a79c167d64273896c4183e9c3b08d",
            "ad67629609d14ae78ea001f4181d216b",
            "b0ad02d4cddd4e4e97d76062a8e52598",
            "f06511eb36db46f3a28beea020b047e0",
            "0ea065e8b8c6430bab3dd1498caeea53",
            "aac02b095b4a463f9dadb18662c61724",
            "22759ff226a545eba01fc27f4480f3c1",
            "6fea697315ef4439b2847d55902e26a2",
            "c25cff8d372542e38c5b11bf07c4c4ca",
            "a6bd2dd15c964dd194f9a593ebdd18f2",
            "c4f7dbf788b547109f0f2f67096b3357",
            "19bd32aa972944489d11f21b9fd76e2c",
            "ddaee2e07a2246cd9a68ae73a395430d",
            "69758bd4cdb34c9a94dd2233f48468f8",
            "9b98f4794bba4e0b823fd1d65335b25d",
            "7d8ebada3971423485e1d579d7651176",
            "c69d151aca204095b9aa834bdfa4fbed",
            "b95a94c9b8bb49a1967eb216af78ba35",
            "c6a1a2ea0dcf41c29fe478f3fcca976d",
            "ad804178c40c4395b973948dbc7d471a",
            "d474bc4c022b4c5f84e11947197e3770",
            "94f57f338eca4fedafeb12ac00f8f7ee",
            "cccbe0525d27489aa3d4ceb75f3abc6d",
            "2bd8c6e8fc2a47458d48445f973cc13e",
            "560a50540fd44ec2a4891ab72c6b6d3e",
            "8a47101c942c4c3092122c9bec75ea15",
            "eac3b4a94d814a0f9225d09471e1d2d1",
            "90c08c8ac29441898b664f75dc2690ba",
            "25a1c150b5ba401b9c58f080cdb798ae",
            "cd9e8ed7d91a41a0afb6bd982a9ea994"
          ]
        },
        "id": "Po350CGF1jNH",
        "outputId": "0131dbe3-b3ab-4740-a953-430e3a9f9b4f"
      },
      "outputs": [
        {
          "output_type": "stream",
          "name": "stderr",
          "text": [
            "No model was supplied, defaulted to distilbert-base-uncased-finetuned-sst-2-english and revision af0f99b (https://huggingface.co/distilbert-base-uncased-finetuned-sst-2-english).\n",
            "Using a pipeline without specifying a model name and revision in production is not recommended.\n"
          ]
        },
        {
          "output_type": "display_data",
          "data": {
            "text/plain": [
              "config.json:   0%|          | 0.00/629 [00:00<?, ?B/s]"
            ],
            "application/vnd.jupyter.widget-view+json": {
              "version_major": 2,
              "version_minor": 0,
              "model_id": "f1d938d1add243a18e4816dbb899de36"
            }
          },
          "metadata": {}
        },
        {
          "output_type": "display_data",
          "data": {
            "text/plain": [
              "model.safetensors:   0%|          | 0.00/268M [00:00<?, ?B/s]"
            ],
            "application/vnd.jupyter.widget-view+json": {
              "version_major": 2,
              "version_minor": 0,
              "model_id": "a6668be1dd114196bccde60961558103"
            }
          },
          "metadata": {}
        },
        {
          "output_type": "display_data",
          "data": {
            "text/plain": [
              "tokenizer_config.json:   0%|          | 0.00/48.0 [00:00<?, ?B/s]"
            ],
            "application/vnd.jupyter.widget-view+json": {
              "version_major": 2,
              "version_minor": 0,
              "model_id": "c25cff8d372542e38c5b11bf07c4c4ca"
            }
          },
          "metadata": {}
        },
        {
          "output_type": "display_data",
          "data": {
            "text/plain": [
              "vocab.txt:   0%|          | 0.00/232k [00:00<?, ?B/s]"
            ],
            "application/vnd.jupyter.widget-view+json": {
              "version_major": 2,
              "version_minor": 0,
              "model_id": "ad804178c40c4395b973948dbc7d471a"
            }
          },
          "metadata": {}
        }
      ],
      "source": [
        "nlp = pipeline(\"sentiment-analysis\")"
      ]
    },
    {
      "cell_type": "code",
      "execution_count": null,
      "metadata": {
        "id": "XynpBQ4r4-Ff"
      },
      "outputs": [],
      "source": [
        "max_sequence_length = 512"
      ]
    },
    {
      "cell_type": "code",
      "execution_count": null,
      "metadata": {
        "id": "pHCJCO2S5AYV"
      },
      "outputs": [],
      "source": [
        "rev['text'] = rev['text'].apply(lambda x: x[:max_sequence_length])"
      ]
    },
    {
      "cell_type": "code",
      "execution_count": null,
      "metadata": {
        "id": "7XJq3Wfd3uGt"
      },
      "outputs": [],
      "source": [
        "rev['sentiment'] = rev['text'].apply(lambda x: nlp(x)[0]['label'])"
      ]
    },
    {
      "cell_type": "code",
      "execution_count": null,
      "metadata": {
        "id": "IVOgrfEy3xKF"
      },
      "outputs": [],
      "source": [
        "sentiment_distribution = rev['sentiment'].value_counts()"
      ]
    },
    {
      "cell_type": "code",
      "execution_count": null,
      "metadata": {
        "colab": {
          "base_uri": "https://localhost:8080/"
        },
        "id": "YslVUy1k319R",
        "outputId": "bcdbed66-2f6b-446a-d6b2-d62fd3cedc19"
      },
      "outputs": [
        {
          "output_type": "execute_result",
          "data": {
            "text/plain": [
              "POSITIVE    18627\n",
              "NEGATIVE     8663\n",
              "Name: sentiment, dtype: int64"
            ]
          },
          "metadata": {},
          "execution_count": 159
        }
      ],
      "source": [
        "sentiment_distribution"
      ]
    },
    {
      "cell_type": "code",
      "execution_count": null,
      "metadata": {
        "colab": {
          "base_uri": "https://localhost:8080/"
        },
        "id": "ZAOBqSBh35eS",
        "outputId": "8c53d4e9-46d3-4133-d32a-4713e36da8fc"
      },
      "outputs": [
        {
          "output_type": "display_data",
          "data": {
            "text/plain": [
              "<Figure size 640x480 with 1 Axes>"
            ],
            "image/png": "[encoded data removed]"
          },
          "metadata": {}
        }
      ],
      "source": [
        "sentiment_distribution.plot(kind='bar', rot=0, color=['green', 'red'])\n",
        "plt.title('Distribución de Sentimientos en las Reviews')\n",
        "plt.xlabel('Sentimiento')\n",
        "plt.ylabel('Cantidad de Reviews')\n",
        "plt.show()"
      ]
    },
    {
      "cell_type": "code",
      "execution_count": null,
      "metadata": {
        "id": "gITcIvC5RQVX"
      },
      "outputs": [],
      "source": [
        "#Si se quisiera agregar una clasificación adicional al sentimiento, por ejemplo, neutral, se puede establecer un umbral, por ejemplo, si la diferencia entre\n",
        "#las probabilidades de un sentimiento positivo y negativo es pequeña."
      ]
    },
    {
      "cell_type": "code",
      "execution_count": null,
      "metadata": {
        "id": "hvDJ5ryyTBkv"
      },
      "outputs": [],
      "source": [
        "def get_sentiment_label(probabilities, neutral_threshold=0.1):\n",
        "    positive_prob = probabilities['score'] if probabilities['label'] == 'POSITIVE' else 1 - probabilities['score']\n",
        "    negative_prob = probabilities['score'] if probabilities['label'] == 'NEGATIVE' else 1 - probabilities['score']\n",
        "\n",
        "    if abs(positive_prob - negative_prob) < neutral_threshold:\n",
        "        return 'NEUTRAL'\n",
        "    else:\n",
        "        return probabilities['label']"
      ]
    },
    {
      "cell_type": "code",
      "execution_count": null,
      "metadata": {
        "id": "pHNZzx0Mdi9P"
      },
      "outputs": [],
      "source": [
        "rev['text'] = rev['text'].apply(lambda x: x[:max_sequence_length])"
      ]
    },
    {
      "cell_type": "code",
      "execution_count": null,
      "metadata": {
        "id": "sLuBOb9Kdlt3"
      },
      "outputs": [],
      "source": [
        "sentiment_probabilities = nlp(list(rev['text'].values.tolist()))"
      ]
    },
    {
      "cell_type": "code",
      "execution_count": null,
      "metadata": {
        "id": "o-3TM7D1dn-_"
      },
      "outputs": [],
      "source": [
        "rev['sentiment'] = [get_sentiment_label(prob) for prob in sentiment_probabilities]"
      ]
    },
    {
      "cell_type": "code",
      "execution_count": null,
      "metadata": {
        "id": "XX_IyzjAdrGt"
      },
      "outputs": [],
      "source": [
        "sentiment_distribution = rev['sentiment'].value_counts()"
      ]
    },
    {
      "cell_type": "code",
      "execution_count": null,
      "metadata": {
        "colab": {
          "base_uri": "https://localhost:8080/",
          "height": 54
        },
        "id": "d5qyW7fwTumO",
        "outputId": "5605cad1-e3ff-4e58-c1bb-3bd2bce9932e"
      },
      "outputs": [
        {
          "output_type": "display_data",
          "data": {
            "text/plain": [
              "<Figure size 640x480 with 1 Axes>"
            ],
            "image/png": "[encoded data removed]"
          },
          "metadata": {}
        }
      ],
      "source": [
        "sentiment_distribution.plot(kind='bar', rot=0, color=['green', 'red', 'gray'])\n",
        "plt.title('Distribución de Sentimientos en las Reviews (con Neutral)')\n",
        "plt.xlabel('Sentimiento')\n",
        "plt.ylabel('Cantidad de Reviews')\n",
        "plt.show()"
      ]
    },
    {
      "cell_type": "markdown",
      "metadata": {
        "id": "NH_tYygt03HP"
      },
      "source": [
        "**SECCIÓN 4** - CONCLUSIÓN"
      ]
    },
    {
      "cell_type": "markdown",
      "metadata": {
        "id": "VXExjmzG1Qk3"
      },
      "source": [
        "En esta entrega hubo desafíos técnicos en la exploración y manipulación de datos, dado que muchas de las líneas de código requerían un tiempo considerable de ejecución a la vez de que era alta la demanda de recursos del procesador.\n",
        "Resumiento, se encontró que no existe una correlación fuerte entre lo que se expresa en una review y el rating que se le asigna, y que el sentimiento inducido es ampliamente visible de ser positivo o negativo, siendo prácticamente despreciable la brecha entre ambos oscilando en la apreciación de tomarlo como neutral. Por otro lado, los votos que se dieron por estar de acuerdo con una review puntualmente, si bien define una interacción con el usuario que escribe y no con el negocio puntualmente, de igual forma marca una tendencia que enaltese aún más la apreciación de este, dado que hay factores tales como personalidad y tipo de relación que impactan en el contagio emocional de lo que se lee. Aún así, hay más lectores que no reaccionan a las reviews, de los que si lo hacen, por lo que se podría decir que no se evidencia una influencia totalmente. Muchos de estos parámetros podrían ser analizados en base a otros enfoques para estudiar el comportamiento del usuario, tanto sea de manera directa como indirecta en al momento de expresar su experiencia acerca de la satisfacción, conformidad o no, con cualquier foco que esté sometido a la opinión.\n",
        "\n",
        "\n"
      ]
    },
    {
      "cell_type": "code",
      "execution_count": null,
      "metadata": {
        "id": "cYazgtAD1rlO"
      },
      "outputs": [],
      "source": [
        "#FIN."
      ]
    }
  ],
  "metadata": {
    "colab": {
      "provenance": []
    },
    "kernelspec": {
      "display_name": "Python 3",
      "name": "python3"
    },
    "language_info": {
      "name": "python"
    },
    "widgets": {
      "application/vnd.jupyter.widget-state+json": {
        "f1d938d1add243a18e4816dbb899de36": {
          "model_module": "@jupyter-widgets/controls",
          "model_name": "HBoxModel",
          "model_module_version": "1.5.0",
          "state": {
            "_dom_classes": [],
            "_model_module": "@jupyter-widgets/controls",
            "_model_module_version": "1.5.0",
            "_model_name": "HBoxModel",
            "_view_count": null,
            "_view_module": "@jupyter-widgets/controls",
            "_view_module_version": "1.5.0",
            "_view_name": "HBoxView",
            "box_style": "",
            "children": [
              "IPY_MODEL_116d8bb161684737b359aea1b2f2c898",
              "IPY_MODEL_c9ce4e1155ab46bcb8975fe3b7befea1",
              "IPY_MODEL_c70f5a9571db4a00bff4bb8781c464a6"
            ],
            "layout": "IPY_MODEL_6ae3374dbed24b60a9de6cde9b969543"
          }
        },
        "116d8bb161684737b359aea1b2f2c898": {
          "model_module": "@jupyter-widgets/controls",
          "model_name": "HTMLModel",
          "model_module_version": "1.5.0",
          "state": {
            "_dom_classes": [],
            "_model_module": "@jupyter-widgets/controls",
            "_model_module_version": "1.5.0",
            "_model_name": "HTMLModel",
            "_view_count": null,
            "_view_module": "@jupyter-widgets/controls",
            "_view_module_version": "1.5.0",
            "_view_name": "HTMLView",
            "description": "",
            "description_tooltip": null,
            "layout": "IPY_MODEL_76fb8d3b67ed4aa5a7731c8b4084ba21",
            "placeholder": "​",
            "style": "IPY_MODEL_85b7d00cb5224bc9a0870ec26bba9440",
            "value": "config.json: 100%"
          }
        },
        "c9ce4e1155ab46bcb8975fe3b7befea1": {
          "model_module": "@jupyter-widgets/controls",
          "model_name": "FloatProgressModel",
          "model_module_version": "1.5.0",
          "state": {
            "_dom_classes": [],
            "_model_module": "@jupyter-widgets/controls",
            "_model_module_version": "1.5.0",
            "_model_name": "FloatProgressModel",
            "_view_count": null,
            "_view_module": "@jupyter-widgets/controls",
            "_view_module_version": "1.5.0",
            "_view_name": "ProgressView",
            "bar_style": "success",
            "description": "",
            "description_tooltip": null,
            "layout": "IPY_MODEL_951758b629c14f4d9d42e8bd981dcb1e",
            "max": 629,
            "min": 0,
            "orientation": "horizontal",
            "style": "IPY_MODEL_7b8b8b2821d449f4abddbb764ab705c8",
            "value": 629
          }
        },
        "c70f5a9571db4a00bff4bb8781c464a6": {
          "model_module": "@jupyter-widgets/controls",
          "model_name": "HTMLModel",
          "model_module_version": "1.5.0",
          "state": {
            "_dom_classes": [],
            "_model_module": "@jupyter-widgets/controls",
            "_model_module_version": "1.5.0",
            "_model_name": "HTMLModel",
            "_view_count": null,
            "_view_module": "@jupyter-widgets/controls",
            "_view_module_version": "1.5.0",
            "_view_name": "HTMLView",
            "description": "",
            "description_tooltip": null,
            "layout": "IPY_MODEL_f9e7b41373904632baecfc6163efa144",
            "placeholder": "​",
            "style": "IPY_MODEL_2b9752ca7be84054b0c265523af3403d",
            "value": " 629/629 [00:00&lt;00:00, 31.1kB/s]"
          }
        },
        "6ae3374dbed24b60a9de6cde9b969543": {
          "model_module": "@jupyter-widgets/base",
          "model_name": "LayoutModel",
          "model_module_version": "1.2.0",
          "state": {
            "_model_module": "@jupyter-widgets/base",
            "_model_module_version": "1.2.0",
            "_model_name": "LayoutModel",
            "_view_count": null,
            "_view_module": "@jupyter-widgets/base",
            "_view_module_version": "1.2.0",
            "_view_name": "LayoutView",
            "align_content": null,
            "align_items": null,
            "align_self": null,
            "border": null,
            "bottom": null,
            "display": null,
            "flex": null,
            "flex_flow": null,
            "grid_area": null,
            "grid_auto_columns": null,
            "grid_auto_flow": null,
            "grid_auto_rows": null,
            "grid_column": null,
            "grid_gap": null,
            "grid_row": null,
            "grid_template_areas": null,
            "grid_template_columns": null,
            "grid_template_rows": null,
            "height": null,
            "justify_content": null,
            "justify_items": null,
            "left": null,
            "margin": null,
            "max_height": null,
            "max_width": null,
            "min_height": null,
            "min_width": null,
            "object_fit": null,
            "object_position": null,
            "order": null,
            "overflow": null,
            "overflow_x": null,
            "overflow_y": null,
            "padding": null,
            "right": null,
            "top": null,
            "visibility": null,
            "width": null
          }
        },
        "76fb8d3b67ed4aa5a7731c8b4084ba21": {
          "model_module": "@jupyter-widgets/base",
          "model_name": "LayoutModel",
          "model_module_version": "1.2.0",
          "state": {
            "_model_module": "@jupyter-widgets/base",
            "_model_module_version": "1.2.0",
            "_model_name": "LayoutModel",
            "_view_count": null,
            "_view_module": "@jupyter-widgets/base",
            "_view_module_version": "1.2.0",
            "_view_name": "LayoutView",
            "align_content": null,
            "align_items": null,
            "align_self": null,
            "border": null,
            "bottom": null,
            "display": null,
            "flex": null,
            "flex_flow": null,
            "grid_area": null,
            "grid_auto_columns": null,
            "grid_auto_flow": null,
            "grid_auto_rows": null,
            "grid_column": null,
            "grid_gap": null,
            "grid_row": null,
            "grid_template_areas": null,
            "grid_template_columns": null,
            "grid_template_rows": null,
            "height": null,
            "justify_content": null,
            "justify_items": null,
            "left": null,
            "margin": null,
            "max_height": null,
            "max_width": null,
            "min_height": null,
            "min_width": null,
            "object_fit": null,
            "object_position": null,
            "order": null,
            "overflow": null,
            "overflow_x": null,
            "overflow_y": null,
            "padding": null,
            "right": null,
            "top": null,
            "visibility": null,
            "width": null
          }
        },
        "85b7d00cb5224bc9a0870ec26bba9440": {
          "model_module": "@jupyter-widgets/controls",
          "model_name": "DescriptionStyleModel",
          "model_module_version": "1.5.0",
          "state": {
            "_model_module": "@jupyter-widgets/controls",
            "_model_module_version": "1.5.0",
            "_model_name": "DescriptionStyleModel",
            "_view_count": null,
            "_view_module": "@jupyter-widgets/base",
            "_view_module_version": "1.2.0",
            "_view_name": "StyleView",
            "description_width": ""
          }
        },
        "951758b629c14f4d9d42e8bd981dcb1e": {
          "model_module": "@jupyter-widgets/base",
          "model_name": "LayoutModel",
          "model_module_version": "1.2.0",
          "state": {
            "_model_module": "@jupyter-widgets/base",
            "_model_module_version": "1.2.0",
            "_model_name": "LayoutModel",
            "_view_count": null,
            "_view_module": "@jupyter-widgets/base",
            "_view_module_version": "1.2.0",
            "_view_name": "LayoutView",
            "align_content": null,
            "align_items": null,
            "align_self": null,
            "border": null,
            "bottom": null,
            "display": null,
            "flex": null,
            "flex_flow": null,
            "grid_area": null,
            "grid_auto_columns": null,
            "grid_auto_flow": null,
            "grid_auto_rows": null,
            "grid_column": null,
            "grid_gap": null,
            "grid_row": null,
            "grid_template_areas": null,
            "grid_template_columns": null,
            "grid_template_rows": null,
            "height": null,
            "justify_content": null,
            "justify_items": null,
            "left": null,
            "margin": null,
            "max_height": null,
            "max_width": null,
            "min_height": null,
            "min_width": null,
            "object_fit": null,
            "object_position": null,
            "order": null,
            "overflow": null,
            "overflow_x": null,
            "overflow_y": null,
            "padding": null,
            "right": null,
            "top": null,
            "visibility": null,
            "width": null
          }
        },
        "7b8b8b2821d449f4abddbb764ab705c8": {
          "model_module": "@jupyter-widgets/controls",
          "model_name": "ProgressStyleModel",
          "model_module_version": "1.5.0",
          "state": {
            "_model_module": "@jupyter-widgets/controls",
            "_model_module_version": "1.5.0",
            "_model_name": "ProgressStyleModel",
            "_view_count": null,
            "_view_module": "@jupyter-widgets/base",
            "_view_module_version": "1.2.0",
            "_view_name": "StyleView",
            "bar_color": null,
            "description_width": ""
          }
        },
        "f9e7b41373904632baecfc6163efa144": {
          "model_module": "@jupyter-widgets/base",
          "model_name": "LayoutModel",
          "model_module_version": "1.2.0",
          "state": {
            "_model_module": "@jupyter-widgets/base",
            "_model_module_version": "1.2.0",
            "_model_name": "LayoutModel",
            "_view_count": null,
            "_view_module": "@jupyter-widgets/base",
            "_view_module_version": "1.2.0",
            "_view_name": "LayoutView",
            "align_content": null,
            "align_items": null,
            "align_self": null,
            "border": null,
            "bottom": null,
            "display": null,
            "flex": null,
            "flex_flow": null,
            "grid_area": null,
            "grid_auto_columns": null,
            "grid_auto_flow": null,
            "grid_auto_rows": null,
            "grid_column": null,
            "grid_gap": null,
            "grid_row": null,
            "grid_template_areas": null,
            "grid_template_columns": null,
            "grid_template_rows": null,
            "height": null,
            "justify_content": null,
            "justify_items": null,
            "left": null,
            "margin": null,
            "max_height": null,
            "max_width": null,
            "min_height": null,
            "min_width": null,
            "object_fit": null,
            "object_position": null,
            "order": null,
            "overflow": null,
            "overflow_x": null,
            "overflow_y": null,
            "padding": null,
            "right": null,
            "top": null,
            "visibility": null,
            "width": null
          }
        },
        "2b9752ca7be84054b0c265523af3403d": {
          "model_module": "@jupyter-widgets/controls",
          "model_name": "DescriptionStyleModel",
          "model_module_version": "1.5.0",
          "state": {
            "_model_module": "@jupyter-widgets/controls",
            "_model_module_version": "1.5.0",
            "_model_name": "DescriptionStyleModel",
            "_view_count": null,
            "_view_module": "@jupyter-widgets/base",
            "_view_module_version": "1.2.0",
            "_view_name": "StyleView",
            "description_width": ""
          }
        },
        "a6668be1dd114196bccde60961558103": {
          "model_module": "@jupyter-widgets/controls",
          "model_name": "HBoxModel",
          "model_module_version": "1.5.0",
          "state": {
            "_dom_classes": [],
            "_model_module": "@jupyter-widgets/controls",
            "_model_module_version": "1.5.0",
            "_model_name": "HBoxModel",
            "_view_count": null,
            "_view_module": "@jupyter-widgets/controls",
            "_view_module_version": "1.5.0",
            "_view_name": "HBoxView",
            "box_style": "",
            "children": [
              "IPY_MODEL_5d687db55e624822a9614068253f89f4",
              "IPY_MODEL_37c6cb9b4422455bb42991d299d08167",
              "IPY_MODEL_473a79c167d64273896c4183e9c3b08d"
            ],
            "layout": "IPY_MODEL_ad67629609d14ae78ea001f4181d216b"
          }
        },
        "5d687db55e624822a9614068253f89f4": {
          "model_module": "@jupyter-widgets/controls",
          "model_name": "HTMLModel",
          "model_module_version": "1.5.0",
          "state": {
            "_dom_classes": [],
            "_model_module": "@jupyter-widgets/controls",
            "_model_module_version": "1.5.0",
            "_model_name": "HTMLModel",
            "_view_count": null,
            "_view_module": "@jupyter-widgets/controls",
            "_view_module_version": "1.5.0",
            "_view_name": "HTMLView",
            "description": "",
            "description_tooltip": null,
            "layout": "IPY_MODEL_b0ad02d4cddd4e4e97d76062a8e52598",
            "placeholder": "​",
            "style": "IPY_MODEL_f06511eb36db46f3a28beea020b047e0",
            "value": "model.safetensors: 100%"
          }
        },
        "37c6cb9b4422455bb42991d299d08167": {
          "model_module": "@jupyter-widgets/controls",
          "model_name": "FloatProgressModel",
          "model_module_version": "1.5.0",
          "state": {
            "_dom_classes": [],
            "_model_module": "@jupyter-widgets/controls",
            "_model_module_version": "1.5.0",
            "_model_name": "FloatProgressModel",
            "_view_count": null,
            "_view_module": "@jupyter-widgets/controls",
            "_view_module_version": "1.5.0",
            "_view_name": "ProgressView",
            "bar_style": "success",
            "description": "",
            "description_tooltip": null,
            "layout": "IPY_MODEL_0ea065e8b8c6430bab3dd1498caeea53",
            "max": 267832558,
            "min": 0,
            "orientation": "horizontal",
            "style": "IPY_MODEL_aac02b095b4a463f9dadb18662c61724",
            "value": 267832558
          }
        },
        "473a79c167d64273896c4183e9c3b08d": {
          "model_module": "@jupyter-widgets/controls",
          "model_name": "HTMLModel",
          "model_module_version": "1.5.0",
          "state": {
            "_dom_classes": [],
            "_model_module": "@jupyter-widgets/controls",
            "_model_module_version": "1.5.0",
            "_model_name": "HTMLModel",
            "_view_count": null,
            "_view_module": "@jupyter-widgets/controls",
            "_view_module_version": "1.5.0",
            "_view_name": "HTMLView",
            "description": "",
            "description_tooltip": null,
            "layout": "IPY_MODEL_22759ff226a545eba01fc27f4480f3c1",
            "placeholder": "​",
            "style": "IPY_MODEL_6fea697315ef4439b2847d55902e26a2",
            "value": " 268M/268M [00:04&lt;00:00, 47.2MB/s]"
          }
        },
        "ad67629609d14ae78ea001f4181d216b": {
          "model_module": "@jupyter-widgets/base",
          "model_name": "LayoutModel",
          "model_module_version": "1.2.0",
          "state": {
            "_model_module": "@jupyter-widgets/base",
            "_model_module_version": "1.2.0",
            "_model_name": "LayoutModel",
            "_view_count": null,
            "_view_module": "@jupyter-widgets/base",
            "_view_module_version": "1.2.0",
            "_view_name": "LayoutView",
            "align_content": null,
            "align_items": null,
            "align_self": null,
            "border": null,
            "bottom": null,
            "display": null,
            "flex": null,
            "flex_flow": null,
            "grid_area": null,
            "grid_auto_columns": null,
            "grid_auto_flow": null,
            "grid_auto_rows": null,
            "grid_column": null,
            "grid_gap": null,
            "grid_row": null,
            "grid_template_areas": null,
            "grid_template_columns": null,
            "grid_template_rows": null,
            "height": null,
            "justify_content": null,
            "justify_items": null,
            "left": null,
            "margin": null,
            "max_height": null,
            "max_width": null,
            "min_height": null,
            "min_width": null,
            "object_fit": null,
            "object_position": null,
            "order": null,
            "overflow": null,
            "overflow_x": null,
            "overflow_y": null,
            "padding": null,
            "right": null,
            "top": null,
            "visibility": null,
            "width": null
          }
        },
        "b0ad02d4cddd4e4e97d76062a8e52598": {
          "model_module": "@jupyter-widgets/base",
          "model_name": "LayoutModel",
          "model_module_version": "1.2.0",
          "state": {
            "_model_module": "@jupyter-widgets/base",
            "_model_module_version": "1.2.0",
            "_model_name": "LayoutModel",
            "_view_count": null,
            "_view_module": "@jupyter-widgets/base",
            "_view_module_version": "1.2.0",
            "_view_name": "LayoutView",
            "align_content": null,
            "align_items": null,
            "align_self": null,
            "border": null,
            "bottom": null,
            "display": null,
            "flex": null,
            "flex_flow": null,
            "grid_area": null,
            "grid_auto_columns": null,
            "grid_auto_flow": null,
            "grid_auto_rows": null,
            "grid_column": null,
            "grid_gap": null,
            "grid_row": null,
            "grid_template_areas": null,
            "grid_template_columns": null,
            "grid_template_rows": null,
            "height": null,
            "justify_content": null,
            "justify_items": null,
            "left": null,
            "margin": null,
            "max_height": null,
            "max_width": null,
            "min_height": null,
            "min_width": null,
            "object_fit": null,
            "object_position": null,
            "order": null,
            "overflow": null,
            "overflow_x": null,
            "overflow_y": null,
            "padding": null,
            "right": null,
            "top": null,
            "visibility": null,
            "width": null
          }
        },
        "f06511eb36db46f3a28beea020b047e0": {
          "model_module": "@jupyter-widgets/controls",
          "model_name": "DescriptionStyleModel",
          "model_module_version": "1.5.0",
          "state": {
            "_model_module": "@jupyter-widgets/controls",
            "_model_module_version": "1.5.0",
            "_model_name": "DescriptionStyleModel",
            "_view_count": null,
            "_view_module": "@jupyter-widgets/base",
            "_view_module_version": "1.2.0",
            "_view_name": "StyleView",
            "description_width": ""
          }
        },
        "0ea065e8b8c6430bab3dd1498caeea53": {
          "model_module": "@jupyter-widgets/base",
          "model_name": "LayoutModel",
          "model_module_version": "1.2.0",
          "state": {
            "_model_module": "@jupyter-widgets/base",
            "_model_module_version": "1.2.0",
            "_model_name": "LayoutModel",
            "_view_count": null,
            "_view_module": "@jupyter-widgets/base",
            "_view_module_version": "1.2.0",
            "_view_name": "LayoutView",
            "align_content": null,
            "align_items": null,
            "align_self": null,
            "border": null,
            "bottom": null,
            "display": null,
            "flex": null,
            "flex_flow": null,
            "grid_area": null,
            "grid_auto_columns": null,
            "grid_auto_flow": null,
            "grid_auto_rows": null,
            "grid_column": null,
            "grid_gap": null,
            "grid_row": null,
            "grid_template_areas": null,
            "grid_template_columns": null,
            "grid_template_rows": null,
            "height": null,
            "justify_content": null,
            "justify_items": null,
            "left": null,
            "margin": null,
            "max_height": null,
            "max_width": null,
            "min_height": null,
            "min_width": null,
            "object_fit": null,
            "object_position": null,
            "order": null,
            "overflow": null,
            "overflow_x": null,
            "overflow_y": null,
            "padding": null,
            "right": null,
            "top": null,
            "visibility": null,
            "width": null
          }
        },
        "aac02b095b4a463f9dadb18662c61724": {
          "model_module": "@jupyter-widgets/controls",
          "model_name": "ProgressStyleModel",
          "model_module_version": "1.5.0",
          "state": {
            "_model_module": "@jupyter-widgets/controls",
            "_model_module_version": "1.5.0",
            "_model_name": "ProgressStyleModel",
            "_view_count": null,
            "_view_module": "@jupyter-widgets/base",
            "_view_module_version": "1.2.0",
            "_view_name": "StyleView",
            "bar_color": null,
            "description_width": ""
          }
        },
        "22759ff226a545eba01fc27f4480f3c1": {
          "model_module": "@jupyter-widgets/base",
          "model_name": "LayoutModel",
          "model_module_version": "1.2.0",
          "state": {
            "_model_module": "@jupyter-widgets/base",
            "_model_module_version": "1.2.0",
            "_model_name": "LayoutModel",
            "_view_count": null,
            "_view_module": "@jupyter-widgets/base",
            "_view_module_version": "1.2.0",
            "_view_name": "LayoutView",
            "align_content": null,
            "align_items": null,
            "align_self": null,
            "border": null,
            "bottom": null,
            "display": null,
            "flex": null,
            "flex_flow": null,
            "grid_area": null,
            "grid_auto_columns": null,
            "grid_auto_flow": null,
            "grid_auto_rows": null,
            "grid_column": null,
            "grid_gap": null,
            "grid_row": null,
            "grid_template_areas": null,
            "grid_template_columns": null,
            "grid_template_rows": null,
            "height": null,
            "justify_content": null,
            "justify_items": null,
            "left": null,
            "margin": null,
            "max_height": null,
            "max_width": null,
            "min_height": null,
            "min_width": null,
            "object_fit": null,
            "object_position": null,
            "order": null,
            "overflow": null,
            "overflow_x": null,
            "overflow_y": null,
            "padding": null,
            "right": null,
            "top": null,
            "visibility": null,
            "width": null
          }
        },
        "6fea697315ef4439b2847d55902e26a2": {
          "model_module": "@jupyter-widgets/controls",
          "model_name": "DescriptionStyleModel",
          "model_module_version": "1.5.0",
          "state": {
            "_model_module": "@jupyter-widgets/controls",
            "_model_module_version": "1.5.0",
            "_model_name": "DescriptionStyleModel",
            "_view_count": null,
            "_view_module": "@jupyter-widgets/base",
            "_view_module_version": "1.2.0",
            "_view_name": "StyleView",
            "description_width": ""
          }
        },
        "c25cff8d372542e38c5b11bf07c4c4ca": {
          "model_module": "@jupyter-widgets/controls",
          "model_name": "HBoxModel",
          "model_module_version": "1.5.0",
          "state": {
            "_dom_classes": [],
            "_model_module": "@jupyter-widgets/controls",
            "_model_module_version": "1.5.0",
            "_model_name": "HBoxModel",
            "_view_count": null,
            "_view_module": "@jupyter-widgets/controls",
            "_view_module_version": "1.5.0",
            "_view_name": "HBoxView",
            "box_style": "",
            "children": [
              "IPY_MODEL_a6bd2dd15c964dd194f9a593ebdd18f2",
              "IPY_MODEL_c4f7dbf788b547109f0f2f67096b3357",
              "IPY_MODEL_19bd32aa972944489d11f21b9fd76e2c"
            ],
            "layout": "IPY_MODEL_ddaee2e07a2246cd9a68ae73a395430d"
          }
        },
        "a6bd2dd15c964dd194f9a593ebdd18f2": {
          "model_module": "@jupyter-widgets/controls",
          "model_name": "HTMLModel",
          "model_module_version": "1.5.0",
          "state": {
            "_dom_classes": [],
            "_model_module": "@jupyter-widgets/controls",
            "_model_module_version": "1.5.0",
            "_model_name": "HTMLModel",
            "_view_count": null,
            "_view_module": "@jupyter-widgets/controls",
            "_view_module_version": "1.5.0",
            "_view_name": "HTMLView",
            "description": "",
            "description_tooltip": null,
            "layout": "IPY_MODEL_69758bd4cdb34c9a94dd2233f48468f8",
            "placeholder": "​",
            "style": "IPY_MODEL_9b98f4794bba4e0b823fd1d65335b25d",
            "value": "tokenizer_config.json: 100%"
          }
        },
        "c4f7dbf788b547109f0f2f67096b3357": {
          "model_module": "@jupyter-widgets/controls",
          "model_name": "FloatProgressModel",
          "model_module_version": "1.5.0",
          "state": {
            "_dom_classes": [],
            "_model_module": "@jupyter-widgets/controls",
            "_model_module_version": "1.5.0",
            "_model_name": "FloatProgressModel",
            "_view_count": null,
            "_view_module": "@jupyter-widgets/controls",
            "_view_module_version": "1.5.0",
            "_view_name": "ProgressView",
            "bar_style": "success",
            "description": "",
            "description_tooltip": null,
            "layout": "IPY_MODEL_7d8ebada3971423485e1d579d7651176",
            "max": 48,
            "min": 0,
            "orientation": "horizontal",
            "style": "IPY_MODEL_c69d151aca204095b9aa834bdfa4fbed",
            "value": 48
          }
        },
        "19bd32aa972944489d11f21b9fd76e2c": {
          "model_module": "@jupyter-widgets/controls",
          "model_name": "HTMLModel",
          "model_module_version": "1.5.0",
          "state": {
            "_dom_classes": [],
            "_model_module": "@jupyter-widgets/controls",
            "_model_module_version": "1.5.0",
            "_model_name": "HTMLModel",
            "_view_count": null,
            "_view_module": "@jupyter-widgets/controls",
            "_view_module_version": "1.5.0",
            "_view_name": "HTMLView",
            "description": "",
            "description_tooltip": null,
            "layout": "IPY_MODEL_b95a94c9b8bb49a1967eb216af78ba35",
            "placeholder": "​",
            "style": "IPY_MODEL_c6a1a2ea0dcf41c29fe478f3fcca976d",
            "value": " 48.0/48.0 [00:00&lt;00:00, 1.49kB/s]"
          }
        },
        "ddaee2e07a2246cd9a68ae73a395430d": {
          "model_module": "@jupyter-widgets/base",
          "model_name": "LayoutModel",
          "model_module_version": "1.2.0",
          "state": {
            "_model_module": "@jupyter-widgets/base",
            "_model_module_version": "1.2.0",
            "_model_name": "LayoutModel",
            "_view_count": null,
            "_view_module": "@jupyter-widgets/base",
            "_view_module_version": "1.2.0",
            "_view_name": "LayoutView",
            "align_content": null,
            "align_items": null,
            "align_self": null,
            "border": null,
            "bottom": null,
            "display": null,
            "flex": null,
            "flex_flow": null,
            "grid_area": null,
            "grid_auto_columns": null,
            "grid_auto_flow": null,
            "grid_auto_rows": null,
            "grid_column": null,
            "grid_gap": null,
            "grid_row": null,
            "grid_template_areas": null,
            "grid_template_columns": null,
            "grid_template_rows": null,
            "height": null,
            "justify_content": null,
            "justify_items": null,
            "left": null,
            "margin": null,
            "max_height": null,
            "max_width": null,
            "min_height": null,
            "min_width": null,
            "object_fit": null,
            "object_position": null,
            "order": null,
            "overflow": null,
            "overflow_x": null,
            "overflow_y": null,
            "padding": null,
            "right": null,
            "top": null,
            "visibility": null,
            "width": null
          }
        },
        "69758bd4cdb34c9a94dd2233f48468f8": {
          "model_module": "@jupyter-widgets/base",
          "model_name": "LayoutModel",
          "model_module_version": "1.2.0",
          "state": {
            "_model_module": "@jupyter-widgets/base",
            "_model_module_version": "1.2.0",
            "_model_name": "LayoutModel",
            "_view_count": null,
            "_view_module": "@jupyter-widgets/base",
            "_view_module_version": "1.2.0",
            "_view_name": "LayoutView",
            "align_content": null,
            "align_items": null,
            "align_self": null,
            "border": null,
            "bottom": null,
            "display": null,
            "flex": null,
            "flex_flow": null,
            "grid_area": null,
            "grid_auto_columns": null,
            "grid_auto_flow": null,
            "grid_auto_rows": null,
            "grid_column": null,
            "grid_gap": null,
            "grid_row": null,
            "grid_template_areas": null,
            "grid_template_columns": null,
            "grid_template_rows": null,
            "height": null,
            "justify_content": null,
            "justify_items": null,
            "left": null,
            "margin": null,
            "max_height": null,
            "max_width": null,
            "min_height": null,
            "min_width": null,
            "object_fit": null,
            "object_position": null,
            "order": null,
            "overflow": null,
            "overflow_x": null,
            "overflow_y": null,
            "padding": null,
            "right": null,
            "top": null,
            "visibility": null,
            "width": null
          }
        },
        "9b98f4794bba4e0b823fd1d65335b25d": {
          "model_module": "@jupyter-widgets/controls",
          "model_name": "DescriptionStyleModel",
          "model_module_version": "1.5.0",
          "state": {
            "_model_module": "@jupyter-widgets/controls",
            "_model_module_version": "1.5.0",
            "_model_name": "DescriptionStyleModel",
            "_view_count": null,
            "_view_module": "@jupyter-widgets/base",
            "_view_module_version": "1.2.0",
            "_view_name": "StyleView",
            "description_width": ""
          }
        },
        "7d8ebada3971423485e1d579d7651176": {
          "model_module": "@jupyter-widgets/base",
          "model_name": "LayoutModel",
          "model_module_version": "1.2.0",
          "state": {
            "_model_module": "@jupyter-widgets/base",
            "_model_module_version": "1.2.0",
            "_model_name": "LayoutModel",
            "_view_count": null,
            "_view_module": "@jupyter-widgets/base",
            "_view_module_version": "1.2.0",
            "_view_name": "LayoutView",
            "align_content": null,
            "align_items": null,
            "align_self": null,
            "border": null,
            "bottom": null,
            "display": null,
            "flex": null,
            "flex_flow": null,
            "grid_area": null,
            "grid_auto_columns": null,
            "grid_auto_flow": null,
            "grid_auto_rows": null,
            "grid_column": null,
            "grid_gap": null,
            "grid_row": null,
            "grid_template_areas": null,
            "grid_template_columns": null,
            "grid_template_rows": null,
            "height": null,
            "justify_content": null,
            "justify_items": null,
            "left": null,
            "margin": null,
            "max_height": null,
            "max_width": null,
            "min_height": null,
            "min_width": null,
            "object_fit": null,
            "object_position": null,
            "order": null,
            "overflow": null,
            "overflow_x": null,
            "overflow_y": null,
            "padding": null,
            "right": null,
            "top": null,
            "visibility": null,
            "width": null
          }
        },
        "c69d151aca204095b9aa834bdfa4fbed": {
          "model_module": "@jupyter-widgets/controls",
          "model_name": "ProgressStyleModel",
          "model_module_version": "1.5.0",
          "state": {
            "_model_module": "@jupyter-widgets/controls",
            "_model_module_version": "1.5.0",
            "_model_name": "ProgressStyleModel",
            "_view_count": null,
            "_view_module": "@jupyter-widgets/base",
            "_view_module_version": "1.2.0",
            "_view_name": "StyleView",
            "bar_color": null,
            "description_width": ""
          }
        },
        "b95a94c9b8bb49a1967eb216af78ba35": {
          "model_module": "@jupyter-widgets/base",
          "model_name": "LayoutModel",
          "model_module_version": "1.2.0",
          "state": {
            "_model_module": "@jupyter-widgets/base",
            "_model_module_version": "1.2.0",
            "_model_name": "LayoutModel",
            "_view_count": null,
            "_view_module": "@jupyter-widgets/base",
            "_view_module_version": "1.2.0",
            "_view_name": "LayoutView",
            "align_content": null,
            "align_items": null,
            "align_self": null,
            "border": null,
            "bottom": null,
            "display": null,
            "flex": null,
            "flex_flow": null,
            "grid_area": null,
            "grid_auto_columns": null,
            "grid_auto_flow": null,
            "grid_auto_rows": null,
            "grid_column": null,
            "grid_gap": null,
            "grid_row": null,
            "grid_template_areas": null,
            "grid_template_columns": null,
            "grid_template_rows": null,
            "height": null,
            "justify_content": null,
            "justify_items": null,
            "left": null,
            "margin": null,
            "max_height": null,
            "max_width": null,
            "min_height": null,
            "min_width": null,
            "object_fit": null,
            "object_position": null,
            "order": null,
            "overflow": null,
            "overflow_x": null,
            "overflow_y": null,
            "padding": null,
            "right": null,
            "top": null,
            "visibility": null,
            "width": null
          }
        },
        "c6a1a2ea0dcf41c29fe478f3fcca976d": {
          "model_module": "@jupyter-widgets/controls",
          "model_name": "DescriptionStyleModel",
          "model_module_version": "1.5.0",
          "state": {
            "_model_module": "@jupyter-widgets/controls",
            "_model_module_version": "1.5.0",
            "_model_name": "DescriptionStyleModel",
            "_view_count": null,
            "_view_module": "@jupyter-widgets/base",
            "_view_module_version": "1.2.0",
            "_view_name": "StyleView",
            "description_width": ""
          }
        },
        "ad804178c40c4395b973948dbc7d471a": {
          "model_module": "@jupyter-widgets/controls",
          "model_name": "HBoxModel",
          "model_module_version": "1.5.0",
          "state": {
            "_dom_classes": [],
            "_model_module": "@jupyter-widgets/controls",
            "_model_module_version": "1.5.0",
            "_model_name": "HBoxModel",
            "_view_count": null,
            "_view_module": "@jupyter-widgets/controls",
            "_view_module_version": "1.5.0",
            "_view_name": "HBoxView",
            "box_style": "",
            "children": [
              "IPY_MODEL_d474bc4c022b4c5f84e11947197e3770",
              "IPY_MODEL_94f57f338eca4fedafeb12ac00f8f7ee",
              "IPY_MODEL_cccbe0525d27489aa3d4ceb75f3abc6d"
            ],
            "layout": "IPY_MODEL_2bd8c6e8fc2a47458d48445f973cc13e"
          }
        },
        "d474bc4c022b4c5f84e11947197e3770": {
          "model_module": "@jupyter-widgets/controls",
          "model_name": "HTMLModel",
          "model_module_version": "1.5.0",
          "state": {
            "_dom_classes": [],
            "_model_module": "@jupyter-widgets/controls",
            "_model_module_version": "1.5.0",
            "_model_name": "HTMLModel",
            "_view_count": null,
            "_view_module": "@jupyter-widgets/controls",
            "_view_module_version": "1.5.0",
            "_view_name": "HTMLView",
            "description": "",
            "description_tooltip": null,
            "layout": "IPY_MODEL_560a50540fd44ec2a4891ab72c6b6d3e",
            "placeholder": "​",
            "style": "IPY_MODEL_8a47101c942c4c3092122c9bec75ea15",
            "value": "vocab.txt: 100%"
          }
        },
        "94f57f338eca4fedafeb12ac00f8f7ee": {
          "model_module": "@jupyter-widgets/controls",
          "model_name": "FloatProgressModel",
          "model_module_version": "1.5.0",
          "state": {
            "_dom_classes": [],
            "_model_module": "@jupyter-widgets/controls",
            "_model_module_version": "1.5.0",
            "_model_name": "FloatProgressModel",
            "_view_count": null,
            "_view_module": "@jupyter-widgets/controls",
            "_view_module_version": "1.5.0",
            "_view_name": "ProgressView",
            "bar_style": "success",
            "description": "",
            "description_tooltip": null,
            "layout": "IPY_MODEL_eac3b4a94d814a0f9225d09471e1d2d1",
            "max": 231508,
            "min": 0,
            "orientation": "horizontal",
            "style": "IPY_MODEL_90c08c8ac29441898b664f75dc2690ba",
            "value": 231508
          }
        },
        "cccbe0525d27489aa3d4ceb75f3abc6d": {
          "model_module": "@jupyter-widgets/controls",
          "model_name": "HTMLModel",
          "model_module_version": "1.5.0",
          "state": {
            "_dom_classes": [],
            "_model_module": "@jupyter-widgets/controls",
            "_model_module_version": "1.5.0",
            "_model_name": "HTMLModel",
            "_view_count": null,
            "_view_module": "@jupyter-widgets/controls",
            "_view_module_version": "1.5.0",
            "_view_name": "HTMLView",
            "description": "",
            "description_tooltip": null,
            "layout": "IPY_MODEL_25a1c150b5ba401b9c58f080cdb798ae",
            "placeholder": "​",
            "style": "IPY_MODEL_cd9e8ed7d91a41a0afb6bd982a9ea994",
            "value": " 232k/232k [00:00&lt;00:00, 1.80MB/s]"
          }
        },
        "2bd8c6e8fc2a47458d48445f973cc13e": {
          "model_module": "@jupyter-widgets/base",
          "model_name": "LayoutModel",
          "model_module_version": "1.2.0",
          "state": {
            "_model_module": "@jupyter-widgets/base",
            "_model_module_version": "1.2.0",
            "_model_name": "LayoutModel",
            "_view_count": null,
            "_view_module": "@jupyter-widgets/base",
            "_view_module_version": "1.2.0",
            "_view_name": "LayoutView",
            "align_content": null,
            "align_items": null,
            "align_self": null,
            "border": null,
            "bottom": null,
            "display": null,
            "flex": null,
            "flex_flow": null,
            "grid_area": null,
            "grid_auto_columns": null,
            "grid_auto_flow": null,
            "grid_auto_rows": null,
            "grid_column": null,
            "grid_gap": null,
            "grid_row": null,
            "grid_template_areas": null,
            "grid_template_columns": null,
            "grid_template_rows": null,
            "height": null,
            "justify_content": null,
            "justify_items": null,
            "left": null,
            "margin": null,
            "max_height": null,
            "max_width": null,
            "min_height": null,
            "min_width": null,
            "object_fit": null,
            "object_position": null,
            "order": null,
            "overflow": null,
            "overflow_x": null,
            "overflow_y": null,
            "padding": null,
            "right": null,
            "top": null,
            "visibility": null,
            "width": null
          }
        },
        "560a50540fd44ec2a4891ab72c6b6d3e": {
          "model_module": "@jupyter-widgets/base",
          "model_name": "LayoutModel",
          "model_module_version": "1.2.0",
          "state": {
            "_model_module": "@jupyter-widgets/base",
            "_model_module_version": "1.2.0",
            "_model_name": "LayoutModel",
            "_view_count": null,
            "_view_module": "@jupyter-widgets/base",
            "_view_module_version": "1.2.0",
            "_view_name": "LayoutView",
            "align_content": null,
            "align_items": null,
            "align_self": null,
            "border": null,
            "bottom": null,
            "display": null,
            "flex": null,
            "flex_flow": null,
            "grid_area": null,
            "grid_auto_columns": null,
            "grid_auto_flow": null,
            "grid_auto_rows": null,
            "grid_column": null,
            "grid_gap": null,
            "grid_row": null,
            "grid_template_areas": null,
            "grid_template_columns": null,
            "grid_template_rows": null,
            "height": null,
            "justify_content": null,
            "justify_items": null,
            "left": null,
            "margin": null,
            "max_height": null,
            "max_width": null,
            "min_height": null,
            "min_width": null,
            "object_fit": null,
            "object_position": null,
            "order": null,
            "overflow": null,
            "overflow_x": null,
            "overflow_y": null,
            "padding": null,
            "right": null,
            "top": null,
            "visibility": null,
            "width": null
          }
        },
        "8a47101c942c4c3092122c9bec75ea15": {
          "model_module": "@jupyter-widgets/controls",
          "model_name": "DescriptionStyleModel",
          "model_module_version": "1.5.0",
          "state": {
            "_model_module": "@jupyter-widgets/controls",
            "_model_module_version": "1.5.0",
            "_model_name": "DescriptionStyleModel",
            "_view_count": null,
            "_view_module": "@jupyter-widgets/base",
            "_view_module_version": "1.2.0",
            "_view_name": "StyleView",
            "description_width": ""
          }
        },
        "eac3b4a94d814a0f9225d09471e1d2d1": {
          "model_module": "@jupyter-widgets/base",
          "model_name": "LayoutModel",
          "model_module_version": "1.2.0",
          "state": {
            "_model_module": "@jupyter-widgets/base",
            "_model_module_version": "1.2.0",
            "_model_name": "LayoutModel",
            "_view_count": null,
            "_view_module": "@jupyter-widgets/base",
            "_view_module_version": "1.2.0",
            "_view_name": "LayoutView",
            "align_content": null,
            "align_items": null,
            "align_self": null,
            "border": null,
            "bottom": null,
            "display": null,
            "flex": null,
            "flex_flow": null,
            "grid_area": null,
            "grid_auto_columns": null,
            "grid_auto_flow": null,
            "grid_auto_rows": null,
            "grid_column": null,
            "grid_gap": null,
            "grid_row": null,
            "grid_template_areas": null,
            "grid_template_columns": null,
            "grid_template_rows": null,
            "height": null,
            "justify_content": null,
            "justify_items": null,
            "left": null,
            "margin": null,
            "max_height": null,
            "max_width": null,
            "min_height": null,
            "min_width": null,
            "object_fit": null,
            "object_position": null,
            "order": null,
            "overflow": null,
            "overflow_x": null,
            "overflow_y": null,
            "padding": null,
            "right": null,
            "top": null,
            "visibility": null,
            "width": null
          }
        },
        "90c08c8ac29441898b664f75dc2690ba": {
          "model_module": "@jupyter-widgets/controls",
          "model_name": "ProgressStyleModel",
          "model_module_version": "1.5.0",
          "state": {
            "_model_module": "@jupyter-widgets/controls",
            "_model_module_version": "1.5.0",
            "_model_name": "ProgressStyleModel",
            "_view_count": null,
            "_view_module": "@jupyter-widgets/base",
            "_view_module_version": "1.2.0",
            "_view_name": "StyleView",
            "bar_color": null,
            "description_width": ""
          }
        },
        "25a1c150b5ba401b9c58f080cdb798ae": {
          "model_module": "@jupyter-widgets/base",
          "model_name": "LayoutModel",
          "model_module_version": "1.2.0",
          "state": {
            "_model_module": "@jupyter-widgets/base",
            "_model_module_version": "1.2.0",
            "_model_name": "LayoutModel",
            "_view_count": null,
            "_view_module": "@jupyter-widgets/base",
            "_view_module_version": "1.2.0",
            "_view_name": "LayoutView",
            "align_content": null,
            "align_items": null,
            "align_self": null,
            "border": null,
            "bottom": null,
            "display": null,
            "flex": null,
            "flex_flow": null,
            "grid_area": null,
            "grid_auto_columns": null,
            "grid_auto_flow": null,
            "grid_auto_rows": null,
            "grid_column": null,
            "grid_gap": null,
            "grid_row": null,
            "grid_template_areas": null,
            "grid_template_columns": null,
            "grid_template_rows": null,
            "height": null,
            "justify_content": null,
            "justify_items": null,
            "left": null,
            "margin": null,
            "max_height": null,
            "max_width": null,
            "min_height": null,
            "min_width": null,
            "object_fit": null,
            "object_position": null,
            "order": null,
            "overflow": null,
            "overflow_x": null,
            "overflow_y": null,
            "padding": null,
            "right": null,
            "top": null,
            "visibility": null,
            "width": null
          }
        },
        "cd9e8ed7d91a41a0afb6bd982a9ea994": {
          "model_module": "@jupyter-widgets/controls",
          "model_name": "DescriptionStyleModel",
          "model_module_version": "1.5.0",
          "state": {
            "_model_module": "@jupyter-widgets/controls",
            "_model_module_version": "1.5.0",
            "_model_name": "DescriptionStyleModel",
            "_view_count": null,
            "_view_module": "@jupyter-widgets/base",
            "_view_module_version": "1.2.0",
            "_view_name": "StyleView",
            "description_width": ""
          }
        }
      }
    }
  },
  "nbformat": 4,
  "nbformat_minor": 0
}